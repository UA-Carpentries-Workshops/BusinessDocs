{
 "cells": [
  {
   "cell_type": "markdown",
   "metadata": {},
   "source": [
    "---\n",
    "title: \"Plotting\"\n",
    "teaching: 10\n",
    "exercises: 10\n",
    "questions:\n",
    "- \"How can I plot my data?\"\n",
    "objectives:\n",
    "- \"Create a time series plot showing a single data set.\"\n",
    "- \"Create a scatter plot showing relationship between two data sets.\"\n",
    "keypoints:\n",
    "- \"`matplotlib` is the most widely used scientific plotting library in Python.\"\n",
    "- \"Plot data directly from a Pandas data frame.\"\n",
    "- \"Select and transform data, then plot it.\"\n",
    "- \"Many styles of plot are available.\"\n",
    "- \"Can plot many sets of data together.\"\n",
    "---\n",
    "## `matplotlib` is the most widely used scientific plotting library in Python.\n",
    "\n",
    "*   Commonly use a sub-library called `matplotlib.pyplot`.\n",
    "*   The Jupyter Notebook will render plots inline if we ask it to using a \"magic\" command."
   ]
  },
  {
   "cell_type": "code",
   "execution_count": null,
   "metadata": {},
   "outputs": [],
   "source": [
    "%matplotlib inline\n",
    "import matplotlib.pyplot as plt"
   ]
  },
  {
   "cell_type": "markdown",
   "metadata": {},
   "source": [
    "{: .python}\n",
    "\n",
    "*   Simple plots are then (fairly) simple to create."
   ]
  },
  {
   "cell_type": "code",
   "execution_count": null,
   "metadata": {},
   "outputs": [],
   "source": [
    "x = [1, 2, 3, 4, 5]\n",
    "y = [2, 4, 6, 8, 10]\n",
    "\n",
    "plt.plot(x, y)\n",
    "plt.xlabel('Numbers')\n",
    "plt.ylabel('Doubles')"
   ]
  },
  {
   "cell_type": "markdown",
   "metadata": {},
   "source": [
    "{: .python}\n",
    "\n",
    "## Plot data directly from a Pandas data frame.\n",
    "\n",
    "*   We can also plot Pandas data frames.\n",
    "*   This implicitly uses `matplotlib.pyplot`."
   ]
  },
  {
   "cell_type": "code",
   "execution_count": null,
   "metadata": {},
   "outputs": [],
   "source": [
    "import pandas\n",
    "\n",
    "data = pandas.read_csv('data/gapminder_gdp_oceania.csv', index_col='country')\n",
    "data.ix['Australia'].plot()\n",
    "plt.xticks(rotation=90)"
   ]
  },
  {
   "cell_type": "markdown",
   "metadata": {},
   "source": [
    "{: .python}\n",
    "\n",
    "## Select and transform data, then plot it.\n",
    "\n",
    "*   By default, `DataFrame.plot` plots with the rows as the X axis.\n",
    "*   We can transpose the data in order to plot multiple series."
   ]
  },
  {
   "cell_type": "code",
   "execution_count": null,
   "metadata": {},
   "outputs": [],
   "source": [
    "data.T.plot()\n",
    "plt.ylabel('GDP per capita')\n",
    "plt.xticks(rotation=90)"
   ]
  },
  {
   "cell_type": "markdown",
   "metadata": {},
   "source": [
    "{: .python}\n",
    "\n",
    "## Many styles of plot are available.\n",
    "\n",
    "*   For example, do a bar plot using a fancier style."
   ]
  },
  {
   "cell_type": "code",
   "execution_count": null,
   "metadata": {},
   "outputs": [],
   "source": [
    "plt.style.use('ggplot')\n",
    "data.T.plot()\n",
    "plt.xticks(rotation=90)\n",
    "plt.ylabel('GDP per capita')"
   ]
  },
  {
   "cell_type": "markdown",
   "metadata": {},
   "source": [
    "{: .python}\n",
    "\n",
    "*   Extract years from the last four characters of the columns' names.\n",
    "    *   Store these in a list using the Accumulator pattern.\n",
    "*   Can also convert data frame data to a list."
   ]
  },
  {
   "cell_type": "code",
   "execution_count": null,
   "metadata": {},
   "outputs": [],
   "source": [
    "# Accumulator pattern to collect years (as character strings).\n",
    "years = []\n",
    "for col in data.columns:\n",
    "    year = col[-4:]\n",
    "    years.append(year)\n",
    "\n",
    "# Australia data as list.\n",
    "gdp_australia = data.ix['Australia'].tolist()\n",
    "\n",
    "# Plot: 'b-' sets the line style.\n",
    "plt.plot(years, gdp_australia, 'b-')"
   ]
  },
  {
   "cell_type": "markdown",
   "metadata": {},
   "source": [
    "{: .python}\n",
    "\n",
    "## Can plot many sets of data together."
   ]
  },
  {
   "cell_type": "code",
   "execution_count": null,
   "metadata": {},
   "outputs": [],
   "source": [
    "# Accumulator pattern to collect years (as character strings).\n",
    "years = []\n",
    "for col in data.columns:\n",
    "    year = col[-4:]\n",
    "    years.append(year)\n",
    "\n",
    "# Select two countries' worth of data.\n",
    "gdp_australia = data.ix['Australia']\n",
    "gdp_nz = data.ix['New Zealand']\n",
    "\n",
    "# Plot with differently-colored markers.\n",
    "plt.plot(years, gdp_australia, 'b-', label='Australia')\n",
    "plt.plot(years, gdp_nz, 'g-', label='New Zealand')\n",
    "\n",
    "# Create legend.\n",
    "plt.legend(loc='upper left')\n",
    "plt.xlabel('Year')\n",
    "plt.ylabel('GDP per capita ($)')"
   ]
  },
  {
   "cell_type": "markdown",
   "metadata": {},
   "source": [
    "{: .python}\n",
    "\n",
    "*   Plot a scatter plot correlating the GDP of Australia and New Zealand\n",
    "*   Use either `plt.scatter` or `DataFrame.plot.scatter`"
   ]
  },
  {
   "cell_type": "code",
   "execution_count": null,
   "metadata": {},
   "outputs": [],
   "source": [
    "plt.scatter(gdp_australia, gdp_nz)"
   ]
  },
  {
   "cell_type": "markdown",
   "metadata": {},
   "source": [
    "{: .python}"
   ]
  },
  {
   "cell_type": "code",
   "execution_count": null,
   "metadata": {},
   "outputs": [],
   "source": [
    "data.T.plot.scatter(x = 'Australia', y = 'New Zealand')"
   ]
  },
  {
   "cell_type": "markdown",
   "metadata": {},
   "source": [
    "{: .python}\n",
    "\n",
    "> ## Minima and Maxima\n",
    ">\n",
    "> Fill in the blanks below to plot the minimum GDP per capita over time\n",
    "> for all the countries in Europe.\n",
    "> Modify it again to plot the maximum GDP per capita over time for Europe.\n",
    ">\n",
    "> ~~~\n",
    "> data_europe = pandas.read_csv('data/gapminder_gdp_europe.csv')\n",
    "> data_europe.____.plot(label='min')\n",
    "> data_europe.____\n",
    "> plt.legend(loc='best')\n",
    "> ~~~\n",
    "> {: .python}\n",
    "{: .challenge}\n",
    "\n",
    "> ## Correlations\n",
    ">\n",
    "> Modify the example in the notes to create a scatter plot showing\n",
    "> the relationship between the minimum and maximum GDP per capita\n",
    "> among the countries in Asia for each year in the data set.\n",
    "> What relationship do you see (if any)?\n",
    ">\n",
    "> ~~~\n",
    "> data_asia = pandas.read_csv('gapminder_gdp_asia.csv')\n",
    "> data_asia.describe().T.plot(kind='scatter', x='min', y='max')\n",
    "> ~~~\n",
    "> {: .python}\n",
    ">\n",
    "> You might note that the variability in the maximum is much higher than\n",
    "> that of the minimum.  Take a look at the maximum and the max indexes:\n",
    ">\n",
    "> ~~~\n",
    "> data_asia = pandas.read_csv('gapminder_gdp_asia.csv')\n",
    "> data_asia.max().plot()\n",
    "> print(data_asia.idxmax())\n",
    "> print(data_asia.idxmin())\n",
    "> ~~~\n",
    "> {: .python}\n",
    "{: .challenge}\n",
    "\n",
    "> ## More Correlations\n",
    ">\n",
    "> This short programs creates a plot showing\n",
    "> the correlation between GDP and life expectancy for 2007,\n",
    "> normalizing marker size by population:\n",
    ">\n",
    "> ~~~\n",
    "> data_all = pandas.read_csv('gapminder_all.csv')\n",
    "> data_all.plot(kind='scatter', x='gdpPercap_2007', y='lifeExp_2007',\n",
    ">               s=data_all['pop_2007']/1e6)\n",
    "> ~~~\n",
    "> {: .python}\n",
    ">\n",
    "> Using online help and other resources,\n",
    "> explain what each argument to `plot` does.\n",
    "{: .challenge}"
   ]
  }
 ],
 "metadata": {},
 "nbformat": 4,
 "nbformat_minor": 2
}
