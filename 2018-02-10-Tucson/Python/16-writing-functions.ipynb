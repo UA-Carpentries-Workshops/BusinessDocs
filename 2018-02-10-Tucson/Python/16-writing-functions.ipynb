{
 "cells": [
  {
   "cell_type": "markdown",
   "metadata": {},
   "source": [
    "Writing Functions\n",
    "==\n",
    "Teaching: 10  \n",
    "Exercises: 15\n",
    "\n",
    "Questions:\n",
    " * How can I create my own functions?\n",
    "\n",
    "Objectives:\n",
    " * Explain and identify the difference between function definition and function call.\n",
    " * Write a function that takes a small, fixed number of arguments and produces a single result.\n",
    " * Correctly identify local and global variable use in a function.\n",
    " * Correctly identify portions of source code that will be displayed as online help, and in particular distinguish docstrings from comments.\n",
    " * Write short docstrings for functions."
   ]
  },
  {
   "cell_type": "markdown",
   "metadata": {},
   "source": [
    "\n",
    "---\n",
    "## Break programs down into functions to make them easier to understand.\n",
    "\n",
    "*   Human beings can only keep a few items in working memory at a time.\n",
    "*   Understand larger/more complicated ideas by understanding and combining pieces.\n",
    "    *   Components in a machine.\n",
    "    *   Lemmas when proving theorems.\n",
    "*   Functions serve the same purpose in programs.\n",
    "    *   *Encapsulate* complexity so that we can treat it as a single \"thing\".\n",
    "*   Also enables *re-use*.\n",
    "    *   Write one time, use many times.\n",
    "\n",
    "## Define a function using `def` with a name, parameters, and a block of code.\n",
    "\n",
    "*   Begin the definition of a new function with `def`.\n",
    "*   Followed by the name of the function.\n",
    "    *   Must obey the same rules as variable names.\n",
    "*   Then *parameters* in parentheses.\n",
    "    *   Empty parentheses if the function doesn't take any inputs.\n",
    "    *   We will discuss this in detail in a moment.\n",
    "*   Then a colon.\n",
    "*   Then an indented block of code."
   ]
  },
  {
   "cell_type": "code",
   "execution_count": 1,
   "metadata": {
    "collapsed": true
   },
   "outputs": [],
   "source": [
    "def print_greeting():\n",
    "    print('Hello!')"
   ]
  },
  {
   "cell_type": "markdown",
   "metadata": {},
   "source": [
    "## Defining a function does not run it.\n",
    "\n",
    "*   Defining a function does not run it.\n",
    "    *   Like assigning a value to a variable.\n",
    "*   Must call the function to execute the code it contains."
   ]
  },
  {
   "cell_type": "code",
   "execution_count": 2,
   "metadata": {},
   "outputs": [
    {
     "name": "stdout",
     "output_type": "stream",
     "text": [
      "Hello!\n"
     ]
    }
   ],
   "source": [
    "print_greeting()"
   ]
  },
  {
   "cell_type": "markdown",
   "metadata": {},
   "source": [
    "## Arguments in call are matched to parameters in definition.\n",
    "\n",
    "*   Functions are most useful when they can operate on different data.\n",
    "*   Specify *parameters* when defining a function.\n",
    "    *   These become variables when the function is executed.\n",
    "    *   Are assigned the arguments in the call (i.e., the values passed to the function)."
   ]
  },
  {
   "cell_type": "code",
   "execution_count": 3,
   "metadata": {},
   "outputs": [
    {
     "name": "stdout",
     "output_type": "stream",
     "text": [
      "1871/3/19\n"
     ]
    }
   ],
   "source": [
    "def print_date(year, month, day):\n",
    "    joined = str(year) + '/' + str(month) + '/' + str(day)\n",
    "    print(joined)\n",
    "\n",
    "print_date(1871, 3, 19)"
   ]
  },
  {
   "cell_type": "markdown",
   "metadata": {},
   "source": [
    "*   Via [Twitter](https://twitter.com/minisciencegirl/status/693486088963272705):\n",
    "    `()` contains the ingredients for the function\n",
    "    while the body contains the recipe.\n",
    "\n",
    "## Functions may return a result to their caller using `return`.\n",
    "\n",
    "*   Use `return ...` to give a value back to the caller.\n",
    "*   May occur anywhere in the function.\n",
    "*   But functions are easier to understand if `return` occurs:\n",
    "    *   At the start to handle special cases.\n",
    "    *   At the very end, with a final result."
   ]
  },
  {
   "cell_type": "code",
   "execution_count": 4,
   "metadata": {
    "collapsed": true
   },
   "outputs": [],
   "source": [
    "def average(values):\n",
    "    if len(values) == 0:\n",
    "        return None\n",
    "    return sum(values) / len(values)"
   ]
  },
  {
   "cell_type": "code",
   "execution_count": 7,
   "metadata": {},
   "outputs": [
    {
     "name": "stdout",
     "output_type": "stream",
     "text": [
      "average of actual values:\n",
      " 2.6666666666666665\n"
     ]
    }
   ],
   "source": [
    "a = average([1, 3, 4])\n",
    "print('average of actual values:\\n', a)"
   ]
  },
  {
   "cell_type": "code",
   "execution_count": 6,
   "metadata": {},
   "outputs": [
    {
     "name": "stdout",
     "output_type": "stream",
     "text": [
      "average of empty list: None\n"
     ]
    }
   ],
   "source": [
    "print('average of empty list:', average([]))"
   ]
  },
  {
   "cell_type": "markdown",
   "metadata": {},
   "source": [
    "*   Remember: [every function returns something]({{ site.github.url }}/04-built-in/).\n",
    "*   A function that doesn't explicitly `return` a value automatically returns `None`."
   ]
  },
  {
   "cell_type": "code",
   "execution_count": 8,
   "metadata": {},
   "outputs": [
    {
     "name": "stdout",
     "output_type": "stream",
     "text": [
      "1871/3/19\n",
      "result of call is: None\n"
     ]
    }
   ],
   "source": [
    "result = print_date(1871, 3, 19)\n",
    "print('result of call is:', result)"
   ]
  },
  {
   "cell_type": "markdown",
   "metadata": {},
   "source": [
    "## Exercises\n",
    "\n",
    ">## Identifying Syntax Errors\n",
    ">\n",
    ">\n",
    ">1. Read the code below and try to identify what the errors are without running it.\n",
    ">2. Run the code and read the error message. Is it a SyntaxError or an IndentationError?\n",
    ">3. Fix the error.\n",
    ">4. Repeat steps 2 and 3 until you have fixed all the errors.\n",
    ">\n",
    ">`def another_function\n",
    ">  print(\"Syntax errors are annoying.\")\n",
    ">   print(\"But at least python tells us about them!\")\n",
    ">  print(\"So they are usually not too hard to fix.\")`"
   ]
  },
  {
   "cell_type": "markdown",
   "metadata": {},
   "source": [
    ">>### Solution\n",
    ">>`def another_function():\n",
    ">>  print(\"Syntax errors are annoying.\")\n",
    ">>  print(\"But at least Python tells us about them!\")\n",
    ">>  print(\"So they are usually not too hard to fix.\")`"
   ]
  },
  {
   "cell_type": "markdown",
   "metadata": {},
   "source": [
    ">## Definition and Use\n",
    "What does the following program print?\n",
    ">~~~\n",
    ">def report(pressure):\n",
    "   print(\"pressure is\", pressure)\n",
    "\n",
    ">print('calling', report, 22.5)\n",
    "~~~"
   ]
  },
  {
   "cell_type": "markdown",
   "metadata": {},
   "source": [
    ">>### Solution\n",
    ">>calling <function report at 0x000001B23A367048> 22.5\n",
    ">>\n",
    ">>NOTE: A function call always needs parenthesis, otherwise you get memory address of the function object. So, if we wanted to call the function named report, and give it the value 22.5 to report on, we could have our function call as follows\n",
    ">>\n",
    ">>print(\"calling\")  \n",
    ">>report(22.5)"
   ]
  },
  {
   "cell_type": "markdown",
   "metadata": {},
   "source": [
    ">## Order of Operations\n",
    ">\n",
    ">The example above:  \n",
    "\n",
    ">`result = print_date(1871, 3, 19)\n",
    "print('result of call is:', result)`\n",
    "\n",
    "> printed:  \n",
    "\n",
    "> `1871/3/19  \n",
    "> result of call is: None`\n",
    "\n",
    ">a. Explain why the two lines of output appeared in the order they did.\n",
    "\n",
    ">b. What’s wrong in this example?\n",
    "\n",
    ">`def print_date(year, month, day):\n",
    "   joined = str(year) + '/' + str(month) + '/' + str(day)\n",
    "   print(joined)`"
   ]
  },
  {
   "cell_type": "markdown",
   "metadata": {},
   "source": [
    ">>### Solution\n",
    ">>a. Python executes line by line\n",
    ">>\n",
    ">>b. If we want to assign values, the function should return 'joined', rather than print it"
   ]
  },
  {
   "cell_type": "markdown",
   "metadata": {},
   "source": [
    ">## Encapsulation\n",
    ">\n",
    "> Fill in the blanks to create a function that takes a single filename as an argument,\n",
    "> loads the data in the file named by the argument,\n",
    "> and returns the minimum value in that data.\n",
    ">\n",
    "> ~~~\n",
    "> import pandas\n",
    ">\n",
    "> def min_in_data(____):\n",
    ">     data = ____\n",
    ">     return ____\n",
    "> ~~~"
   ]
  },
  {
   "cell_type": "markdown",
   "metadata": {},
   "source": [
    ">>### Solution\n",
    ">>~~~\n",
    ">>import pandas\n",
    ">>\n",
    ">>def min_in_data(filename):\n",
    ">>    data = pandas.read_csv(filename)\n",
    ">>    return min(data)\n",
    ">>~~~"
   ]
  },
  {
   "cell_type": "markdown",
   "metadata": {},
   "source": [
    "> ## Find the First\n",
    ">\n",
    "> Fill in the blanks to create a function that takes a list of numbers as an argument\n",
    "> and returns the first negative value in the list.\n",
    "> What does your function do if the list is empty?\n",
    ">\n",
    "> ~~~\n",
    "> def first_negative(values):\n",
    ">     for v in ____:\n",
    ">         if ____:\n",
    ">             return ____\n",
    "> ~~~"
   ]
  },
  {
   "cell_type": "markdown",
   "metadata": {},
   "source": [
    ">>### Solution\n",
    ">>~~~\n",
    ">>def first_negative(values):\n",
    ">>     for v in values:\n",
    ">>         if v < 0:\n",
    ">>             return v\n",
    ">>~~~\n",
    ">>The function returns nothing if the list is empty"
   ]
  },
  {
   "cell_type": "markdown",
   "metadata": {},
   "source": [
    "> ## Calling by Name\n",
    ">\n",
    "> What does this short program print?\n",
    ">\n",
    "> ~~~\n",
    "> def print_date(year, month, day):\n",
    ">     joined = str(year) + '/' + str(month) + '/' + str(day)\n",
    ">     print(joined)\n",
    ">\n",
    "> print_date(day=1, month=2, year=2003)\n",
    "> ~~~\n",
    ">"
   ]
  },
  {
   "cell_type": "markdown",
   "metadata": {},
   "source": [
    ">>### Solution\n",
    ">>~~~\n",
    ">>2003/2/1\n",
    ">>~~~\n"
   ]
  },
  {
   "cell_type": "markdown",
   "metadata": {},
   "source": [
    "> 1.  When have you seen a function call like this before?\n",
    "> 2.  When and why is it useful to call functions this way?"
   ]
  },
  {
   "cell_type": "markdown",
   "metadata": {},
   "source": [
    ">## Encapsulate If/Print Block\n",
    ">The code below will run on a label-printer for chicken eggs. A digital scale will report a chicken egg mass (in grams) to the computer and then the computer will print a label.\n",
    "\n",
    ">Please re-write the code so that the if-block is folded into a function.\n",
    ">~~~\n",
    ">import random\n",
    ">for i in range(10):\n",
    ">\t##### simulating the mass of a chicken egg\n",
    ">\t##### the (random) mass will be 70 +/- 20 grams\n",
    ">\tmass=70+20.0*(2.0*random.random()-1.0)\n",
    ">\n",
    ">\tprint(mass)\n",
    ">\n",
    ">\t#egg sizing machinery prints a label\n",
    ">\tif(mass>=85):\n",
    ">\t   print(\"jumbo\")\n",
    ">\telif(mass>=70):\n",
    ">\t   print(\"large\")\n",
    ">\telif(mass<70 and mass>=55):\n",
    ">\t   print(\"medium\")\n",
    ">\telse:\n",
    ">\t   print(\"small\")\n",
    ">~~~\n"
   ]
  },
  {
   "cell_type": "markdown",
   "metadata": {},
   "source": [
    ">>### Solution\n",
    ">>\n",
    ">>import random\n",
    ">>\n",
    ">>def label(mass):\n",
    ">>    if mass>=85:\n",
    ">>        return \"jumbo\" \n",
    ">>    elif mass >= 70:\n",
    ">>        return \"large\"\n",
    ">>    elif mass < 70 and mass >= 55:\n",
    ">>        return \"medium\"\n",
    ">>    else:\n",
    ">>        return \"small\"\n",
    ">>\t  \n",
    ">>for i in range(10):\n",
    ">>   mass=70+20.0*(2.0*random.random()-1.0)\n",
    ">>\n",
    ">>   print(mass)\n",
    ">>   print(label(mass))"
   ]
  },
  {
   "cell_type": "markdown",
   "metadata": {},
   "source": [
    "\n",
    "> ## Encapsulating Data Analysis\n",
    ">\n",
    "> Assume that the following code has been executed:\n",
    "> ~~~ \n",
    "> import pandas\n",
    ">\n",
    "> df = pandas.read_csv('gapminder_gdp_asia.csv', index_col=0)\n",
    "> japan = df.ix['Japan']\n",
    "> ~~~\n",
    ">\n",
    "> 1. Complete the statements below to obtain the average GDP for Japan across the years reported for the 1980s.\n",
    "> ~~~ \n",
    "> year = 1983\n",
    "> gdp_decade = 'gdpPercap_' + str(year // ____)\n",
    "> avg = (japan.ix[gdp_decade + ___] + japan.ix[gdp_decade + ___]) / 2\n",
    "> ~~~\n",
    "> 2. Abstract the code above into a single function.\n",
    "> ~~~\n",
    "> def avg_gdp_in_decade(country, continent, year):\n",
    ">     df = pd.read_csv('gapminder_gdp_'+___+'.csv',delimiter=',',index_col=0)\n",
    ">     ____\n",
    ">     ____\n",
    ">     ____\n",
    ">     return avg\n",
    "> ~~~\n",
    "> 3. How would you generalize this function\n",
    ">    if you did not know beforehand which specific years occurred as columns in the data?\n",
    ">    For instance, what if we also had data from years ending in 1 and 9 for each decade?\n",
    ">    (Hint: use the columns to filter out the ones that correspond to the decade,\n",
    ">    instead of enumerating them in the code.) "
   ]
  },
  {
   "cell_type": "markdown",
   "metadata": {},
   "source": [
    ">>### Solution\n",
    "> >\n",
    "> > 1. \n",
    "> > ~~~ \n",
    "> > year = 1983\n",
    "> > gdp_decade = 'gdpPercap_' + str(year // 10)\n",
    "> > avg = (japan.ix[gdp_decade + '2'] + japan.ix[gdp_decade + '7']) / 2\n",
    "> > ~~~\n",
    "> > 2. \n",
    "> > ~~~\n",
    "> > def avg_gdp_in_decade(country, continent, year):\n",
    "> >     df = pd.read_csv('gapminder_gdp_' + continent + '.csv', index_col=0)\n",
    "> >     c = df.ix[country]\n",
    "> >     gdp_decade = 'gdpPercap_' + str(year // 10)\n",
    "> >     avg = (c.ix[gdp_decade + '2'] + c.ix[gdp_decade + '7'])/2\n",
    "> >     return avg\n",
    "> > ~~~\n",
    "> > 3. We need to loop over the reported years to obtain the average for the relevant ones in the data.\n",
    "> > ~~~\n",
    "> > def avg_gdp_in_decade(country, continent, year):\n",
    "> >     df = pd.read_csv('gapminder_gdp_' + continent + '.csv', index_col=0)\n",
    "> >     c = df.ix[country] \n",
    "> >     gdp_decade = 'gdpPercap_' + str(year // 10)\n",
    "> >     total = 0.0\n",
    "> >     num_years = 0\n",
    "> >     for yr_header in c.index: # c's index contains reported years\n",
    "> >         if yr_header.startswith(gdp_decade):\n",
    "> >             total = total + c.ix[yr_header]\n",
    "> >             num_years = num_years + 1\n",
    "> >     return total/num_years\n",
    ">>~~~"
   ]
  },
  {
   "cell_type": "markdown",
   "metadata": {},
   "source": [
    "## Simulating a dynamical system\n",
    "\n",
    "In mathematics, a dynamical system is a system in which a function describes the time dependence of a point in a geometrical space. Canonical example of a dynamical system is a system called the logistic map.\n",
    "\n",
    "1. Define a function called logistic_map that takes two inputs: X, representing the state of the system at time t, and a parameter r. This function should return a value representing the state of the system at time t+1.\n",
    "\n",
    "2. Using a for loop, iterate the logistic_map function defined in part 1 starting from an initial condition of 0.5 for T=10, 100, and 1000 periods. Store the intermediate results in a list so that after the for loop terminates you have accumulated a sequence of values representing the state of the logistic map at time t=0,1,…,T.\n",
    "\n",
    "3. Encapsulate the logic of your for loop into a function called iterate that takes the initial condition as its first input, the parameter T as its second input and the parameter r as its third input. The function should return the list of values representing the state of the logistic map at time t=0,1,…,T.\n"
   ]
  },
  {
   "cell_type": "markdown",
   "metadata": {},
   "source": [
    "### Solution\n",
    ">>1. \n",
    ">>~~~\n",
    ">>def logistic_map(X, r):\n",
    "    return r* X * (1-X)\n",
    ">>~~~\n",
    "\n",
    ">>2. \n",
    ">>~~~\n",
    ">>initial_condition = 0.5\n",
    ">>T = 10\n",
    ">>r = 1.0\n",
    ">>trajectory = [initial_condition]\n",
    ">>for t in range(1, T):\n",
    ">>    trajectory[t] = logistic_map(trajectory[t-1], r)\n",
    ">>~~~\n",
    ">>3.\n",
    ">>~~~\n",
    ">>def iterate(initial_condition, T, r):\n",
    ">>    trajectory = [initial_condition]\n",
    ">>    for t in range(1, T):\n",
    ">>        trajectory[t] = logistic_map(trajectory[t-1], r)\n",
    ">>    return trajectorys\n",
    ">>~~~\n"
   ]
  },
  {
   "cell_type": "markdown",
   "metadata": {},
   "source": [
    "## Key Points:\n",
    " * Break programs down into functions to make them easier to understand.\n",
    " * Define a function using `def` with a name, parameters, and a block of code.\n",
    " * Defining a function does not run it.\n",
    " * Arguments in call are matched to parameters in definition.\n",
    " * Functions may return a result to their caller using `return`."
   ]
  }
 ],
 "metadata": {
  "kernelspec": {
   "display_name": "Python 3",
   "language": "python",
   "name": "python3"
  },
  "language_info": {
   "codemirror_mode": {
    "name": "ipython",
    "version": 3
   },
   "file_extension": ".py",
   "mimetype": "text/x-python",
   "name": "python",
   "nbconvert_exporter": "python",
   "pygments_lexer": "ipython3",
   "version": "3.6.1"
  }
 },
 "nbformat": 4,
 "nbformat_minor": 2
}
