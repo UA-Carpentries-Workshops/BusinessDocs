{
 "cells": [
  {
   "cell_type": "markdown",
   "metadata": {},
   "source": [
    "---\n",
    "title: \"Writing Functions\"\n",
    "teaching: 10\n",
    "exercises: 15\n",
    "questions:\n",
    "- \"How can I create my own functions?\"\n",
    "objectives:\n",
    "- \"Explain and identify the difference between function definition and function call.\"\n",
    "- \"Write a function that takes a small, fixed number of arguments and produces a single result.\"\n",
    "- \"Correctly identify local and global variable use in a function.\"\n",
    "- \"Correctly identify portions of source code that will be displayed as online help, and in particular distinguish docstrings from comments.\"\n",
    "- \"Write short docstrings for functions.\"\n",
    "keypoints:\n",
    "- \"Break programs down into functions to make them easier to understand.\"\n",
    "- \"Define a function using `def` with a name, parameters, and a block of code.\"\n",
    "- \"Defining a function does not run it.\"\n",
    "- \"Arguments in call are matched to parameters in definition.\"\n",
    "- \"Functions may return a result to their caller using `return`.\"\n",
    "---\n",
    "## Break programs down into functions to make them easier to understand.\n",
    "\n",
    "*   Human beings can only keep a few items in working memory at a time.\n",
    "*   Understand larger/more complicated ideas by understanding and combining pieces.\n",
    "    *   Components in a machine.\n",
    "    *   Lemmas when proving theorems.\n",
    "*   Functions serve the same purpose in programs.\n",
    "    *   *Encapsulate* complexity so that we can treat it as a single \"thing\".\n",
    "*   Also enables *re-use*.\n",
    "    *   Write one time, use many times.\n",
    "\n",
    "## Define a function using `def` with a name, parameters, and a block of code.\n",
    "\n",
    "*   Begin the definition of a new function with `def`.\n",
    "*   Followed by the name of the function.\n",
    "    *   Must obey the same rules as variable names.\n",
    "*   Then *parameters* in parentheses.\n",
    "    *   Empty parentheses if the function doesn't take any inputs.\n",
    "    *   We will discuss this in detail in a moment.\n",
    "*   Then a colon.\n",
    "*   Then an indented block of code."
   ]
  },
  {
   "cell_type": "code",
   "execution_count": null,
   "metadata": {},
   "outputs": [],
   "source": [
    "def print_greeting():\n",
    "    print('Hello!')"
   ]
  },
  {
   "cell_type": "markdown",
   "metadata": {},
   "source": [
    "{: .python}\n",
    "\n",
    "## Defining a function does not run it.\n",
    "\n",
    "*   Defining a function does not run it.\n",
    "    *   Like assigning a value to a variable.\n",
    "*   Must call the function to execute the code it contains."
   ]
  },
  {
   "cell_type": "code",
   "execution_count": null,
   "metadata": {},
   "outputs": [],
   "source": [
    "print_greeting()"
   ]
  },
  {
   "cell_type": "markdown",
   "metadata": {},
   "source": [
    "{: .python}"
   ]
  },
  {
   "cell_type": "code",
   "execution_count": null,
   "metadata": {},
   "outputs": [],
   "source": [
    "Hello!"
   ]
  },
  {
   "cell_type": "markdown",
   "metadata": {},
   "source": [
    "{: .output}\n",
    "\n",
    "## Arguments in call are matched to parameters in definition.\n",
    "\n",
    "*   Functions are most useful when they can operate on different data.\n",
    "*   Specify *parameters* when defining a function.\n",
    "    *   These become variables when the function is executed.\n",
    "    *   Are assigned the arguments in the call (i.e., the values passed to the function)."
   ]
  },
  {
   "cell_type": "code",
   "execution_count": null,
   "metadata": {},
   "outputs": [],
   "source": [
    "def print_date(year, month, day):\n",
    "    joined = str(year) + '/' + str(month) + '/' + str(day)\n",
    "    print(joined)\n",
    "\n",
    "print_date(1871, 3, 19)"
   ]
  },
  {
   "cell_type": "markdown",
   "metadata": {},
   "source": [
    "{: .python}"
   ]
  },
  {
   "cell_type": "code",
   "execution_count": null,
   "metadata": {},
   "outputs": [],
   "source": [
    "1871/3/19"
   ]
  },
  {
   "cell_type": "markdown",
   "metadata": {},
   "source": [
    "{: .output}\n",
    "\n",
    "*   Via [Twitter](https://twitter.com/minisciencegirl/status/693486088963272705):\n",
    "    `()` contains the ingredients for the function\n",
    "    while the body contains the recipe.\n",
    "\n",
    "## Functions may return a result to their caller using `return`.\n",
    "\n",
    "*   Use `return ...` to give a value back to the caller.\n",
    "*   May occur anywhere in the function.\n",
    "*   But functions are easier to understand if `return` occurs:\n",
    "    *   At the start to handle special cases.\n",
    "    *   At the very end, with a final result."
   ]
  },
  {
   "cell_type": "code",
   "execution_count": null,
   "metadata": {},
   "outputs": [],
   "source": [
    "def average(values):\n",
    "    if len(values) == 0:\n",
    "        return None\n",
    "    return sum(values) / len(values)"
   ]
  },
  {
   "cell_type": "markdown",
   "metadata": {},
   "source": [
    "{: .python}"
   ]
  },
  {
   "cell_type": "code",
   "execution_count": null,
   "metadata": {},
   "outputs": [],
   "source": [
    "a = average([1, 3, 4])\n",
    "print('average of actual values:', a)"
   ]
  },
  {
   "cell_type": "markdown",
   "metadata": {},
   "source": [
    "{: .python}"
   ]
  },
  {
   "cell_type": "code",
   "execution_count": null,
   "metadata": {},
   "outputs": [],
   "source": [
    "2.6666666666666665"
   ]
  },
  {
   "cell_type": "markdown",
   "metadata": {},
   "source": [
    "{: .output}"
   ]
  },
  {
   "cell_type": "code",
   "execution_count": null,
   "metadata": {},
   "outputs": [],
   "source": [
    "print('average of empty list:', average([]))"
   ]
  },
  {
   "cell_type": "markdown",
   "metadata": {},
   "source": [
    "{: .python}"
   ]
  },
  {
   "cell_type": "code",
   "execution_count": null,
   "metadata": {},
   "outputs": [],
   "source": [
    "None"
   ]
  },
  {
   "cell_type": "markdown",
   "metadata": {},
   "source": [
    "{: .output}\n",
    "\n",
    "*   Remember: [every function returns something]({{ site.github.url }}/04-built-in/).\n",
    "*   A function that doesn't explicitly `return` a value automatically returns `None`."
   ]
  },
  {
   "cell_type": "code",
   "execution_count": null,
   "metadata": {},
   "outputs": [],
   "source": [
    "result = print_date(1871, 3, 19)\n",
    "print('result of call is:', result)"
   ]
  },
  {
   "cell_type": "markdown",
   "metadata": {},
   "source": [
    "{: .python}"
   ]
  },
  {
   "cell_type": "code",
   "execution_count": null,
   "metadata": {},
   "outputs": [],
   "source": [
    "1871/3/19\n",
    "result of call is: None"
   ]
  },
  {
   "cell_type": "markdown",
   "metadata": {},
   "source": [
    "{: .output}\n",
    "\n",
    "> ## Definition and Use\n",
    ">\n",
    "> What does the following program print?\n",
    ">\n",
    "> ~~~\n",
    "> def report(pressure):\n",
    ">     print('pressure is', pressure)\n",
    ">\n",
    "> print('calling', report, 22.5)\n",
    "{: .challenge}\n",
    "\n",
    "> ## Encapsulation\n",
    ">\n",
    "> Fill in the blanks to create a function that takes a single filename as an argument,\n",
    "> loads the data in the file named by the argument,\n",
    "> and returns the minimum value in that data.\n",
    ">\n",
    "> ~~~\n",
    "> import pandas\n",
    ">\n",
    "> def min_in_data(____):\n",
    ">     data = ____\n",
    ">     return ____\n",
    "> ~~~\n",
    "> {: .source}\n",
    "{: .challenge}\n",
    "\n",
    "> ## Find the First\n",
    ">\n",
    "> Fill in the blanks to create a function that takes a list of numbers as an argument\n",
    "> and returns the first negative value in the list.\n",
    "> What does your function do if the list is empty?\n",
    ">\n",
    "> ~~~\n",
    "> def first_negative(values):\n",
    ">     for v in ____:\n",
    ">         if ____:\n",
    ">             return ____\n",
    "> ~~~\n",
    "> {: .python}\n",
    "{: .challenge}\n",
    "\n",
    "> ## Order of Operations\n",
    ">\n",
    "> The example above:\n",
    ">\n",
    "> ~~~\n",
    "> result = print_date(1871, 3, 19)\n",
    "> print('result of call is:', result)\n",
    "> ~~~\n",
    "> {: .python}\n",
    ">\n",
    "> printed:\n",
    "> ~~~\n",
    "> 1871/3/19\n",
    "> result of call is: None\n",
    "> ~~~\n",
    "> {: .output}\n",
    ">\n",
    "> Explain why the two lines of output appeared in the order they did.\n",
    "{: .challenge}\n",
    "\n",
    "> ## Calling by Name\n",
    ">\n",
    "> What does this short program print?\n",
    ">\n",
    "> ~~~\n",
    "> def print_date(year, month, day):\n",
    ">     joined = str(year) + '/' + str(month) + '/' + str(day)\n",
    ">     print(joined)\n",
    ">\n",
    "> print_date(day=1, month=2, year=2003)\n",
    "> ~~~\n",
    "> {: .python}\n",
    ">\n",
    "> 1.  When have you seen a function call like this before?\n",
    "> 2.  When and why is it useful to call functions this way?\n",
    "> {: .python}\n",
    "{: .challenge}\n",
    "\n",
    "> ## Encapsulating Data Analysis\n",
    ">\n",
    "> Assume that the following code has been executed:\n",
    ">\n",
    "> ~~~ \n",
    "> import pandas\n",
    ">\n",
    "> df = pandas.read_csv('gapminder_gdp_asia.csv', index_col=0)\n",
    "> japan = df.ix['Japan']\n",
    "> ~~~\n",
    "> {: .python}\n",
    ">\n",
    "> 1. Complete the statements below to obtain the average GDP for Japan\n",
    ">    across the years reported for the 1980s.\n",
    ">\n",
    "> ~~~ \n",
    "> year = 1983\n",
    "> gdp_decade = 'gdpPercap_' + str(year // ____)\n",
    "> avg = (japan.ix[gdp_decade + ___] + japan.ix[gdp_decade + ___]) / 2\n",
    "> ~~~\n",
    "> {: .python}\n",
    ">\n",
    "> 2. Abstract the code above into a single function.\n",
    ">\n",
    "> ~~~\n",
    "> def avg_gdp_in_decade(country, continent, year):\n",
    ">     df = pd.read_csv('gapminder_gdp_'+___+'.csv',delimiter=',',index_col=0)\n",
    ">     ____\n",
    ">     ____\n",
    ">     ____\n",
    ">     return avg\n",
    "> ~~~\n",
    "> {: .python}\n",
    ">\n",
    "> 3. How would you generalize this function\n",
    ">    if you did not know beforehand which specific years occurred as columns in the data?\n",
    ">    For instance, what if we also had data from years ending in 1 and 9 for each decade?\n",
    ">    (Hint: use the columns to filter out the ones that correspond to the decade,\n",
    ">    instead of enumerating them in the code.) \n",
    ">\n",
    "> > ## Solution\n",
    "> >\n",
    "> > 1. \n",
    "> >\n",
    "> > ~~~ \n",
    "> > year = 1983\n",
    "> > gdp_decade = 'gdpPercap_' + str(year // 10)\n",
    "> > avg = (japan.ix[gdp_decade + '2'] + japan.ix[gdp_decade + '7']) / 2\n",
    "> > ~~~\n",
    "> > {: .python}\n",
    "> >\n",
    "> > 2.\n",
    "> >\n",
    "> > ~~~\n",
    "> > def avg_gdp_in_decade(country, continent, year):\n",
    "> >     df = pd.read_csv('gapminder_gdp_' + continent + '.csv', index_col=0)\n",
    "> >     c = df.ix[country]\n",
    "> >     gdp_decade = 'gdpPercap_' + str(year // 10)\n",
    "> >     avg = (c.ix[gdp_decade + '2'] + c.ix[gdp_decade + '7'])/2\n",
    "> >     return avg\n",
    "> > ~~~\n",
    "> > {: .python}\n",
    "> >\n",
    "> > 3. We need to loop over the reported years\n",
    "> >    to obtain the average for the relevant ones in the data.\n",
    "> >\n",
    "> > ~~~\n",
    "> > def avg_gdp_in_decade(country, continent, year):\n",
    "> >     df = pd.read_csv('gapminder_gdp_' + continent + '.csv', index_col=0)\n",
    "> >     c = df.ix[country] \n",
    "> >     gdp_decade = 'gdpPercap_' + str(year // 10)\n",
    "> >     total = 0.0\n",
    "> >     num_years = 0\n",
    "> >     for yr_header in c.index: # c's index contains reported years\n",
    "> >         if yr_header.startswith(gdp_decade):\n",
    "> >             total = total + c.ix[yr_header]\n",
    "> >             num_years = num_years + 1\n",
    "> >     return total/num_years\n",
    "> > ~~~\n",
    "> > {: .source}\n",
    "> {: .solution}\n",
    "{: .challenge}"
   ]
  }
 ],
 "metadata": {},
 "nbformat": 4,
 "nbformat_minor": 2
}
