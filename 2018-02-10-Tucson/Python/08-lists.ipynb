{
 "cells": [
  {
   "cell_type": "markdown",
   "metadata": {},
   "source": [
    "Lists and Indexing\n",
    "==\n",
    "Teaching: 10  \n",
    "Exercises: 10\n",
    "\n",
    "Questions:\n",
    " * How can I store multiple values?\n",
    "\n",
    "Objectives:\n",
    " * Explain why programs need collections of values.\n",
    " * Write programs that create flat lists, index them, slice them, and modify them through assignment and method calls.\n",
    "---"
   ]
  },
  {
   "cell_type": "markdown",
   "metadata": {},
   "source": [
    "## A list stores many values in a single structure.\n",
    "\n",
    "*   Doing calculations with a hundred variables called `pressure_001`, `pressure_002`, etc.,\n",
    "    would be at least as slow as doing them by hand.\n",
    "*   Use a *list* to store many values together.\n",
    "    *   Contained within square brackets `[...]`.\n",
    "    *   Values separated by commas `,`.\n",
    "*   Use `len` to find out how many values are in a list."
   ]
  },
  {
   "cell_type": "code",
   "execution_count": 1,
   "metadata": {},
   "outputs": [
    {
     "name": "stdout",
     "output_type": "stream",
     "text": [
      "pressures: [0.273, 0.275, 0.277, 0.275, 0.276]\n",
      "length: 5\n"
     ]
    }
   ],
   "source": [
    "pressures = [0.273, 0.275, 0.277, 0.275, 0.276]\n",
    "print('pressures:', pressures)\n",
    "print('length:', len(pressures))"
   ]
  },
  {
   "cell_type": "markdown",
   "metadata": {},
   "source": [
    "## Use an item's index to fetch it from a list.\n",
    "\n",
    "*   Each value in a list is stored in a particular location.\n",
    "*   Locations are numbered from 0 rather than 1.\n",
    "*   Use the location's index in square brackets to access the value it contains."
   ]
  },
  {
   "cell_type": "code",
   "execution_count": 2,
   "metadata": {},
   "outputs": [
    {
     "name": "stdout",
     "output_type": "stream",
     "text": [
      "zeroth item of pressures: 0.273\n",
      "fourth item of pressures: 0.276\n"
     ]
    }
   ],
   "source": [
    "print('zeroth item of pressures:', pressures[0])\n",
    "print('fourth item of pressures:', pressures[4])"
   ]
  },
  {
   "cell_type": "markdown",
   "metadata": {},
   "source": [
    "## Lists' values can be replaced by assigning to them.\n",
    "\n",
    "*   Use an index expression on the left of assignment to replace a value."
   ]
  },
  {
   "cell_type": "code",
   "execution_count": 3,
   "metadata": {},
   "outputs": [
    {
     "name": "stdout",
     "output_type": "stream",
     "text": [
      "pressures is now: [0.265, 0.275, 0.277, 0.275, 0.276]\n"
     ]
    }
   ],
   "source": [
    "pressures[0] = 0.265\n",
    "print('pressures is now:', pressures)"
   ]
  },
  {
   "cell_type": "markdown",
   "metadata": {},
   "source": [
    "## Appending items to a list lengthens it.\n",
    "\n",
    "*   Use `list_name.append` to add items to the end of a list."
   ]
  },
  {
   "cell_type": "code",
   "execution_count": 4,
   "metadata": {},
   "outputs": [
    {
     "name": "stdout",
     "output_type": "stream",
     "text": [
      "primes is initially: [2, 3, 5]\n",
      "primes has become: [2, 3, 5, 7, 9]\n"
     ]
    }
   ],
   "source": [
    "primes = [2, 3, 5]\n",
    "print('primes is initially:', primes)\n",
    "primes.append(7)\n",
    "primes.append(9)\n",
    "print('primes has become:', primes)"
   ]
  },
  {
   "cell_type": "markdown",
   "metadata": {},
   "source": [
    "*   `append` is a *method* of lists.\n",
    "    *   Like a function, but tied to a particular object.\n",
    "*   Use `object_name.method_name` to call methods.\n",
    "    *   Deliberately resembles the way we refer to things in a library.\n",
    "*   We will meet other methods of lists as we go along.\n",
    "    *   Use `help(list)` for a preview."
   ]
  },
  {
   "cell_type": "code",
   "execution_count": 5,
   "metadata": {},
   "outputs": [
    {
     "name": "stdout",
     "output_type": "stream",
     "text": [
      "primes is currently: [2, 3, 5, 7, 9]\n",
      "primes has now become: [2, 3, 5, 7, 9, 11, 13, 17, 19]\n",
      "primes has finally become: [2, 3, 5, 7, 9, 11, 13, 17, 19, [37, 41, 43, 47]]\n"
     ]
    }
   ],
   "source": [
    "teen_primes = [11, 13, 17, 19]\n",
    "middle_aged_primes = [37, 41, 43, 47]\n",
    "print('primes is currently:', primes)\n",
    "primes.extend(teen_primes)\n",
    "print('primes has now become:', primes)\n",
    "primes.append(middle_aged_primes)\n",
    "print('primes has finally become:', primes)"
   ]
  },
  {
   "cell_type": "markdown",
   "metadata": {},
   "source": [
    "Note that while `extend` maintains the “flat” structure of the list, appending a list to a list makes the result two-dimensional."
   ]
  },
  {
   "cell_type": "markdown",
   "metadata": {},
   "source": [
    "## Use `del` to remove items from a list entirely.\n",
    "\n",
    "*   `del list_name[index]` removes an item from a list and shortens the list.\n",
    "*   Not a function or a method, but a statement in the language."
   ]
  },
  {
   "cell_type": "code",
   "execution_count": 7,
   "metadata": {},
   "outputs": [
    {
     "name": "stdout",
     "output_type": "stream",
     "text": [
      "primes before removing last item: [2, 3, 5, 7, 11, 13, 17, 19, [37, 41, 43, 47]]\n",
      "primes after removing the 5th item: [2, 3, 5, 7, 13, 17, 19, [37, 41, 43, 47]]\n"
     ]
    }
   ],
   "source": [
    "print('primes before removing last item:', primes)\n",
    "del primes[4]\n",
    "print('primes after removing the 5th item:', primes)"
   ]
  },
  {
   "cell_type": "markdown",
   "metadata": {},
   "source": [
    "## The empty list contains no values.\n",
    "\n",
    "*   Use `[]` on its own to represent a list that doesn't contain any values.\n",
    "    *   \"The zero of lists.\"\n",
    "*   Helpful as a starting point for collecting values\n",
    "    (which we will see in the [next episode]({{site.github.url}}/09-for-loops/)).\n",
    "\n",
    "## Lists may contain values of different types.\n",
    "\n",
    "*   A single list may contain numbers, strings, and anything else."
   ]
  },
  {
   "cell_type": "code",
   "execution_count": 8,
   "metadata": {
    "collapsed": true
   },
   "outputs": [],
   "source": [
    "goals = [1, 'Create lists.', 2, 'Extract items from lists.', 3, 'Modify lists.']"
   ]
  },
  {
   "cell_type": "markdown",
   "metadata": {},
   "source": [
    "## Character strings can be indexed like lists.\n",
    "\n",
    "*   Get single characters from a character string using indexes in square brackets."
   ]
  },
  {
   "cell_type": "code",
   "execution_count": 9,
   "metadata": {},
   "outputs": [
    {
     "name": "stdout",
     "output_type": "stream",
     "text": [
      "zeroth character: c\n",
      "third character: b\n"
     ]
    }
   ],
   "source": [
    "element = 'carbon'\n",
    "print('zeroth character:', element[0])\n",
    "print('third character:', element[3])"
   ]
  },
  {
   "cell_type": "markdown",
   "metadata": {},
   "source": [
    "## Character strings are immutable.\n",
    "\n",
    "*   Cannot change the characters in a string after it has been created.\n",
    "    *   *Immutable*: cannot be changed after creation.\n",
    "    *   In contrast, lists are *mutable*: they can be modified in place.\n",
    "*   Python considers the string to be a single value with parts,\n",
    "    not a collection of values."
   ]
  },
  {
   "cell_type": "code",
   "execution_count": 10,
   "metadata": {},
   "outputs": [
    {
     "ename": "TypeError",
     "evalue": "'str' object does not support item assignment",
     "output_type": "error",
     "traceback": [
      "\u001b[1;31m---------------------------------------------------------------------------\u001b[0m",
      "\u001b[1;31mTypeError\u001b[0m                                 Traceback (most recent call last)",
      "\u001b[1;32m<ipython-input-10-a1d7f0db9116>\u001b[0m in \u001b[0;36m<module>\u001b[1;34m()\u001b[0m\n\u001b[1;32m----> 1\u001b[1;33m \u001b[0melement\u001b[0m\u001b[1;33m[\u001b[0m\u001b[1;36m0\u001b[0m\u001b[1;33m]\u001b[0m \u001b[1;33m=\u001b[0m \u001b[1;34m'C'\u001b[0m\u001b[1;33m\u001b[0m\u001b[0m\n\u001b[0m",
      "\u001b[1;31mTypeError\u001b[0m: 'str' object does not support item assignment"
     ]
    }
   ],
   "source": [
    "element[0] = 'C'"
   ]
  },
  {
   "cell_type": "markdown",
   "metadata": {},
   "source": [
    "*   Lists and character strings are both *collections*."
   ]
  },
  {
   "cell_type": "markdown",
   "metadata": {},
   "source": [
    "## Indexing beyond the end of the collection is an error.\n",
    "\n",
    "*   Python reports an `IndexError` if we attempt to access a value that doesn't exist.\n",
    "    *   This is a kind of [runtime error]({{ site.github.url }}/05-error-messages/).\n",
    "    *   Cannot be detected as the code is parsed\n",
    "        because the index might be calculated based on data."
   ]
  },
  {
   "cell_type": "code",
   "execution_count": 11,
   "metadata": {},
   "outputs": [
    {
     "ename": "IndexError",
     "evalue": "string index out of range",
     "output_type": "error",
     "traceback": [
      "\u001b[1;31m---------------------------------------------------------------------------\u001b[0m",
      "\u001b[1;31mIndexError\u001b[0m                                Traceback (most recent call last)",
      "\u001b[1;32m<ipython-input-11-320bc28f00ab>\u001b[0m in \u001b[0;36m<module>\u001b[1;34m()\u001b[0m\n\u001b[1;32m----> 1\u001b[1;33m \u001b[0mprint\u001b[0m\u001b[1;33m(\u001b[0m\u001b[1;34m'99th element of element is:'\u001b[0m\u001b[1;33m,\u001b[0m \u001b[0melement\u001b[0m\u001b[1;33m[\u001b[0m\u001b[1;36m99\u001b[0m\u001b[1;33m]\u001b[0m\u001b[1;33m)\u001b[0m\u001b[1;33m\u001b[0m\u001b[0m\n\u001b[0m",
      "\u001b[1;31mIndexError\u001b[0m: string index out of range"
     ]
    }
   ],
   "source": [
    "print('99th element of element is:', element[99])"
   ]
  },
  {
   "cell_type": "code",
   "execution_count": null,
   "metadata": {
    "collapsed": true
   },
   "outputs": [],
   "source": [
    "IndexError: string index out of range"
   ]
  },
  {
   "cell_type": "markdown",
   "metadata": {},
   "source": [
    "## Exercises"
   ]
  },
  {
   "cell_type": "markdown",
   "metadata": {},
   "source": [
    "> ## How Large is a Slice?\n",
    ">\n",
    "> If 'low' and 'high' are both non-negative integers,\n",
    "> how long is the list `values[low:high]`?\n",
    ">\n",
    ">>### Solution\n",
    ">> high minus low"
   ]
  },
  {
   "cell_type": "markdown",
   "metadata": {},
   "source": [
    "> ## Fill in the Blanks\n",
    ">\n",
    "> Fill in the blanks so that the program below produces the output shown.\n",
    ">\n",
    "> ~~~\n",
    "> values = ____\n",
    "> values.____(1)\n",
    "> values.____(3)\n",
    "> values.____(5)\n",
    "> print('first time:', values)\n",
    "> values = values[____]\n",
    "> print('second time:', values)\n",
    "> ~~~\n",
    "> ~~~\n",
    "> first time: [1, 3, 5]\n",
    "> second time: [3, 5]\n",
    "> ~~~\n",
    ">\n",
    ">>### Solution\n",
    ">>values = []\n",
    ">>values.append(1)\n",
    ">>values.append(3)\n",
    ">>values.append(5)\n",
    ">>print('first time:', values)\n",
    ">>values = values[1:3]\n",
    ">>print('second time:', values)"
   ]
  },
  {
   "cell_type": "markdown",
   "metadata": {},
   "source": [
    "> ## From Strings to Lists and Back\n",
    ">\n",
    "> Given this:\n",
    ">\n",
    "> ~~~\n",
    "> print('string to list:', list('tin'))\n",
    "> print('list to string:', ''.join(['g', 'o', 'l', 'd']))\n",
    "> ~~~\n",
    "> ~~~\n",
    "> ['t', 'i', 'n']\n",
    "> 'gold'\n",
    "> ~~~\n",
    "> 1.  Explain in simple terms what `list('some string')` does.\n",
    "> 2.  What does `'-'.join(['x', 'y'])` generate?\n",
    ">\n",
    ">>### Solution\n",
    ">>1. Converts a sting of characters into a list of individual characters\n",
    ">>2. Converts a list into a string of the concatenated list items"
   ]
  },
  {
   "cell_type": "markdown",
   "metadata": {},
   "source": [
    "> ## Working With the End\n",
    ">\n",
    "> 1. What does the following program print?\n",
    ">\n",
    "> ~~~\n",
    "> element = 'helium'\n",
    "> print(element[-1])\n",
    "> ~~~\n",
    ">\n",
    "> 2.  How does Python interpret a negative index?\n",
    "> 3.  If a list or string has N elements, what is the most negative index that can safely be used with it, and what location does that index represent?\n",
    "> 4.  If `values` is a list, what does `del values[-1]` do?\n",
    "> 5.  How can you display all elements but the last one without changing `values`?\n",
    ">     (Hint: you will need to combine slicing and negative indexing.)\n",
    ">\n",
    ">>### Solution\n",
    ">>1. 'm'\n",
    ">>2. Insead of counting from the beginning of the list or string, it starts counting from the end\n",
    ">>3. The most negative index that can be used would be the length of the string. This position would be position 0\n",
    ">>4. Removes the last item in the list\n",
    ">>5. print(values[:-1])\n"
   ]
  },
  {
   "cell_type": "markdown",
   "metadata": {},
   "source": [
    "> ## Stepping Through a List\n",
    ">\n",
    ">1.  What does the following program print?\n",
    ">\n",
    "> ~~~\n",
    "> element = 'fluorine'\n",
    "> print(element[::2])\n",
    "> print(element[::-1])\n",
    "> ~~~\n",
    ">\n",
    ">2.  If we write a slice as `low:high:stride`, what does `stride` do?\n",
    ">3.  What expression would select all of the even-numbered items from a collection?\n",
    ">\n",
    ">>### Solution\n",
    ">>1. `furn`\n",
    ">>   `eniroulf`\n",
    ">>2. Stride is the step value when slicing\n",
    ">>3. element[1::2]"
   ]
  },
  {
   "cell_type": "markdown",
   "metadata": {},
   "source": [
    "> ## Slice Bounds\n",
    ">\n",
    ">What does the following program print?\n",
    ">\n",
    "> ~~~\n",
    "> element = 'lithium'\n",
    "> print(element[0:20])\n",
    "> print(element[-1:3])\n",
    "> ~~~\n",
    ">\n",
    ">>### Solution\n",
    ">>`lithium` and nothing"
   ]
  },
  {
   "cell_type": "markdown",
   "metadata": {},
   "source": [
    ">## Sort and Sorted\n",
    "\n",
    ">What do these two programs print? In simple terms, explain the difference between sorted(letters) and letters.sort().\n",
    ">~~~\n",
    "># Program A\n",
    ">letters = list('gold')\n",
    ">result = sorted(letters)\n",
    ">print('letters is', letters, 'and result is', result)\n",
    "\n",
    "># Program B\n",
    ">letters = list('gold')\n",
    ">result = letters.sort()\n",
    ">print('letters is', letters, 'and result is', result)\n",
    ">~~~\n",
    ">\n",
    ">>### Solution\n",
    ">>`letters is ['g','o','l','d'] and result is ['d','g','l','o']`  \n",
    ">>`letters is ['g','o','l','d'] and result is none`"
   ]
  },
  {
   "cell_type": "markdown",
   "metadata": {},
   "source": [
    ">## Copying (or Not)\n",
    "\n",
    ">What do these two programs print? In simple terms, explain the difference between new = old and new = old[:].\n",
    ">~~~\n",
    "># Program A\n",
    ">old = list('gold')\n",
    ">new = old  # simple assignment\n",
    ">new[0] = 'D'\n",
    ">print('new is', new, 'and old is', old)\n",
    "\n",
    "># Program B\n",
    ">old = list('gold')\n",
    ">new = old[:]   # assigning a slice\n",
    ">new[0] = 'D'\n",
    ">print('new is', new, 'and old is', old)\n",
    ">~~~\n",
    ">\n",
    ">>### Solution\n",
    ">>`new is ['D','o','l','d'] and old is ['D','o','l','d']`  \n",
    ">>`new is ['D','o','l','d'] and old is ['g','o','l','d']`\n"
   ]
  },
  {
   "cell_type": "markdown",
   "metadata": {},
   "source": [
    "---\n",
    "## Keypoints:\n",
    " * A list stores many values in a single structure.\n",
    " * Use an item's index to fetch it from a list.\n",
    " * Lists' values can be replaced by assigning to them.\n",
    " * Appending items to a list lengthens it.\n",
    " * Use `del` to remove items from a list entirely.\n",
    " * The empty list contains no values.\n",
    " * Lists may contain values of different types.\n",
    " * Character strings can be indexed like lists.\n",
    " * Character strings are immutable.\n",
    " * Indexing beyond the end of the collection is an error."
   ]
  }
 ],
 "metadata": {
  "kernelspec": {
   "display_name": "Python 3",
   "language": "python",
   "name": "python3"
  },
  "language_info": {
   "codemirror_mode": {
    "name": "ipython",
    "version": 3
   },
   "file_extension": ".py",
   "mimetype": "text/x-python",
   "name": "python",
   "nbconvert_exporter": "python",
   "pygments_lexer": "ipython3",
   "version": "3.6.1"
  }
 },
 "nbformat": 4,
 "nbformat_minor": 2
}
