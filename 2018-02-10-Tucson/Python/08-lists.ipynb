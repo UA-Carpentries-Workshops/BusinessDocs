{
 "cells": [
  {
   "cell_type": "markdown",
   "metadata": {},
   "source": [
    "---\n",
    "title: \"Lists and Indexing\"\n",
    "teaching: 10\n",
    "exercises: 10\n",
    "questions:\n",
    "- \"How can I store multiple values?\"\n",
    "objectives:\n",
    "- \"Explain why programs need collections of values.\"\n",
    "- \"Write programs that create flat lists, index them, slice them, and modify them through assignment and method calls.\"\n",
    "keypoints:\n",
    "- \"A list stores many values in a single structure.\"\n",
    "- \"Use an item's index to fetch it from a list.\"\n",
    "- \"Lists' values can be replaced by assigning to them.\"\n",
    "- \"Appending items to a list lengthens it.\"\n",
    "- \"Use `del` to remove items from a list entirely.\"\n",
    "- \"The empty list contains no values.\"\n",
    "- \"Lists may contain values of different types.\"\n",
    "- \"Character strings can be indexed like lists.\"\n",
    "- \"Character strings are immutable.\"\n",
    "- \"Indexing beyond the end of the collection is an error.\"\n",
    "---\n",
    "## A list stores many values in a single structure.\n",
    "\n",
    "*   Doing calculations with a hundred variables called `pressure_001`, `pressure_002`, etc.,\n",
    "    would be at least as slow as doing them by hand.\n",
    "*   Use a *list* to store many values together.\n",
    "    *   Contained within square brackets `[...]`.\n",
    "    *   Values separated by commas `,`.\n",
    "*   Use `len` to find out how many values are in a list."
   ]
  },
  {
   "cell_type": "code",
   "execution_count": null,
   "metadata": {},
   "outputs": [],
   "source": [
    "pressures = [0.273, 0.275, 0.277, 0.275, 0.276]\n",
    "print('pressures:', pressures)\n",
    "print('length:', len(pressures))"
   ]
  },
  {
   "cell_type": "markdown",
   "metadata": {},
   "source": [
    "{: .python}"
   ]
  },
  {
   "cell_type": "code",
   "execution_count": null,
   "metadata": {},
   "outputs": [],
   "source": [
    "pressures: [0.273, 0.275, 0.277, 0.275, 0.276]\n",
    "length: 5"
   ]
  },
  {
   "cell_type": "markdown",
   "metadata": {},
   "source": [
    "{: .output}\n",
    "\n",
    "## Use an item's index to fetch it from a list.\n",
    "\n",
    "*   Each value in a list is stored in a particular location.\n",
    "*   Locations are numbered from 0 rather than 1.\n",
    "*   Use the location's index in square brackets to access the value it contains."
   ]
  },
  {
   "cell_type": "code",
   "execution_count": null,
   "metadata": {},
   "outputs": [],
   "source": [
    "print('zeroth item of pressures:', pressures[0])\n",
    "print('fourth item of pressures:', pressures[4])"
   ]
  },
  {
   "cell_type": "markdown",
   "metadata": {},
   "source": [
    "{: .python}"
   ]
  },
  {
   "cell_type": "code",
   "execution_count": null,
   "metadata": {},
   "outputs": [],
   "source": [
    "zeroth item of pressures: 0.273\n",
    "fourth item of pressures: 0.276"
   ]
  },
  {
   "cell_type": "markdown",
   "metadata": {},
   "source": [
    "{: .output}\n",
    "\n",
    "## Lists' values can be replaced by assigning to them.\n",
    "\n",
    "*   Use an index expression on the left of assignment to replace a value."
   ]
  },
  {
   "cell_type": "code",
   "execution_count": null,
   "metadata": {},
   "outputs": [],
   "source": [
    "pressures[0] = 0.265\n",
    "print('pressures is now:', pressures)"
   ]
  },
  {
   "cell_type": "markdown",
   "metadata": {},
   "source": [
    "{: .python}"
   ]
  },
  {
   "cell_type": "code",
   "execution_count": null,
   "metadata": {},
   "outputs": [],
   "source": [
    "pressures is now: [0.265, 0.275, 0.277, 0.275, 0.276]"
   ]
  },
  {
   "cell_type": "markdown",
   "metadata": {},
   "source": [
    "{: .output}\n",
    "\n",
    "## Appending items to a list lengthens it.\n",
    "\n",
    "*   Use `list_name.append` to add items to the end of a list."
   ]
  },
  {
   "cell_type": "code",
   "execution_count": null,
   "metadata": {},
   "outputs": [],
   "source": [
    "primes = [2, 3, 5]\n",
    "print('primes is initially:', primes)\n",
    "primes.append(7)\n",
    "primes.append(9)\n",
    "print('primes has become:', primes)"
   ]
  },
  {
   "cell_type": "markdown",
   "metadata": {},
   "source": [
    "{: .python}"
   ]
  },
  {
   "cell_type": "code",
   "execution_count": null,
   "metadata": {},
   "outputs": [],
   "source": [
    "primes is initially: [2, 3, 5]\n",
    "primes has become: [2, 3, 5, 7, 9]"
   ]
  },
  {
   "cell_type": "markdown",
   "metadata": {},
   "source": [
    "{: .python}\n",
    "\n",
    "*   `append` is a *method* of lists.\n",
    "    *   Like a function, but tied to a particular object.\n",
    "*   Use `object_name.method_name` to call methods.\n",
    "    *   Deliberately resembles the way we refer to things in a library.\n",
    "*   We will meet other methods of lists as we go along.\n",
    "    *   Use `help(list)` for a preview.\n",
    "\n",
    "## Use `del` to remove items from a list entirely.\n",
    "\n",
    "*   `del list_name[index]` removes an item from a list and shortens the list.\n",
    "*   Not a function or a method, but a statement in the language."
   ]
  },
  {
   "cell_type": "code",
   "execution_count": null,
   "metadata": {},
   "outputs": [],
   "source": [
    "print('primes before removing last item:', primes)\n",
    "del primes[4]\n",
    "print('primes after removing last item:', primes)"
   ]
  },
  {
   "cell_type": "markdown",
   "metadata": {},
   "source": [
    "{: .python}"
   ]
  },
  {
   "cell_type": "code",
   "execution_count": null,
   "metadata": {},
   "outputs": [],
   "source": [
    "primes before removing last item: [2, 3, 5, 7, 9]\n",
    "primes after removing last item: [2, 3, 5, 7]"
   ]
  },
  {
   "cell_type": "markdown",
   "metadata": {},
   "source": [
    "{: .output}\n",
    "\n",
    "## The empty list contains no values.\n",
    "\n",
    "*   Use `[]` on its own to represent a list that doesn't contain any values.\n",
    "    *   \"The zero of lists.\"\n",
    "*   Helpful as a starting point for collecting values\n",
    "    (which we will see in the [next episode]({{site.github.url}}/09-for-loops/)).\n",
    "\n",
    "## Lists may contain values of different types.\n",
    "\n",
    "*   A single list may contain numbers, strings, and anything else."
   ]
  },
  {
   "cell_type": "code",
   "execution_count": null,
   "metadata": {},
   "outputs": [],
   "source": [
    "goals = [1, 'Create lists.', 2, 'Extract items from lists.', 3, 'Modify lists.']"
   ]
  },
  {
   "cell_type": "markdown",
   "metadata": {},
   "source": [
    "{: .python}\n",
    "\n",
    "## Character strings can be indexed like lists.\n",
    "\n",
    "*   Get single characters from a character string using indexes in square brackets."
   ]
  },
  {
   "cell_type": "code",
   "execution_count": null,
   "metadata": {},
   "outputs": [],
   "source": [
    "element = 'carbon'\n",
    "print('zeroth character:', element[0])\n",
    "print('third character:', element[3])"
   ]
  },
  {
   "cell_type": "markdown",
   "metadata": {},
   "source": [
    "{: .python}"
   ]
  },
  {
   "cell_type": "code",
   "execution_count": null,
   "metadata": {},
   "outputs": [],
   "source": [
    "zeroth character: c\n",
    "third character: b"
   ]
  },
  {
   "cell_type": "markdown",
   "metadata": {},
   "source": [
    "{: .output}\n",
    "\n",
    "## Character strings are immutable.\n",
    "\n",
    "*   Cannot change the characters in a string after it has been created.\n",
    "    *   *Immutable*: cannot be changed after creation.\n",
    "    *   In contrast, lists are *mutable*: they can be modified in place.\n",
    "*   Python considers the string to be a single value with parts,\n",
    "    not a collection of values."
   ]
  },
  {
   "cell_type": "code",
   "execution_count": null,
   "metadata": {},
   "outputs": [],
   "source": [
    "element[0] = 'C'"
   ]
  },
  {
   "cell_type": "markdown",
   "metadata": {},
   "source": [
    "{: .python}"
   ]
  },
  {
   "cell_type": "code",
   "execution_count": null,
   "metadata": {},
   "outputs": [],
   "source": [
    "TypeError: 'str' object does not support item assignment"
   ]
  },
  {
   "cell_type": "markdown",
   "metadata": {},
   "source": [
    "{: .error}\n",
    "\n",
    "*   Lists and character strings are both *collections*.\n",
    "\n",
    "## Indexing beyond the end of the collection is an error.\n",
    "\n",
    "*   Python reports an `IndexError` if we attempt to access a value that doesn't exist.\n",
    "    *   This is a kind of [runtime error]({{ site.github.url }}/05-error-messages/).\n",
    "    *   Cannot be detected as the code is parsed\n",
    "        because the index might be calculated based on data."
   ]
  },
  {
   "cell_type": "code",
   "execution_count": null,
   "metadata": {},
   "outputs": [],
   "source": [
    "print('99th element of element is:', element[99])"
   ]
  },
  {
   "cell_type": "markdown",
   "metadata": {},
   "source": [
    "{: .python}"
   ]
  },
  {
   "cell_type": "code",
   "execution_count": null,
   "metadata": {},
   "outputs": [],
   "source": [
    "IndexError: string index out of range"
   ]
  },
  {
   "cell_type": "markdown",
   "metadata": {},
   "source": [
    "{: .output}\n",
    "\n",
    "> ## Slicing\n",
    ">\n",
    "> What does the following program print?\n",
    ">\n",
    "> ~~~\n",
    "> element = 'carbon'\n",
    "> print('element[1:3] is:', element[1:3])\n",
    "> ~~~\n",
    "> {: .python}\n",
    "> ~~~\n",
    "> element[1:3] is: ar\n",
    "> ~~~\n",
    "> {: .output}\n",
    ">\n",
    "> 1.  What does `thing[low:high]` do?\n",
    "> 2.  What does `thing[low:]` (without a value after the colon) do?\n",
    "> 3.  What does `thing[:high]` (without a value before the colon) do?\n",
    "> 4.  What does `thing[:]` (just a colon) do?\n",
    "{: .challenge}\n",
    "\n",
    "> ## Fill in the Blanks\n",
    ">\n",
    "> Fill in the blanks so that the program below produces the output shown.\n",
    ">\n",
    "> ~~~\n",
    "> values = ____\n",
    "> values.____(1)\n",
    "> values.____(3)\n",
    "> values.____(5)\n",
    "> print('first time:', values)\n",
    "> values = values[____]\n",
    "> print('second time:', values)\n",
    "> ~~~\n",
    "> {: .python}\n",
    ">\n",
    "> ~~~\n",
    "> first time: [1, 3, 5]\n",
    "> second time: [3, 5]\n",
    "> ~~~\n",
    "> {: .output}\n",
    "{: .challenge}\n",
    "\n",
    "> ## How Large is a Slice?\n",
    ">\n",
    "> If 'low' and 'high' are both non-negative integers,\n",
    "> how long is the list `values[low:high]`?\n",
    "{: .challenge}\n",
    "\n",
    "> ## From Strings to Lists and Back\n",
    ">\n",
    "> Given this:\n",
    ">\n",
    "> ~~~\n",
    "> print('string to list:', list('tin'))\n",
    "> print('list to string:', ''.join(['g', 'o', 'l', 'd']))\n",
    "> ~~~\n",
    "> {: .python}\n",
    "> ~~~\n",
    "> ['t', 'i', 'n']\n",
    "> 'gold'\n",
    "> ~~~\n",
    "> {: .output}\n",
    ">\n",
    "> 1.  Explain in simple terms what `list('some string')` does.\n",
    "> 2.  What does `'-'.join(['x', 'y'])` generate?\n",
    "{: .challenge}\n",
    "\n",
    "> ## Working With the End\n",
    ">\n",
    "> What does the following program print?\n",
    ">\n",
    "> ~~~\n",
    "> element = 'helium'\n",
    "> print(element[-1])\n",
    "> ~~~\n",
    "> {: .python}\n",
    ">\n",
    "> 1.  How does Python interpret a negative index?\n",
    "> 2.  If a list or string has N elements,\n",
    ">     what is the most negative index that can safely be used with it,\n",
    ">     and what location does that index represent?\n",
    "> 3.  If `values` is a list, what does `del values[-1]` do?\n",
    "> 4.  How can you display all elements but the last one without changing `values`?\n",
    ">     (Hint: you will need to combine slicing and negative indexing.)\n",
    "{: .challenge}\n",
    "\n",
    "> ## Stepping Through a List\n",
    ">\n",
    "> What does the following program print?\n",
    ">\n",
    "> ~~~\n",
    "> element = 'fluorine'\n",
    "> print(element[::2])\n",
    "> print(element[::-1])\n",
    "> ~~~\n",
    "> {: .python}\n",
    ">\n",
    "> 1.  If we write a slice as `low:high:stride`, what does `stride` do?\n",
    "> 2.  What expression would select all of the even-numbered items from a collection?\n",
    "{: .challenge}\n",
    "\n",
    "> ## Slice Bounds\n",
    ">\n",
    "> What does the following program print?\n",
    ">\n",
    "> ~~~\n",
    "> element = 'lithium'\n",
    "> print(element[0:20])\n",
    "> print(element[-1:3])\n",
    "> ~~~\n",
    "> {: .python}\n",
    "{: .challenge}"
   ]
  }
 ],
 "metadata": {},
 "nbformat": 4,
 "nbformat_minor": 2
}
