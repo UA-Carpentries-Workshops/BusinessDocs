{
 "cells": [
  {
   "cell_type": "markdown",
   "metadata": {},
   "source": [
    "---\n",
    "title: \"Libraries\"\n",
    "teaching: 5\n",
    "exercises: 5\n",
    "questions:\n",
    "- \"How can I use software that other people have written?\"\n",
    "- \"How can I find out what that software does?\"\n",
    "objectives:\n",
    "- \"Explain what software libraries are and why programmers create and use them.\"\n",
    "- \"Write programs that import and use libraries from Python's standard library.\"\n",
    "- \"Find and read documentation for standard libraries interactively (in the interpreter) and online.\"\n",
    "keypoints:\n",
    "- \"Most of the power of a programming language is in its libraries.\"\n",
    "- \"A program must import a library in order to use it.\"\n",
    "- \"Use `help` to find out more about a library's contents.\"\n",
    "- \"Import specific items from a library to shorten programs.\"\n",
    "- \"Create an alias for a library when importing it to shorten programs.\"\n",
    "---\n",
    "## Most of the power of a programming language is in its libraries.\n",
    "\n",
    "*   A *library* is a collection of functions that can be used by other programs.\n",
    "    *   May also contain data values (e.g., numerical constants).\n",
    "    *   Library's contents are supposed to be related, but there's no way to enforce that.\n",
    "*   Python's [standard library][stdlib] is installed with it.\n",
    "*   Many additional libraries are available from [PyPI][pypi] (the Python Package Index).\n",
    "*   We will see later how to write new libraries.\n",
    "\n",
    "## A program must import a library in order to use it.\n",
    "\n",
    "*   Use `import` to load a library into a program's memory.\n",
    "*   Then refer to things from the library as `library_name.thing_name`.\n",
    "    *   Python uses `.` to mean \"part of\"."
   ]
  },
  {
   "cell_type": "code",
   "execution_count": null,
   "metadata": {},
   "outputs": [],
   "source": [
    "import math\n",
    "\n",
    "print('pi is', math.pi)\n",
    "print('cos(pi) is', math.cos(math.pi))"
   ]
  },
  {
   "cell_type": "markdown",
   "metadata": {},
   "source": [
    "{: .python}"
   ]
  },
  {
   "cell_type": "code",
   "execution_count": null,
   "metadata": {},
   "outputs": [],
   "source": [
    "pi is 3.141592653589793\n",
    "cos(pi) is -1.0"
   ]
  },
  {
   "cell_type": "markdown",
   "metadata": {},
   "source": [
    "{: .output}\n",
    "\n",
    "*   Have to refer to each item with the library's name.\n",
    "    *   `math.cos(pi)` won't work: the reference to `pi`\n",
    "        doesn't somehow \"inherit\" the function's reference to `math`.\n",
    "\n",
    "## Use `help` to find out more about a library's contents.\n",
    "\n",
    "*   Works just like help for a function."
   ]
  },
  {
   "cell_type": "code",
   "execution_count": null,
   "metadata": {},
   "outputs": [],
   "source": [
    "help(math)"
   ]
  },
  {
   "cell_type": "markdown",
   "metadata": {},
   "source": [
    "{: .python}"
   ]
  },
  {
   "cell_type": "code",
   "execution_count": null,
   "metadata": {},
   "outputs": [],
   "source": [
    "Help on module math:\n",
    "\n",
    "NAME\n",
    "    math\n",
    "\n",
    "MODULE REFERENCE\n",
    "    http://docs.python.org/3.5/library/math\n",
    "\n",
    "    The following documentation is automatically generated from the Python\n",
    "    source files.  It may be incomplete, incorrect or include features that\n",
    "    are considered implementation detail and may vary between Python\n",
    "    implementations.  When in doubt, consult the module reference at the\n",
    "    location listed above.\n",
    "\n",
    "DESCRIPTION\n",
    "    This module is always available.  It provides access to the\n",
    "    mathematical functions defined by the C standard.\n",
    "\n",
    "FUNCTIONS\n",
    "    acos(...)\n",
    "        acos(x)\n",
    "\n",
    "        Return the arc cosine (measured in radians) of x.\n",
    "⋮ ⋮ ⋮"
   ]
  },
  {
   "cell_type": "markdown",
   "metadata": {},
   "source": [
    "{: .output}\n",
    "\n",
    "## Import specific items from a library to shorten programs.\n",
    "\n",
    "*   Use `from...import...` to load only specific items from a library.\n",
    "*   Then refer to them directly without library name as prefix."
   ]
  },
  {
   "cell_type": "code",
   "execution_count": null,
   "metadata": {},
   "outputs": [],
   "source": [
    "from math load cos, pi\n",
    "\n",
    "print('cos(pi) is', cos(pi))"
   ]
  },
  {
   "cell_type": "markdown",
   "metadata": {},
   "source": [
    "{: .python}"
   ]
  },
  {
   "cell_type": "code",
   "execution_count": null,
   "metadata": {},
   "outputs": [],
   "source": [
    "cos(pi) is -1.0"
   ]
  },
  {
   "cell_type": "markdown",
   "metadata": {},
   "source": [
    "{: .output}\n",
    "\n",
    "## Create an alias for a library when importing it to shorten programs.\n",
    "\n",
    "*   Use `import...as...` to give a library a short *alias* while importing it.\n",
    "*   Then refer to items in the library using that shortened name."
   ]
  },
  {
   "cell_type": "code",
   "execution_count": null,
   "metadata": {},
   "outputs": [],
   "source": [
    "import math as m\n",
    "\n",
    "print('cos(pi) is', m.cos(m.pi))"
   ]
  },
  {
   "cell_type": "markdown",
   "metadata": {},
   "source": [
    "{: .python}"
   ]
  },
  {
   "cell_type": "code",
   "execution_count": null,
   "metadata": {},
   "outputs": [],
   "source": [
    "cos(pi) is -1.0"
   ]
  },
  {
   "cell_type": "markdown",
   "metadata": {},
   "source": [
    "{: .output}\n",
    "\n",
    "*   Commonly used for libraries that are frequently used or have long names.\n",
    "    *   E.g., `matplotlib` plotting library is often aliased as `mpl`.\n",
    "*   But can make programs harder to understand,\n",
    "    since readers must learn your program's aliases.\n",
    "\n",
    "> ## Locating the Right Library\n",
    ">\n",
    "> You want to select a random value from your data:\n",
    "> ~~~\n",
    "> ids = [1, 2, 3, 4, 5, 6]\n",
    "> ~~~\n",
    ">\n",
    "> 1. What [standard library][stdlib]\n",
    ">    would you most expect to help?\n",
    "> 2. Which function would you select from that library? Are there alternatives?\n",
    "{: .challenge}\n",
    "\n",
    "> ## Exploring the Math Library\n",
    ">\n",
    "> 1. What function from the `math` library can you use to calculate a square root\n",
    ">    *without* using `sqrt`?\n",
    "> 2. Since the library contains this function, why does `sqrt` exist?\n",
    "{: .challenge}\n",
    "\n",
    "> ## When Is Help Available?\n",
    ">\n",
    "> When a colleague of yours types `help(math)`,\n",
    "> Python reports an error:\n",
    ">\n",
    "> ~~~\n",
    "> NameError: name 'math' is not defined\n",
    "> ~~~\n",
    "> {: .error}\n",
    ">\n",
    "> What has your colleague forgotten to do?\n",
    "{: .challenge}\n",
    "\n",
    "> ## Importing With Aliases\n",
    ">\n",
    "> 1. Fill in the blanks so that the program below prints `90.0`.\n",
    "> 2. Rewrite the program so that it uses `import` *without* `as`.\n",
    "> 3. Which form do you find easier to read?\n",
    ">\n",
    "> ~~~\n",
    "> import math as m\n",
    "> angle = ____.degrees(____.pi / 2)\n",
    "> print(____)\n",
    "> ~~~\n",
    "> {: .source}\n",
    "{: .challenge}\n",
    "\n",
    "> ## Importing Specific Items\n",
    ">\n",
    "> 1. Fill in the blanks so that the program below prints `90.0`.\n",
    "> 2. Do you find this easier to read than preceding versions?\n",
    "> 3. Why *would't* programmers always use this form of `import`?\n",
    ">\n",
    "> ~~~\n",
    "> ____ math import ____, ____\n",
    "> angle = degrees(pi / 2)\n",
    "> print(angle)\n",
    "> ~~~\n",
    "> {: .source}\n",
    "{: .challenge}\n",
    "\n",
    "[pypi]: https://pypi.python.org/pypi/\n",
    "[stdlib]: https://docs.python.org/3/library/"
   ]
  }
 ],
 "metadata": {},
 "nbformat": 4,
 "nbformat_minor": 2
}
