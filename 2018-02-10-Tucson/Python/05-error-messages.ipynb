{
 "cells": [
  {
   "cell_type": "markdown",
   "metadata": {},
   "source": [
    "---\n",
    "title: \"Error Messages\"\n",
    "teaching: 5\n",
    "exercises: 10\n",
    "questions:\n",
    "- \"What kind of errors can occur in programs?\"\n",
    "- \"How can I identify errors when they occur?\"\n",
    "objectives:\n",
    "- \"Read a traceback and determine the file, function, and line number on which the error occurred, the type of error, and the error message.\"\n",
    "- \"Correctly describe situations in which SyntaxError, IndentationError, NameError, IndexError, and FileNotFoundError occur.\"\n",
    "keypoints:\n",
    "- \"Use comments to add documentation to programs.\"\n",
    "- \"Python reports a syntax error when it can't understand the source of a program.\"\n",
    "- \"Indentation is meaningful in Python.\"\n",
    "- \"Python reports a runtime error when something goes wrong while a program is executing.\"\n",
    "- \"Fix syntax errors by reading the source code, and runtime errors by tracing the program's execution.\"\n",
    "---\n",
    "## Use comments to add documentation to programs."
   ]
  },
  {
   "cell_type": "code",
   "execution_count": null,
   "metadata": {},
   "outputs": [],
   "source": [
    "# This sentence isn't executed by Python.\n",
    "adjustment = 0.5   # Neither is this - anything after '#' is ignored."
   ]
  },
  {
   "cell_type": "markdown",
   "metadata": {},
   "source": [
    "{: .python}\n",
    "\n",
    "## Python reports a syntax error when it can't understand the source of a program.\n",
    "\n",
    "*   Won't even try to run the program if it can't be parsed."
   ]
  },
  {
   "cell_type": "code",
   "execution_count": null,
   "metadata": {},
   "outputs": [],
   "source": [
    "# Forgot to close the quotation marks around the string.\n",
    "name = 'Feng"
   ]
  },
  {
   "cell_type": "markdown",
   "metadata": {},
   "source": [
    "{: .python}"
   ]
  },
  {
   "cell_type": "code",
   "execution_count": null,
   "metadata": {},
   "outputs": [],
   "source": [
    "SyntaxError: EOL while scanning string literal"
   ]
  },
  {
   "cell_type": "markdown",
   "metadata": {},
   "source": [
    "{: .error}"
   ]
  },
  {
   "cell_type": "code",
   "execution_count": null,
   "metadata": {},
   "outputs": [],
   "source": [
    "# An extra '=' in the assignment.\n",
    "age = = 52"
   ]
  },
  {
   "cell_type": "markdown",
   "metadata": {},
   "source": [
    "{: .python}"
   ]
  },
  {
   "cell_type": "code",
   "execution_count": null,
   "metadata": {},
   "outputs": [],
   "source": [
    "SyntaxError: invalid syntax"
   ]
  },
  {
   "cell_type": "markdown",
   "metadata": {},
   "source": [
    "{: .error}\n",
    "\n",
    "*   Look more closely at the error message:"
   ]
  },
  {
   "cell_type": "code",
   "execution_count": null,
   "metadata": {},
   "outputs": [],
   "source": [
    "print(\"hello world\""
   ]
  },
  {
   "cell_type": "markdown",
   "metadata": {},
   "source": [
    "{: .python}"
   ]
  },
  {
   "cell_type": "code",
   "execution_count": null,
   "metadata": {},
   "outputs": [],
   "source": [
    "  File \"<ipython-input-6-d1cc229bf815>\", line 1\n",
    "    print (\"hello world\"\n",
    "                        ^\n",
    "SyntaxError: unexpected EOF while parsing"
   ]
  },
  {
   "cell_type": "markdown",
   "metadata": {},
   "source": [
    "{: .error}\n",
    "\n",
    "*   The message indicates a problem on first line of the input (\"line 1\").\n",
    "    *   In this case the \"ipython-input\" section of the file name tells us that\n",
    "        we are working with input into IPython,\n",
    "        the Python interpreter used by the Jupyter Notebook.\n",
    "*   The `-6-` part of the filename indicates that\n",
    "    the error occurred in cell 6 of our Notebook.\n",
    "*   Next is the problematic line of code,\n",
    "    indicating the problem with a `^` pointer.\n",
    "\n",
    "## Indentation is meaningful in Python.\n",
    "\n",
    "*   Python uses indentation to group sections of code together\n",
    "    (which we will discuss [later]({{ site.github.url }}/09-for-loops).\n",
    "*   If the indentation changes in a way that Python does not expect,\n",
    "    it reports an `IndentationError`\n",
    "    (which is a more specific kind of syntax error)."
   ]
  },
  {
   "cell_type": "code",
   "execution_count": null,
   "metadata": {},
   "outputs": [],
   "source": [
    "firstName=\"Jon\"\n",
    "  lastName=\"Smith\""
   ]
  },
  {
   "cell_type": "markdown",
   "metadata": {},
   "source": [
    "{: .python}"
   ]
  },
  {
   "cell_type": "code",
   "execution_count": null,
   "metadata": {},
   "outputs": [],
   "source": [
    "  File \"<ipython-input-7-f65f2962bf9c>\", line 2\n",
    "    lastName=\"Smith\"\n",
    "    ^\n",
    "IndentationError: unexpected indent"
   ]
  },
  {
   "cell_type": "markdown",
   "metadata": {},
   "source": [
    "{: .error}\n",
    "\n",
    "*   This error can be fixed by removing the extra spaces\n",
    "    at the beginning of the second line.\n",
    "\n",
    "## Python reports a runtime error when something goes wrong while a program is executing."
   ]
  },
  {
   "cell_type": "code",
   "execution_count": null,
   "metadata": {},
   "outputs": [],
   "source": [
    "age = 53\n",
    "remaining = 100 - aege # mis-spelled 'age'"
   ]
  },
  {
   "cell_type": "markdown",
   "metadata": {},
   "source": [
    "{: .python}"
   ]
  },
  {
   "cell_type": "code",
   "execution_count": null,
   "metadata": {},
   "outputs": [],
   "source": [
    "NameError: name 'aege' is not defined"
   ]
  },
  {
   "cell_type": "markdown",
   "metadata": {},
   "source": [
    "{: .error}\n",
    "\n",
    "## Fix syntax errors by reading the source and runtime errors by tracing execution.\n",
    "\n",
    "FIXME: diagram of where each type of error occurs.\n",
    "\n",
    "FIXME: this entire episode needs to move later (we can't do IndentationError yet, or \n",
    "talk about the tracebacks until we've written functions).\n",
    "\n",
    "> ## Reading Error Messages\n",
    ">\n",
    "> Read the traceback below, and identify the following:\n",
    ">\n",
    "> 1. How many levels does the traceback have?\n",
    "> 2. What is the file name where the error occurred?\n",
    "> 3. What is the function name where the error occurred?\n",
    "> 4. On which line number in this function did the error occurr?\n",
    "> 5. What is the type of error?\n",
    "> 6. What is the error message?\n",
    ">\n",
    "> ~~~\n",
    "> ---------------------------------------------------------------------------\n",
    "> KeyError                                  Traceback (most recent call last)\n",
    "> <ipython-input-2-e4c4cbafeeb5> in <module>()\n",
    ">       1 import errors_02\n",
    "> ----> 2 errors_02.print_friday_message()\n",
    ">\n",
    "> /Users/ghopper/thesis/code/errors_02.py in print_friday_message()\n",
    ">      13\n",
    ">      14 def print_friday_message():\n",
    "> ---> 15     print_message(\"Friday\")\n",
    ">\n",
    "> /Users/ghopper/thesis/code/errors_02.py in print_message(day)\n",
    ">       9         \"sunday\": \"Aw, the weekend is almost over.\"\n",
    ">      10     }\n",
    "> ---> 11     print(messages[day])\n",
    ">      12\n",
    ">      13\n",
    ">\n",
    "> KeyError: 'Friday'\n",
    "> ~~~\n",
    "> {: .error}\n",
    "{: .challenge}\n",
    "\n",
    "> ## Identifying Syntax Errors\n",
    ">\n",
    "> 1. Read the code below and try to identify what the errors are\n",
    ">    *without* running it.\n",
    "> 2. Run the code and read the error message.\n",
    ">    Is it a `SyntaxError` or an `IndentationError`?\n",
    "> 3. Fix the error.\n",
    "> 4. Repeat steps 2 and 3 until you have fixed all the errors.\n",
    ">\n",
    "> ~~~\n",
    "> def another_function\n",
    ">   print(\"Syntax errors are annoying.\")\n",
    ">    print(\"But at least python tells us about them!\")\n",
    ">   print(\"So they are usually not too hard to fix.\")\n",
    "> ~~~\n",
    "> {: .source}\n",
    "{: .challenge}\n",
    "\n",
    "> ## Identifying Variable Name Errors\n",
    ">\n",
    "> 1. Read the code below and try to identify what the errors are\n",
    ">    *without* running it.\n",
    "> 2. Run the code and read the error message.\n",
    ">    What type of `NameError` do you think this is?\n",
    ">    Is it a string with no quotes, a misspelled variable, or a \n",
    ">    variable that should have been defined but was not?\n",
    "> 3. Fix the error.\n",
    "> 4. Repeat steps 2 and 3, until you have fixed all the errors.\n",
    ">\n",
    "> ~~~\n",
    "> for number in range(10):\n",
    ">     # use a if the number is a multiple of 3, otherwise use b\n",
    ">     if (Number % 3) == 0:\n",
    ">         message = message + a\n",
    ">     else:\n",
    ">         message = message + \"b\"\n",
    "> print(message)\n",
    "> ~~~\n",
    "> {: .source}\n",
    "{: .challenge}\n",
    "\n",
    "> ## Identifying Item Errors\n",
    ">\n",
    "> 1. Read the code below and try to identify what the errors are\n",
    ">    *without* running it.\n",
    "> 2. Run the code, and read the error message. What type of error is it?\n",
    "> 3. Fix the error.\n",
    ">\n",
    "> ~~~\n",
    "> seasons = ['Spring', 'Summer', 'Fall', 'Winter']\n",
    "> print('My favorite season is ', seasons[4])\n",
    "> ~~~\n",
    "> {: .source}\n",
    "{: .challenge}"
   ]
  }
 ],
 "metadata": {},
 "nbformat": 4,
 "nbformat_minor": 2
}
