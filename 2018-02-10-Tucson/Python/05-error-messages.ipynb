{
 "cells": [
  {
   "cell_type": "markdown",
   "metadata": {},
   "source": [
    "Error Messages\n",
    "==\n",
    "Teaching: 5  \n",
    "Exercises: 10\n",
    "\n",
    "### Questions:\n",
    " * What kind of errors can occur in programs?\n",
    " * How can I identify errors when they occur?\n",
    "\n",
    "### Objectives:\n",
    " * Read a traceback and determine the file, function, and line number on which the error occurred, the type of error, and the error message.\n",
    " * Correctly describe situations in which SyntaxError, IndentationError, NameError, IndexError, and FileNotFoundError occur.\n",
    " ---"
   ]
  },
  {
   "cell_type": "markdown",
   "metadata": {},
   "source": [
    "## Use comments to add documentation to programs."
   ]
  },
  {
   "cell_type": "code",
   "execution_count": 1,
   "metadata": {
    "collapsed": true
   },
   "outputs": [],
   "source": [
    "# This sentence isn't executed by Python.\n",
    "adjustment = 0.5   # Neither is this - anything after '#' is ignored."
   ]
  },
  {
   "cell_type": "markdown",
   "metadata": {},
   "source": [
    "## Python reports a syntax error when it can't understand the source of a program.\n",
    "\n",
    "*   Won't even try to run the program if it can't be parsed."
   ]
  },
  {
   "cell_type": "code",
   "execution_count": 2,
   "metadata": {},
   "outputs": [
    {
     "ename": "SyntaxError",
     "evalue": "EOL while scanning string literal (<ipython-input-2-5e5a6d281b5a>, line 2)",
     "output_type": "error",
     "traceback": [
      "\u001b[1;36m  File \u001b[1;32m\"<ipython-input-2-5e5a6d281b5a>\"\u001b[1;36m, line \u001b[1;32m2\u001b[0m\n\u001b[1;33m    name = 'Feng\u001b[0m\n\u001b[1;37m                ^\u001b[0m\n\u001b[1;31mSyntaxError\u001b[0m\u001b[1;31m:\u001b[0m EOL while scanning string literal\n"
     ]
    }
   ],
   "source": [
    "# Forgot to close the quotation marks around the string.\n",
    "name = 'Feng"
   ]
  },
  {
   "cell_type": "code",
   "execution_count": 3,
   "metadata": {},
   "outputs": [
    {
     "ename": "SyntaxError",
     "evalue": "invalid syntax (<ipython-input-3-80631fb23a0d>, line 2)",
     "output_type": "error",
     "traceback": [
      "\u001b[1;36m  File \u001b[1;32m\"<ipython-input-3-80631fb23a0d>\"\u001b[1;36m, line \u001b[1;32m2\u001b[0m\n\u001b[1;33m    age = = 52\u001b[0m\n\u001b[1;37m          ^\u001b[0m\n\u001b[1;31mSyntaxError\u001b[0m\u001b[1;31m:\u001b[0m invalid syntax\n"
     ]
    }
   ],
   "source": [
    "# An extra '=' in the assignment.\n",
    "age = = 52"
   ]
  },
  {
   "cell_type": "markdown",
   "metadata": {},
   "source": [
    "*   Look more closely at the error message:"
   ]
  },
  {
   "cell_type": "code",
   "execution_count": 4,
   "metadata": {},
   "outputs": [
    {
     "ename": "SyntaxError",
     "evalue": "unexpected EOF while parsing (<ipython-input-4-6b19e4adce04>, line 1)",
     "output_type": "error",
     "traceback": [
      "\u001b[1;36m  File \u001b[1;32m\"<ipython-input-4-6b19e4adce04>\"\u001b[1;36m, line \u001b[1;32m1\u001b[0m\n\u001b[1;33m    print(\"hello world\"\u001b[0m\n\u001b[1;37m                       ^\u001b[0m\n\u001b[1;31mSyntaxError\u001b[0m\u001b[1;31m:\u001b[0m unexpected EOF while parsing\n"
     ]
    }
   ],
   "source": [
    "print(\"hello world\""
   ]
  },
  {
   "cell_type": "markdown",
   "metadata": {},
   "source": [
    "*   The message indicates a problem on first line of the input (\"line 1\").\n",
    "    *   In this case the \"ipython-input\" section of the file name tells us that\n",
    "        we are working with input into IPython,\n",
    "        the Python interpreter used by the Jupyter Notebook.\n",
    "*   The `-6-` part of the filename indicates that\n",
    "    the error occurred in cell 6 of our Notebook.\n",
    "*   Next is the problematic line of code,\n",
    "    indicating the problem with a `^` pointer.\n",
    "\n",
    "## Indentation is meaningful in Python.\n",
    "\n",
    "*   Python uses indentation to group sections of code together\n",
    "    (which we will discuss [later]({{ site.github.url }}/09-for-loops).\n",
    "*   If the indentation changes in a way that Python does not expect,\n",
    "    it reports an `IndentationError`\n",
    "    (which is a more specific kind of syntax error)."
   ]
  },
  {
   "cell_type": "code",
   "execution_count": 5,
   "metadata": {},
   "outputs": [
    {
     "ename": "IndentationError",
     "evalue": "unexpected indent (<ipython-input-5-f65f2962bf9c>, line 2)",
     "output_type": "error",
     "traceback": [
      "\u001b[1;36m  File \u001b[1;32m\"<ipython-input-5-f65f2962bf9c>\"\u001b[1;36m, line \u001b[1;32m2\u001b[0m\n\u001b[1;33m    lastName=\"Smith\"\u001b[0m\n\u001b[1;37m    ^\u001b[0m\n\u001b[1;31mIndentationError\u001b[0m\u001b[1;31m:\u001b[0m unexpected indent\n"
     ]
    }
   ],
   "source": [
    "firstName=\"Jon\"\n",
    "  lastName=\"Smith\""
   ]
  },
  {
   "cell_type": "markdown",
   "metadata": {},
   "source": [
    "*   This error can be fixed by removing the extra spaces\n",
    "    at the beginning of the second line.\n",
    "\n",
    "## Python reports a runtime error when something goes wrong while a program is executing."
   ]
  },
  {
   "cell_type": "code",
   "execution_count": 6,
   "metadata": {},
   "outputs": [
    {
     "ename": "NameError",
     "evalue": "name 'aege' is not defined",
     "output_type": "error",
     "traceback": [
      "\u001b[1;31m---------------------------------------------------------------------------\u001b[0m",
      "\u001b[1;31mNameError\u001b[0m                                 Traceback (most recent call last)",
      "\u001b[1;32m<ipython-input-6-7a920ef0426b>\u001b[0m in \u001b[0;36m<module>\u001b[1;34m()\u001b[0m\n\u001b[0;32m      1\u001b[0m \u001b[0mage\u001b[0m \u001b[1;33m=\u001b[0m \u001b[1;36m53\u001b[0m\u001b[1;33m\u001b[0m\u001b[0m\n\u001b[1;32m----> 2\u001b[1;33m \u001b[0mremaining\u001b[0m \u001b[1;33m=\u001b[0m \u001b[1;36m100\u001b[0m \u001b[1;33m-\u001b[0m \u001b[0maege\u001b[0m \u001b[1;31m# mis-spelled 'age'\u001b[0m\u001b[1;33m\u001b[0m\u001b[0m\n\u001b[0m",
      "\u001b[1;31mNameError\u001b[0m: name 'aege' is not defined"
     ]
    }
   ],
   "source": [
    "age = 53\n",
    "remaining = 100 - aege # mis-spelled 'age'"
   ]
  },
  {
   "cell_type": "markdown",
   "metadata": {},
   "source": [
    "## Fix syntax errors by reading the source and runtime errors by tracing execution.\n",
    "\n",
    "FIXME: diagram of where each type of error occurs.\n",
    "\n",
    "FIXME: this entire episode needs to move later (we can't do IndentationError yet, or \n",
    "talk about the tracebacks until we've written functions)."
   ]
  },
  {
   "cell_type": "markdown",
   "metadata": {},
   "source": [
    "> ## Reading Error Messages\n",
    ">\n",
    "> Read the traceback below, and identify the following:\n",
    ">\n",
    "> 1. How many levels does the traceback have?\n",
    "> 2. What is the file name where the error occurred?\n",
    "> 3. What is the function name where the error occurred?\n",
    "> 4. On which line number in this function did the error occurr?\n",
    "> 5. What is the type of error?\n",
    "> 6. What is the error message?\n",
    ">\n",
    "> ~~~\n",
    "> ---------------------------------------------------------------------------\n",
    "> KeyError                                  Traceback (most recent call last)\n",
    "> <ipython-input-2-e4c4cbafeeb5> in <module>()\n",
    ">       1 import errors_02\n",
    "> ----> 2 errors_02.print_friday_message()\n",
    ">\n",
    "> /Users/ghopper/thesis/code/errors_02.py in print_friday_message()\n",
    ">      13\n",
    ">      14 def print_friday_message():\n",
    "> ---> 15     print_message(\"Friday\")\n",
    ">\n",
    "> /Users/ghopper/thesis/code/errors_02.py in print_message(day)\n",
    ">       9         \"sunday\": \"Aw, the weekend is almost over.\"\n",
    ">      10     }\n",
    "> ---> 11     print(messages[day])\n",
    ">      12\n",
    ">      13\n",
    ">\n",
    "> KeyError: 'Friday'\n",
    "> ~~~\n",
    "> {: .error}\n",
    "{: .challenge}\n",
    "\n",
    "> ## Identifying Syntax Errors\n",
    ">\n",
    "> 1. Read the code below and try to identify what the errors are\n",
    ">    *without* running it.\n",
    "> 2. Run the code and read the error message.\n",
    ">    Is it a `SyntaxError` or an `IndentationError`?\n",
    "> 3. Fix the error.\n",
    "> 4. Repeat steps 2 and 3 until you have fixed all the errors.\n",
    ">\n",
    "> ~~~\n",
    "> def another_function\n",
    ">   print(\"Syntax errors are annoying.\")\n",
    ">    print(\"But at least python tells us about them!\")\n",
    ">   print(\"So they are usually not too hard to fix.\")\n",
    "> ~~~\n",
    "> {: .source}\n",
    "{: .challenge}\n",
    "\n",
    "> ## Identifying Variable Name Errors\n",
    ">\n",
    "> 1. Read the code below and try to identify what the errors are\n",
    ">    *without* running it.\n",
    "> 2. Run the code and read the error message.\n",
    ">    What type of `NameError` do you think this is?\n",
    ">    Is it a string with no quotes, a misspelled variable, or a \n",
    ">    variable that should have been defined but was not?\n",
    "> 3. Fix the error.\n",
    "> 4. Repeat steps 2 and 3, until you have fixed all the errors.\n",
    ">\n",
    "> ~~~\n",
    "> for number in range(10):\n",
    ">     # use a if the number is a multiple of 3, otherwise use b\n",
    ">     if (Number % 3) == 0:\n",
    ">         message = message + a\n",
    ">     else:\n",
    ">         message = message + \"b\"\n",
    "> print(message)\n",
    "> ~~~\n",
    "> {: .source}\n",
    "{: .challenge}\n",
    "\n",
    "> ## Identifying Item Errors\n",
    ">\n",
    "> 1. Read the code below and try to identify what the errors are\n",
    ">    *without* running it.\n",
    "> 2. Run the code, and read the error message. What type of error is it?\n",
    "> 3. Fix the error.\n",
    ">\n",
    "> ~~~\n",
    "> seasons = ['Spring', 'Summer', 'Fall', 'Winter']\n",
    "> print('My favorite season is ', seasons[4])\n",
    "> ~~~\n"
   ]
  },
  {
   "cell_type": "markdown",
   "metadata": {},
   "source": [
    "---\n",
    "### Keypoints:\n",
    " * Use comments to add documentation to programs.\n",
    " * Python reports a syntax error when it can't understand the source of a program.\n",
    " * Indentation is meaningful in Python.\n",
    " * Python reports a runtime error when something goes wrong while a program is executing.\n",
    " * Fix syntax errors by reading the source code, and runtime errors by tracing the program's execution."
   ]
  }
 ],
 "metadata": {
  "kernelspec": {
   "display_name": "Python 3",
   "language": "python",
   "name": "python3"
  },
  "language_info": {
   "codemirror_mode": {
    "name": "ipython",
    "version": 3
   },
   "file_extension": ".py",
   "mimetype": "text/x-python",
   "name": "python",
   "nbconvert_exporter": "python",
   "pygments_lexer": "ipython3",
   "version": "3.6.1"
  }
 },
 "nbformat": 4,
 "nbformat_minor": 2
}
