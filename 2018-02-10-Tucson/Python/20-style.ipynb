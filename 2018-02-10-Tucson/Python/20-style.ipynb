{
 "cells": [
  {
   "cell_type": "markdown",
   "metadata": {},
   "source": [
    "Programming Style\n",
    "==\n",
    "Teaching: 10  \n",
    "Exercises: 15\n",
    "\n",
    "Questions:\n",
    " * How can I make my programs more readable?\n",
    " * How do most programmers format their code?\n",
    "\n",
    "Objectives:\n",
    " * Provide sound justifications for basic rules of coding style.\n",
    " * Refactor one-page programs to make them more readable and justify the changes.\n",
    " * Use Python community coding standards (PEP-8).\n",
    " \n",
    "Keypoints:\n",
    " * Follow standard Python style in your code.\n",
    " * Use docstrings to provide online help.\n",
    "---"
   ]
  },
  {
   "cell_type": "markdown",
   "metadata": {},
   "source": [
    "## Coding style\n",
    "\n",
    "Coding style helps us to understand the code better. It helps to maintain and change the code. Python relies strongly on coding style, as we may notice by the indentation we apply to lines to define different blocks of code. Python proposes a standard style through one of its first Python Enhancement Proposals (PEP), PEP8, and highlight the importance of readability in the Zen of Python.\n",
    "\n",
    "We may highlight some points:\n",
    " * document your code\n",
    " * use clear, meaningful variable names\n",
    " * use white-space, not tabs, to indent lines\n"
   ]
  },
  {
   "cell_type": "markdown",
   "metadata": {},
   "source": [
    "## Follow standard Python style in your code.\n",
    "\n",
    "*   [PEP8](https://www.python.org/dev/peps/pep-0008):\n",
    "    a style guide for Python that discusses topics such as how you should name variables, how you should use indentation in your code, how you should structure your `import` statements, etc.  Adhering to PEP8 makes it easier for other Python developers to read and understand your code, and to understand what their contributions should look like.\n",
    "    The [PEP8 application and Python library](https://pypi.python.org/pypi/pep8) can check your code for compliance with PEP8.\n",
    "\n",
    "* Google style guide on Python supports the use of PEP8 and extend the coding style to more specific structure of a Python code, which may be interesting also to follow.\n",
    "\n",
    "## Use assertions to check for internal errors.\n",
    "\n",
    "Assertions are a simple, but powerful method for making sure that the context in which your code is executing is as you expect.\n",
    "~~~\n",
    "def calc_bulk_density(mass, volume):\n",
    "    '''Return dry bulk density = powder mass / powder volume.'''\n",
    "    assert volume > 0\n",
    "    return mass / volume\n",
    "~~~\n",
    "If the assertion is False, the Python interpreter raises an AssertionError runtime exception. The source code for the expression that failed will be displayed as part of the error message. To ignore assertions in your code run the interpreter with the ‘-O’ (optimize) switch. Assertions should contain only simple checks and never change the state of the program. For example, an assertion should never contain an assignment."
   ]
  },
  {
   "cell_type": "markdown",
   "metadata": {},
   "source": [
    "## Use docstrings to provide online help.\n",
    "\n",
    "*   If the first thing in a function is a character string\n",
    "    that is not assigned to a variable,\n",
    "    Python attaches it to the function as the online help.\n",
    "*   Called a *docstring* (short for \"documentation string\")."
   ]
  },
  {
   "cell_type": "code",
   "execution_count": 1,
   "metadata": {},
   "outputs": [
    {
     "name": "stdout",
     "output_type": "stream",
     "text": [
      "Help on function average in module __main__:\n",
      "\n",
      "average(values)\n",
      "    Return average of values, or None if no values are supplied.\n",
      "\n"
     ]
    }
   ],
   "source": [
    "def average(values):\n",
    "    \"Return average of values, or None if no values are supplied.\"\n",
    "\n",
    "    if len(values) == 0:\n",
    "        return None\n",
    "    return sum(values) / average(values)\n",
    "\n",
    "help(average)"
   ]
  },
  {
   "cell_type": "markdown",
   "metadata": {},
   "source": [
    "## Multiline Strings\n",
    "\n",
    "Often use *multiline strings* for documentation. These start and end with three quote characters (either single or double)and end with three matching characters."
   ]
  },
  {
   "cell_type": "code",
   "execution_count": 3,
   "metadata": {},
   "outputs": [
    {
     "data": {
      "text/plain": [
       "'This string spans\\nmultiple lines.\\n\\nBlank lines are allowed.'"
      ]
     },
     "execution_count": 3,
     "metadata": {},
     "output_type": "execute_result"
    }
   ],
   "source": [
    "\"\"\"This string spans\n",
    "multiple lines.\n",
    "\n",
    "Blank lines are allowed.\"\"\"\n"
   ]
  },
  {
   "cell_type": "markdown",
   "metadata": {},
   "source": [
    "## Exercises\n",
    "\n",
    "> ## What Will Be Shown?\n",
    ">\n",
    "> Highlight the lines in the code below that will be available as online help.\n",
    "> Are there lines that should be made available, but won't be?\n",
    "> Will any lines produce a syntax error or a runtime error?\n",
    ">\n",
    "> ~~~\n",
    "> \"Find maximum edit distance between multiple sequences.\"\n",
    "> # This finds the maximum distance between all sequences.\n",
    ">\n",
    "> def overall_max(sequences):\n",
    ">     '''Determine overall maximum edit distance.'''\n",
    ">\n",
    ">     highest = 0\n",
    ">     for left in sequences:\n",
    ">         for right in sequences:\n",
    ">             '''Avoid checking sequence against itself.'''\n",
    ">             if left != right:\n",
    ">                 this = edit_distance(left, right)\n",
    ">                 highest = max(highest, this)\n",
    ">\n",
    ">     # Report.\n",
    ">     return highest\n",
    "> ~~~"
   ]
  },
  {
   "cell_type": "markdown",
   "metadata": {},
   "source": [
    "> ## Document This\n",
    ">\n",
    "> Turn the comment on the following function into a docstring\n",
    "> and check that `help` displays it properly.\n",
    ">\n",
    "> ~~~\n",
    "> def middle(a, b, c):\n",
    ">     # Return the middle value of three.\n",
    ">     # Assumes the values can actually be compared.\n",
    ">     values = [a, b, c]\n",
    ">     values.sort()\n",
    ">     return values[1]\n",
    "> ~~~"
   ]
  },
  {
   "cell_type": "markdown",
   "metadata": {},
   "source": [
    "> ## Clean Up This Code\n",
    ">\n",
    "> 1. Read this short program and try to predict what it does.\n",
    "> 2. Run it: how accurate was your prediction?\n",
    "> 3. Refactor the program to make it more readable.\n",
    ">    Remember to run it after each change to ensure its behavior hasn't changed.\n",
    "> 4. Compare your rewrite with your neighbor's.\n",
    ">    What did you do the same?\n",
    ">    What did you do differently, and why?\n",
    ">\n",
    "> ~~~\n",
    "> import sys\n",
    "> n = int(sys.argv[1])\n",
    "> s = sys.argv[2]\n",
    "> print(s)\n",
    "> i = 0\n",
    "> while i < n:\n",
    ">     # print('at', j)\n",
    ">     new = ''\n",
    ">     for j in range(len(s)):\n",
    ">         left = j-1\n",
    ">         right = (j+1)%len(s)\n",
    ">         if s[left]==s[right]: new += '-'\n",
    ">         else: new += '*'\n",
    ">     s=''.join(new)\n",
    ">     print(s)\n",
    ">     i += 1\n",
    "> ~~~\n",
    ">\n",
    ">> ### A Solution (more than one possible)\n",
    ">>\n",
    ">> ~~~\n",
    ">> def string_machine(input_string, iterations):\n",
    ">>     \"\"\"\n",
    ">>     Takes input_string and generates a new string with -'s and *'s\n",
    ">>     corresponding to characters that have identical adjacent characters\n",
    ">>     or not, respectively.  Iterates through this procedure with the resultant\n",
    ">>     strings for the supplied number of iterations.\n",
    ">>     \"\"\"\n",
    ">>     print(input_string)\n",
    ">>     old = input_string\n",
    ">>     for i in range(iterations):\n",
    ">>         new = ''\n",
    ">>         # iterate through characters in previous string\n",
    ">>         for j in range(len(s)):\n",
    ">>             left = j-1\n",
    ">>             right = (j+1)%len(s) # ensure right index wraps around\n",
    ">>             if old[left]==old[right]:\n",
    ">>                 new += '-'\n",
    ">>             else:\n",
    ">>                 new += '*'\n",
    ">>         print(new)\n",
    ">>         # store new string as old\n",
    ">>         old = new\n",
    ">>\n",
    ">> string_machine('et cetera', 10)\n",
    ">> ~~~"
   ]
  },
  {
   "cell_type": "markdown",
   "metadata": {},
   "source": [
    "> ## Finding Neighbors\n",
    ">\n",
    "> This function is supposed to find the minimum value adjacent to \n",
    "> (but not in) a specified location in an array.\n",
    "> For what inputs does it produce the wrong answer?\n",
    "> How can it be repaired?\n",
    ">\n",
    "> ~~~\n",
    "> def any_negative_neighbors(array, i, j, use_diagonals):\n",
    ">     '''\n",
    ">     Return True if any neighbors of (i,j) are negative, or False if none are.\n",
    ">     Only check diagonal neighbors if use_diagonals is True.\n",
    ">     '''\n",
    ">\n",
    ">     width, height = array.shape\n",
    ">\n",
    ">     if i > 0 and array[i-1, j] < 0: return True\n",
    ">     if i < width and array[i+1, j] < 0: return True\n",
    ">     if j > 0 and array[i, i-1] < 0: return True\n",
    ">     if j < width and array[i, j+1] < 0: return True\n",
    ">\n",
    ">     if not use_diagonals: return False\n",
    ">\n",
    ">     if i > 0 and j > 0 and array[i-1, j-1] < 0: return True\n",
    ">     if i > 0 and j < width and array[i-1, j+1] < 0: return True\n",
    ">     if i < width and j > 0 and array[i+1, j-1] < 0: return True\n",
    ">     if i < width and j < height and array[i+1, j+1] < 0: return True\n",
    "> ~~~"
   ]
  }
 ],
 "metadata": {
  "kernelspec": {
   "display_name": "Python 3",
   "language": "python",
   "name": "python3"
  },
  "language_info": {
   "codemirror_mode": {
    "name": "ipython",
    "version": 3
   },
   "file_extension": ".py",
   "mimetype": "text/x-python",
   "name": "python",
   "nbconvert_exporter": "python",
   "pygments_lexer": "ipython3",
   "version": "3.6.1"
  }
 },
 "nbformat": 4,
 "nbformat_minor": 2
}
