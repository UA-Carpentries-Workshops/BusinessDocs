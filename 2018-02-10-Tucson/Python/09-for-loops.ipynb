{
 "cells": [
  {
   "cell_type": "markdown",
   "metadata": {},
   "source": [
    "For Loops\n",
    "==\n",
    "Teaching: 10  \n",
    "Exercises: 10\n",
    "\n",
    "Questions:\n",
    " * How can I make a program do many things?\n",
    "\n",
    "Ojectives:\n",
    " * Explain what for loops are normally used for.\n",
    " * Trace the execution of a simple (unnested) loop and correctly state the values of variables in each iteration.\n",
    " * Write for loops that use the Accumulator pattern to aggregate values.\n",
    "---"
   ]
  },
  {
   "cell_type": "markdown",
   "metadata": {},
   "source": [
    "## A *for loop* executes commands once for each value in a collection.\n",
    "\n",
    "*   Doing calculations on the values in a list one by one\n",
    "    is as painful as working with `pressure_001`, `pressure_002`, etc.\n",
    "*   A *for loop* tells Python to execute some statements once for each value in a list,\n",
    "    a character string,\n",
    "    or some other collection.\n",
    "*   \"for each thing in this group, do these operations\""
   ]
  },
  {
   "cell_type": "code",
   "execution_count": 1,
   "metadata": {},
   "outputs": [
    {
     "name": "stdout",
     "output_type": "stream",
     "text": [
      "2\n",
      "3\n",
      "5\n"
     ]
    }
   ],
   "source": [
    "for number in [2, 3, 5]:\n",
    "    print(number)"
   ]
  },
  {
   "cell_type": "markdown",
   "metadata": {},
   "source": [
    "*   This `for` loop is equivalent to:"
   ]
  },
  {
   "cell_type": "code",
   "execution_count": 3,
   "metadata": {},
   "outputs": [
    {
     "name": "stdout",
     "output_type": "stream",
     "text": [
      "2\n",
      "3\n",
      "5\n"
     ]
    }
   ],
   "source": [
    "print(2)\n",
    "print(3)\n",
    "print(5)"
   ]
  },
  {
   "cell_type": "markdown",
   "metadata": {},
   "source": [
    "## The first line of the `for` loop must end with a colon, and the body must be indented.\n",
    "\n",
    "*   The colon at the end of the first line signals the start of a *block* of statements.\n",
    "*   Python uses indentation rather than `{}` or `begin`/`end` to show *nesting*.\n",
    "    *   Any consistent indentation is legal, but almost everyone uses four spaces."
   ]
  },
  {
   "cell_type": "code",
   "execution_count": 4,
   "metadata": {},
   "outputs": [
    {
     "ename": "IndentationError",
     "evalue": "expected an indented block (<ipython-input-4-d93aa9ee6533>, line 2)",
     "output_type": "error",
     "traceback": [
      "\u001b[1;36m  File \u001b[1;32m\"<ipython-input-4-d93aa9ee6533>\"\u001b[1;36m, line \u001b[1;32m2\u001b[0m\n\u001b[1;33m    print(number)\u001b[0m\n\u001b[1;37m        ^\u001b[0m\n\u001b[1;31mIndentationError\u001b[0m\u001b[1;31m:\u001b[0m expected an indented block\n"
     ]
    }
   ],
   "source": [
    "for number in [2, 3, 5]:\n",
    "print(number)"
   ]
  },
  {
   "cell_type": "markdown",
   "metadata": {},
   "source": [
    "## A `for` loop is made up of a collection, a loop variable, and a body."
   ]
  },
  {
   "cell_type": "code",
   "execution_count": 5,
   "metadata": {},
   "outputs": [
    {
     "name": "stdout",
     "output_type": "stream",
     "text": [
      "2\n",
      "3\n",
      "5\n"
     ]
    }
   ],
   "source": [
    "for number in [2, 3, 5]:\n",
    "    print(number)"
   ]
  },
  {
   "cell_type": "markdown",
   "metadata": {},
   "source": [
    "*   The collection, `[2, 3, 5]`, is what the loop is being run on.\n",
    "*   The body, `print(number)`, specifies what to do for each value in the collection.\n",
    "*   The loop variable, `number`, is what changes for each *iteration* of the loop.\n",
    "    *   The \"current thing\".\n",
    "\n",
    "## Loop variables can be called anything.\n",
    "\n",
    "*   As with all variables, loop variables are:\n",
    "    *   Created on demand.\n",
    "    *   Meaningless: their names can be anything at all."
   ]
  },
  {
   "cell_type": "code",
   "execution_count": 6,
   "metadata": {},
   "outputs": [
    {
     "name": "stdout",
     "output_type": "stream",
     "text": [
      "2\n",
      "3\n",
      "5\n"
     ]
    }
   ],
   "source": [
    "for kitten in [2, 3, 5]:\n",
    "    print(kitten)"
   ]
  },
  {
   "cell_type": "markdown",
   "metadata": {},
   "source": [
    "## The body of a loop can contain many statements.\n",
    "\n",
    "*   But no loop should be more than a few lines long.\n",
    "*   Hard for human beings to keep larger chunks of code in mind."
   ]
  },
  {
   "cell_type": "code",
   "execution_count": 7,
   "metadata": {},
   "outputs": [
    {
     "name": "stdout",
     "output_type": "stream",
     "text": [
      "2 4 8\n",
      "3 9 27\n",
      "5 25 125\n"
     ]
    }
   ],
   "source": [
    "primes = [2, 3, 5]\n",
    "for p in primes:\n",
    "    squared = p ** 2\n",
    "    cubed = p ** 3\n",
    "    print(p, squared, cubed)"
   ]
  },
  {
   "cell_type": "markdown",
   "metadata": {},
   "source": [
    "## Use `range` to iterate over a sequence of numbers.\n",
    "\n",
    "*   The built-in function `range` produces a sequence of numbers.\n",
    "    *   *Not* a list: the numbers are produced on demand\n",
    "        to make looping over large ranges more efficient.\n",
    "*   `range(N)` is the numbers 0..N-1\n",
    "    *   Exactly the legal indices of a list or character string of length N"
   ]
  },
  {
   "cell_type": "code",
   "execution_count": 8,
   "metadata": {},
   "outputs": [
    {
     "name": "stdout",
     "output_type": "stream",
     "text": [
      "a range is not a list: range(0, 3)\n",
      "0\n",
      "1\n",
      "2\n"
     ]
    }
   ],
   "source": [
    "print('a range is not a list:', range(3))\n",
    "for number in range(3):\n",
    "    print(number)"
   ]
  },
  {
   "cell_type": "markdown",
   "metadata": {},
   "source": [
    "## The Accumulator pattern turns many values into one.\n",
    "\n",
    "*   A common pattern in programs is to:\n",
    "    1.  Initialize an *accumulator* variable to zero, the empty string, or the empty list.\n",
    "    2.  Update the variable with values from a collection."
   ]
  },
  {
   "cell_type": "code",
   "execution_count": 9,
   "metadata": {},
   "outputs": [
    {
     "name": "stdout",
     "output_type": "stream",
     "text": [
      "55\n"
     ]
    }
   ],
   "source": [
    "# Sum the first 10 integers.\n",
    "total = 0\n",
    "for number in range(10):\n",
    "   total = total + (number + 1)\n",
    "print(total)"
   ]
  },
  {
   "cell_type": "markdown",
   "metadata": {},
   "source": [
    "*   Read `total = total + (number + 1)` as:\n",
    "    *   Add 1 to the current value of the loop variable `number`.\n",
    "    *   Add that to the current value of the accumulator variable `total`.\n",
    "    *   Assign that to `total`, replacing the current value.\n",
    "*   We have to add `number + 1` because `range` produces 0..9, not 1..10."
   ]
  },
  {
   "cell_type": "markdown",
   "metadata": {},
   "source": [
    "## Exercises"
   ]
  },
  {
   "cell_type": "markdown",
   "metadata": {},
   "source": [
    "> ## Classifying Errors\n",
    ">\n",
    "> Is an indentation error a syntax error or a runtime error?\n",
    ">\n",
    ">>### Solution\n",
    ">>An IndentationError is a syntax error. Programs with syntax errors cannot be started. A program with a runtime will start but an error will be thrown under certain conditions."
   ]
  },
  {
   "cell_type": "markdown",
   "metadata": {},
   "source": [
    "> ## Tracing Execution\n",
    ">\n",
    "> Create a table showing the numbers of the lines that are executed when this program runs,\n",
    "> and the values of the variables after each line is executed.\n",
    ">\n",
    "> ~~~\n",
    "> total = 0\n",
    "> for char in \"tin\":\n",
    ">     total = total + 1\n",
    "> ~~~\n",
    ">\n",
    ">>### Solution\n",
    "<table>\n",
    "      <tr>\n",
    "          <th>Line No</th>\n",
    "          <th>Variable</th>\n",
    "      </tr>\n",
    "      <tr>\n",
    "          <td>1</td>\n",
    "          <td>total=0</td>\n",
    "      </tr>\n",
    "      <tr>\n",
    "          <td>2</td>\n",
    "          <td>total=0, char='t'</td>\n",
    "      </tr>\n",
    "      <tr>\n",
    "          <td>3</td>\n",
    "          <td>total=1, char='t'</td>\n",
    "      </tr>\n",
    "      <tr>\n",
    "          <td>2</td>\n",
    "          <td>total=1, char='i'</td>\n",
    "      </tr>\n",
    "      <tr>\n",
    "          <td>3</td>\n",
    "          <td>total=2, char='i'</td>\n",
    "      </tr>\n",
    "      <tr>\n",
    "          <td>2</td>\n",
    "          <td>total=2, char='n'</td>\n",
    "      </tr>\n",
    "      <tr>\n",
    "          <td>3</td>\n",
    "          <td>total=3, char='n'</td>\n",
    "      </tr>\n",
    "</table>"
   ]
  },
  {
   "cell_type": "markdown",
   "metadata": {},
   "source": [
    "> ## Reversing a String\n",
    ">\n",
    "> Fill in the blanks in the program below so that it prints `nit`\n",
    "> (the reverse of the original character string `tin`).\n",
    ">\n",
    "> ~~~\n",
    "> original = \"tin\"\n",
    "> result = ____\n",
    "> for char in original:\n",
    ">     result = ____\n",
    "> print(result)\n",
    "> ~~~\n",
    ">\n",
    ">>### Solution\n",
    ">>~~~\n",
    ">> original = \"tin\"\n",
    ">> result = \"\"\n",
    ">> for char in original:\n",
    ">>     result = char + result\n",
    ">> print(result)\n",
    ">>~~~"
   ]
  },
  {
   "cell_type": "markdown",
   "metadata": {},
   "source": [
    "> ## Practice Accumulating\n",
    ">\n",
    "> Fill in the blanks in each of the programs below\n",
    "> to produce the indicated result.\n",
    ">\n",
    "> ### 1. Total length of the strings in the list: [\"red\", \"green\", \"blue\"] => 12\n",
    "> ~~~\n",
    "> total = 0\n",
    "> for word in [\"red\", \"green\", \"blue\"]:\n",
    ">     ____ = ____ + len(word)\n",
    "> print(total)\n",
    "> ~~~\n",
    ">\n",
    "> ### 2. List of word lengths: [\"red\", \"green\", \"blue\"] => [3, 5, 4]\n",
    ">~~~\n",
    "> lengths = ____\n",
    "> for word in [\"red\", \"green\", \"blue\"]:\n",
    ">     lengths = lengths.____(____)\n",
    "> print(lengths)\n",
    ">~~~\n",
    ">\n",
    "> ### 3. Concatenate all words: [\"red\", \"green\", \"blue\"] => \"redgreenblue\"\n",
    ">~~~\n",
    ">words = [\"red\", \"green\", \"blue\"]\n",
    "> result = ____\n",
    "> for ____ in ____:\n",
    ">     ____\n",
    "> print(result)\n",
    ">~~~\n",
    ">\n",
    "> ~~~\n",
    "> ### 4. Create acronym: [\"red\", \"green\", \"blue\"] => \"RGB\"\n",
    ">~~~\n",
    "> write the whole thing\n",
    ">~~~\n",
    ">\n",
    ">>### Solution\n",
    ">>1. \n",
    ">> total = 0\n",
    ">> for word in [\"red\", \"green\", \"blue\"]:\n",
    ">>     total = total + len(word)\n",
    ">> print(total)\n",
    ">>2. \n",
    ">>lengths = []\n",
    ">>for word in [\"red\", \"green\", \"blue\"]:\n",
    ">>    lengths.append(len(word))\n",
    ">>print(lengths)\n",
    ">>3. \n",
    ">>words = [\"red\", \"green\", \"blue\"]\n",
    ">>result = \"\"\n",
    ">>for word in words:\n",
    ">>    result = result+word\n",
    ">>print(result)\n",
    ">>4. \n",
    ">>words = [\"red\", \"green\", \"blue\"]\n",
    ">>acronym = \"\"\n",
    ">>for word in words:\n",
    ">>    acronym = acronym + word[0].upper()\n",
    ">>print(result)"
   ]
  },
  {
   "cell_type": "markdown",
   "metadata": {},
   "source": [
    "> ## Cumulative Sum\n",
    ">\n",
    "> Reorder and properly indent the lines of code below\n",
    "> so that they print an array with the cumulative sum of data.\n",
    "> The result should be `[1, 3, 5, 10]`.\n",
    ">\n",
    "> ~~~\n",
    "> cumulative += [sum]\n",
    "> for number in data:\n",
    "> cumulative = []\n",
    "> sum += number\n",
    "> print(cumulative)\n",
    "> data = [1,2,2,5]\n",
    "> ~~~\n",
    ">\n",
    ">>### Solution\n",
    ">>~~~\n",
    ">>sum = 0\n",
    ">>data = [1,2,2,5]\n",
    ">>cumulative = []\n",
    ">>for number in data:\n",
    ">>    sum += number\n",
    ">>    cumulative += [sum]\n",
    ">>print(cumulative)\n",
    ">~~~"
   ]
  },
  {
   "cell_type": "markdown",
   "metadata": {},
   "source": [
    ">## Identifying Variable Name Errors\n",
    ">\n",
    ">1. Read the code below and try to identify what the errors are without running it.\n",
    ">2. Run the code and read the error message. What type of NameError do you think this is? Is it a string with no quotes, a misspelled variable, or a variable that should have been defined but was not?\n",
    ">3. Fix the error.\n",
    ">4. Repeat steps 2 and 3, until you have fixed all the errors.\n",
    ">\n",
    ">~~~\n",
    ">for number in range(10):\n",
    ">    # use a if the number is a multiple of 3, otherwise use b\n",
    ">    if (Number % 3) == 0:\n",
    ">        message = message + a\n",
    ">    else:\n",
    ">        message = message + \"b\"\n",
    ">print(message)\n",
    ">~~~\n",
    ">\n",
    ">>### Solution\n",
    ">>~~~\n",
    ">>message = \"\"\n",
    ">>for number in range(10):\n",
    ">>    # use a if the number is a multiple of 3, otherwise use b\n",
    ">>    if (number % 3) == 0:\n",
    ">>        message = message + \"a\"\n",
    ">>    else:\n",
    ">>        message = message + \"b\"\n",
    ">>print(message)\n",
    ">>~~~"
   ]
  },
  {
   "cell_type": "markdown",
   "metadata": {},
   "source": [
    ">## Identifying Item Errors\n",
    ">\n",
    ">1. Read the code below and try to identify what the errors are without running it.\n",
    ">2. Run the code, and read the error message. What type of error is it?\n",
    ">3. Fix the error.\n",
    ">~~~\n",
    ">seasons = ['Spring', 'Summer', 'Fall', 'Winter']\n",
    ">print('My favorite season is ', seasons[4])\n",
    ">~~~\n",
    ">\n",
    ">>### Solution\n",
    ">>~~~\n",
    ">>seasons = ['Spring', 'Summer', 'Fall', 'Winter']\n",
    ">>print('My favorite season is ', seasons[3])\n",
    ">>~~~"
   ]
  },
  {
   "cell_type": "markdown",
   "metadata": {},
   "source": [
    "---\n",
    "## Keypoints:\n",
    " * A *for loop* executes commands once for each value in a collection.\n",
    " * The first line of the `for` loop must end with a colon, and the body must be indented.\n",
    " * A `for` loop is made up of a collection, a loop variable, and a body.\n",
    " * Loop variables can be called anything.\n",
    " * The body of a loop can contain many statements.\n",
    " * Use `range` to iterate over a sequence of numbers.\n",
    " * The Accumulator pattern turns many values into one."
   ]
  }
 ],
 "metadata": {
  "kernelspec": {
   "display_name": "Python 3",
   "language": "python",
   "name": "python3"
  },
  "language_info": {
   "codemirror_mode": {
    "name": "ipython",
    "version": 3
   },
   "file_extension": ".py",
   "mimetype": "text/x-python",
   "name": "python",
   "nbconvert_exporter": "python",
   "pygments_lexer": "ipython3",
   "version": "3.6.1"
  }
 },
 "nbformat": 4,
 "nbformat_minor": 2
}
