{
 "cells": [
  {
   "cell_type": "markdown",
   "metadata": {},
   "source": [
    "---\n",
    "title: \"For Loops\"\n",
    "teaching: 10\n",
    "exercises: 10\n",
    "questions:\n",
    "- \"How can I make a program do many things?\"\n",
    "objectives:\n",
    "- \"Explain what for loops are normally used for.\"\n",
    "- \"Trace the execution of a simple (unnested) loop and correctly state the values of variables in each iteration.\"\n",
    "- \"Write for loops that use the Accumulator pattern to aggregate values.\"\n",
    "keypoints:\n",
    "- \"A *for loop* executes commands once for each value in a collection.\"\n",
    "- \"The first line of the `for` loop must end with a colon, and the body must be indented.\"\n",
    "- \"A `for` loop is made up of a collection, a loop variable, and a body.\"\n",
    "- \"Loop variables can be called anything.\"\n",
    "- \"The body of a loop can contain many statements.\"\n",
    "- \"Use `range` to iterate over a sequence of numbers.\"\n",
    "- \"The Accumulator pattern turns many values into one.\"\n",
    "---\n",
    "## A *for loop* executes commands once for each value in a collection.\n",
    "\n",
    "*   Doing calculations on the values in a list one by one\n",
    "    is as painful as working with `pressure_001`, `pressure_002`, etc.\n",
    "*   A *for loop* tells Python to execute some statements once for each value in a list,\n",
    "    a character string,\n",
    "    or some other collection.\n",
    "*   \"for each thing in this group, do these operations\""
   ]
  },
  {
   "cell_type": "code",
   "execution_count": null,
   "metadata": {},
   "outputs": [],
   "source": [
    "for number in [2, 3, 5]:\n",
    "    print(number)"
   ]
  },
  {
   "cell_type": "markdown",
   "metadata": {},
   "source": [
    "{: .python}\n",
    "\n",
    "*   This `for` loop is equivalent to:"
   ]
  },
  {
   "cell_type": "code",
   "execution_count": null,
   "metadata": {},
   "outputs": [],
   "source": [
    "print(2)\n",
    "print(3)\n",
    "print(5)"
   ]
  },
  {
   "cell_type": "markdown",
   "metadata": {},
   "source": [
    "{: .python}\n",
    "\n",
    "*   And the `for` loop's output is:"
   ]
  },
  {
   "cell_type": "code",
   "execution_count": null,
   "metadata": {},
   "outputs": [],
   "source": [
    "2\n",
    "3\n",
    "5"
   ]
  },
  {
   "cell_type": "markdown",
   "metadata": {},
   "source": [
    "{: .output}\n",
    "\n",
    "## The first line of the `for` loop must end with a colon, and the body must be indented.\n",
    "\n",
    "*   The colon at the end of the first line signals the start of a *block* of statements.\n",
    "*   Python uses indentation rather than `{}` or `begin`/`end` to show *nesting*.\n",
    "    *   Any consistent indentation is legal, but almost everyone uses four spaces."
   ]
  },
  {
   "cell_type": "code",
   "execution_count": null,
   "metadata": {},
   "outputs": [],
   "source": [
    "for number in [2, 3, 5]:\n",
    "print(number)"
   ]
  },
  {
   "cell_type": "markdown",
   "metadata": {},
   "source": [
    "{: .python}"
   ]
  },
  {
   "cell_type": "code",
   "execution_count": null,
   "metadata": {},
   "outputs": [],
   "source": [
    "IndentationError: expected an indented block"
   ]
  },
  {
   "cell_type": "markdown",
   "metadata": {},
   "source": [
    "{: .error}\n",
    "\n",
    "## A `for` loop is made up of a collection, a loop variable, and a body."
   ]
  },
  {
   "cell_type": "code",
   "execution_count": null,
   "metadata": {},
   "outputs": [],
   "source": [
    "for number in [2, 3, 5]:\n",
    "    print(number)"
   ]
  },
  {
   "cell_type": "markdown",
   "metadata": {},
   "source": [
    "{: .python}\n",
    "\n",
    "*   The collection, `[2, 3, 5]`, is what the loop is being run on.\n",
    "*   The body, `print(number)`, specifies what to do for each value in the collection.\n",
    "*   The loop variable, `number`, is what changes for each *iteration* of the loop.\n",
    "    *   The \"current thing\".\n",
    "\n",
    "## Loop variables can be called anything.\n",
    "\n",
    "*   As with all variables, loop variables are:\n",
    "    *   Created on demand.\n",
    "    *   Meaningless: their names can be anything at all."
   ]
  },
  {
   "cell_type": "code",
   "execution_count": null,
   "metadata": {},
   "outputs": [],
   "source": [
    "for kitten in [2, 3, 5]:\n",
    "    print(kitten)"
   ]
  },
  {
   "cell_type": "markdown",
   "metadata": {},
   "source": [
    "{: .python}\n",
    "\n",
    "## The body of a loop can contain many statements.\n",
    "\n",
    "*   But no loop should be more than a few lines long.\n",
    "*   Hard for human beings to keep larger chunks of code in mind."
   ]
  },
  {
   "cell_type": "code",
   "execution_count": null,
   "metadata": {},
   "outputs": [],
   "source": [
    "primes = [2, 3, 5]\n",
    "for p in primes:\n",
    "    squared = p ** 2\n",
    "    cubed = p ** 3\n",
    "    print(p, squared, cubed)"
   ]
  },
  {
   "cell_type": "markdown",
   "metadata": {},
   "source": [
    "{: .python}"
   ]
  },
  {
   "cell_type": "code",
   "execution_count": null,
   "metadata": {},
   "outputs": [],
   "source": [
    "2 4 8\n",
    "3 9 27\n",
    "5 25 125"
   ]
  },
  {
   "cell_type": "markdown",
   "metadata": {},
   "source": [
    "{: .output}\n",
    "\n",
    "## Use `range` to iterate over a sequence of numbers.\n",
    "\n",
    "*   The built-in function `range` produces a sequence of numbers.\n",
    "    *   *Not* a list: the numbers are produced on demand\n",
    "        to make looping over large ranges more efficient.\n",
    "*   `range(N)` is the numbers 0..N-1\n",
    "    *   Exactly the legal indices of a list or character string of length N"
   ]
  },
  {
   "cell_type": "code",
   "execution_count": null,
   "metadata": {},
   "outputs": [],
   "source": [
    "print('a range is not a list:', range(3))\n",
    "for number in range(3):\n",
    "    print(number)"
   ]
  },
  {
   "cell_type": "markdown",
   "metadata": {},
   "source": [
    "{: .python}"
   ]
  },
  {
   "cell_type": "code",
   "execution_count": null,
   "metadata": {},
   "outputs": [],
   "source": [
    "a range is not a list: range(0, 3)\n",
    "0\n",
    "1\n",
    "2"
   ]
  },
  {
   "cell_type": "markdown",
   "metadata": {},
   "source": [
    "{: .output}\n",
    "\n",
    "## The Accumulator pattern turns many values into one.\n",
    "\n",
    "*   A common pattern in programs is to:\n",
    "    1.  Initialize an *accumulator* variable to zero, the empty string, or the empty list.\n",
    "    2.  Update the variable with values from a collection."
   ]
  },
  {
   "cell_type": "code",
   "execution_count": null,
   "metadata": {},
   "outputs": [],
   "source": [
    "# Sum the first 10 integers.\n",
    "total = 0\n",
    "for number in range(10):\n",
    "   total = total + (number + 1)\n",
    "print(total)"
   ]
  },
  {
   "cell_type": "markdown",
   "metadata": {},
   "source": [
    "{: .python}"
   ]
  },
  {
   "cell_type": "code",
   "execution_count": null,
   "metadata": {},
   "outputs": [],
   "source": [
    "55"
   ]
  },
  {
   "cell_type": "markdown",
   "metadata": {},
   "source": [
    "{: .output}\n",
    "\n",
    "*   Read `total = total + (number + 1)` as:\n",
    "    *   Add 1 to the current value of the loop variable `number`.\n",
    "    *   Add that to the current value of the accumulator variable `total`.\n",
    "    *   Assign that to `total`, replacing the current value.\n",
    "*   We have to add `number + 1` because `range` produces 0..9, not 1..10.\n",
    "\n",
    "> ## Classifying Errors\n",
    ">\n",
    "> Is an indentation error a syntax error or a runtime error?\n",
    "{: .challenge}\n",
    "\n",
    "> ## Tracing Execution\n",
    ">\n",
    "> Create a table showing the numbers of the lines that are executed when this program runs,\n",
    "> and the values of the variables after each line is executed.\n",
    ">\n",
    "> ~~~\n",
    "> total = 0\n",
    "> for char in \"tin\":\n",
    ">     total = total + 1\n",
    "> ~~~\n",
    "> {: .python}\n",
    "{: .challenge}\n",
    "\n",
    "> ## Reversing a String\n",
    ">\n",
    "> Fill in the blanks in the program below so that it prints \"nit\"\n",
    "> (the reverse of the original character string \"tin\").\n",
    ">\n",
    "> ~~~\n",
    "> original = \"tin\"\n",
    "> result = ____\n",
    "> for char in original:\n",
    ">     result = ____\n",
    "> print(result)\n",
    "> ~~~\n",
    "> {: .python}\n",
    "{: .challenge}\n",
    "\n",
    "> ## Practice Accumulating\n",
    ">\n",
    "> Fill in the blanks in each of the programs below\n",
    "> to produce the indicated result.\n",
    ">\n",
    "> ~~~\n",
    "> # Total length of the strings in the list: [\"red\", \"green\", \"blue\"] => 12\n",
    "> total = 0\n",
    "> for word in [\"red\", \"green\", \"blue\"]:\n",
    ">     ____ = ____ + len(word)\n",
    "> print(total)\n",
    "> ~~~\n",
    "> {: .python}\n",
    ">\n",
    "> ~~~\n",
    "> # List of word lengths: [\"red\", \"green\", \"blue\"] => [3, 5, 4]\n",
    "> lengths = ____\n",
    "> for word in [\"red\", \"green\", \"blue\"]:\n",
    ">     lengths = lengths.____(____)\n",
    "> print(lengths)\n",
    "> ~~~\n",
    "> {: .python}\n",
    ">\n",
    "> ~~~\n",
    "> # Concatenate all words: [\"red\", \"green\", \"blue\"] => \"redgreenblue\"\n",
    "> words = [\"red\", \"green\", \"blue\"]\n",
    "> result = ____\n",
    "> for ____ in ____:\n",
    ">     ____\n",
    "> print(result)\n",
    "> ~~~~\n",
    "> {: .python}\n",
    ">\n",
    "> ~~~\n",
    "> # Create acronym: [\"red\", \"green\", \"blue\"] => \"RGB\"\n",
    "> # write the whole thing\n",
    "> ~~~\n",
    "> {: .python}\n",
    "{: .challenge}\n",
    "\n",
    "> ## Cumulative Sum\n",
    ">\n",
    "> Reorder and properly indent the lines of code below\n",
    "> so that they print an array with the cumulative sum of data.\n",
    "> The result should be `[1, 3, 5, 10]`.\n",
    ">\n",
    "> ~~~\n",
    "> cumulative += [sum]\n",
    "> for number in data:\n",
    "> cumulative = []\n",
    "> sum += number\n",
    "> print(cumulative)\n",
    "> data = [1,2,2,5]\n",
    "> ~~~\n",
    "> {: .python}\n",
    "{: .challenge}\n",
    "\n",
    "> ## Indentation Errors\n",
    ">\n",
    "> What kind of error does Python report\n",
    "> when we try to run the following program?\n",
    ">\n",
    "> ~~~\n",
    "> for char in 'helium':\n",
    "> print char\n",
    "> ~~~\n",
    "> {: .python}\n",
    ">\n",
    "> Is this a syntax error or a runtime error?\n",
    "{: .challenge}"
   ]
  }
 ],
 "metadata": {},
 "nbformat": 4,
 "nbformat_minor": 2
}
