{
 "cells": [
  {
   "cell_type": "markdown",
   "metadata": {},
   "source": [
    "---\n",
    "title: \"Built-in Functions and Help\"\n",
    "teaching: 10\n",
    "exercises: 10\n",
    "questions:\n",
    "- \"How can I use built-in functions?\"\n",
    "- \"How can I find out what they do?\"\n",
    "objectives:\n",
    "- \"Explain the purpose of functions.\"\n",
    "- \"Correctly call built-in Python functions.\"\n",
    "- \"Correctly nest calls to built-in functions.\"\n",
    "- \"Use help to display documentation for built-in functions.\"\n",
    "keypoints:\n",
    "- \"A function may take zero or more arguments.\"\n",
    "- \"Commonly-used built-in functions include `max`, `min`, and `round`.\"\n",
    "- \"Functions may only work for certain (combinations of) arguments.\"\n",
    "- \"Functions may have default values for some arguments.\"\n",
    "- \"Use the built-in function `help` to get help for a function.\"\n",
    "- \"The Jupyter Notebook has two ways to get help.\"\n",
    "- \"Every function returns something.\"\n",
    "---\n",
    "## A function may take zero or more arguments.\n",
    "\n",
    "*   We have seen some functions already --- now let's take a closer look.\n",
    "*   An *argument* is a value passed into a function.\n",
    "*   `len` takes exactly one.\n",
    "*   `int`, `str`, and `float` create a new value from an existing one.\n",
    "*   `print` takes zero or more.\n",
    "*   `print` with no arguments prints a blank line.\n",
    "    *   Must always use parentheses, even if they're empty,\n",
    "        so that Python knows a function is being called."
   ]
  },
  {
   "cell_type": "code",
   "execution_count": null,
   "metadata": {},
   "outputs": [],
   "source": [
    "print('before')\n",
    "print()\n",
    "print('after')"
   ]
  },
  {
   "cell_type": "markdown",
   "metadata": {},
   "source": [
    "{: .python}"
   ]
  },
  {
   "cell_type": "code",
   "execution_count": null,
   "metadata": {},
   "outputs": [],
   "source": [
    "before\n",
    "\n",
    "after"
   ]
  },
  {
   "cell_type": "markdown",
   "metadata": {},
   "source": [
    "{: .output}\n",
    "\n",
    "## Commonly-used built-in functions include `max`, `min`, and `round`.\n",
    "\n",
    "*   Use `max` to find the largest value of one or more values.\n",
    "*   Use `min` to find the smallest.\n",
    "*   Both work on character strings as well as numbers.\n",
    "    *   \"Larger\" and \"smaller\" use (0-9, A-Z, a-z) to compare letters."
   ]
  },
  {
   "cell_type": "code",
   "execution_count": null,
   "metadata": {},
   "outputs": [],
   "source": [
    "print(max(1, 2, 3))\n",
    "print(min('a', 'A', '0'))"
   ]
  },
  {
   "cell_type": "markdown",
   "metadata": {},
   "source": [
    "{: .python}"
   ]
  },
  {
   "cell_type": "code",
   "execution_count": null,
   "metadata": {},
   "outputs": [],
   "source": [
    "3\n",
    "0"
   ]
  },
  {
   "cell_type": "markdown",
   "metadata": {},
   "source": [
    "{: .output}\n",
    "\n",
    "## Functions may only work for certain (combinations of) arguments.\n",
    "\n",
    "*   `max` and `min` must be given at least one argument.\n",
    "    *   \"Largest of the empty set\" is a meaningless question.\n",
    "*   And they must be given things that can meaningfully be compared."
   ]
  },
  {
   "cell_type": "code",
   "execution_count": null,
   "metadata": {},
   "outputs": [],
   "source": [
    "print(max(1, 'a'))"
   ]
  },
  {
   "cell_type": "markdown",
   "metadata": {},
   "source": [
    "{: .python}"
   ]
  },
  {
   "cell_type": "code",
   "execution_count": null,
   "metadata": {},
   "outputs": [],
   "source": [
    "TypeError: unorderable types: str() > int()"
   ]
  },
  {
   "cell_type": "markdown",
   "metadata": {},
   "source": [
    "{: .error}\n",
    "\n",
    "## Functions may have default values for some arguments.\n",
    "\n",
    "*   `round` will round off a floating-point number.\n",
    "*   By default, rounds to zero decimal places."
   ]
  },
  {
   "cell_type": "code",
   "execution_count": null,
   "metadata": {},
   "outputs": [],
   "source": [
    "round(3.712)"
   ]
  },
  {
   "cell_type": "markdown",
   "metadata": {},
   "source": [
    "{: .python}"
   ]
  },
  {
   "cell_type": "code",
   "execution_count": null,
   "metadata": {},
   "outputs": [],
   "source": [
    "4"
   ]
  },
  {
   "cell_type": "markdown",
   "metadata": {},
   "source": [
    "{: .output}\n",
    "\n",
    "*   We can specify the number of decimal places we want."
   ]
  },
  {
   "cell_type": "code",
   "execution_count": null,
   "metadata": {},
   "outputs": [],
   "source": [
    "round(3.712, 1)"
   ]
  },
  {
   "cell_type": "markdown",
   "metadata": {},
   "source": [
    "{: .python}"
   ]
  },
  {
   "cell_type": "code",
   "execution_count": null,
   "metadata": {},
   "outputs": [],
   "source": [
    "3.7"
   ]
  },
  {
   "cell_type": "markdown",
   "metadata": {},
   "source": [
    "{: .output}\n",
    "\n",
    "## Use the built-in function `help` to get help for a function.\n",
    "\n",
    "*   Every built-in function has online documentation."
   ]
  },
  {
   "cell_type": "code",
   "execution_count": null,
   "metadata": {},
   "outputs": [],
   "source": [
    "help(round)"
   ]
  },
  {
   "cell_type": "markdown",
   "metadata": {},
   "source": [
    "{: .python}"
   ]
  },
  {
   "cell_type": "code",
   "execution_count": null,
   "metadata": {},
   "outputs": [],
   "source": [
    "Help on built-in function round in module builtins:\n",
    "\n",
    "round(...)\n",
    "    round(number[, ndigits]) -> number\n",
    "\n",
    "    Round a number to a given precision in decimal digits (default 0 digits).\n",
    "    This returns an int when called with one argument, otherwise the\n",
    "    same type as the number. ndigits may be negative."
   ]
  },
  {
   "cell_type": "markdown",
   "metadata": {},
   "source": [
    "{: .output}\n",
    "\n",
    "## The Jupyter Notebook has two ways to get help.\n",
    "\n",
    "*   Place the cursor inside the parenthesis of the function,\n",
    "    hold down `shift`,\n",
    "    and press `tab`.\n",
    "*   Or type a function name with a question mark after it.\n",
    "\n",
    "## Every function returns something.\n",
    "\n",
    "*   Every function call produces some result.\n",
    "*   If the function doesn't have a useful result to return,\n",
    "    it usually returns the special value `None`."
   ]
  },
  {
   "cell_type": "code",
   "execution_count": null,
   "metadata": {},
   "outputs": [],
   "source": [
    "result = print('example')\n",
    "print('result of print is', result)"
   ]
  },
  {
   "cell_type": "markdown",
   "metadata": {},
   "source": [
    "{: .python}"
   ]
  },
  {
   "cell_type": "code",
   "execution_count": null,
   "metadata": {},
   "outputs": [],
   "source": [
    "example\n",
    "result of print is None"
   ]
  },
  {
   "cell_type": "markdown",
   "metadata": {},
   "source": [
    "{: .output}\n",
    "\n",
    "> ## What Happens When\n",
    ">\n",
    "> 1. Explain in simple terms the order of operations in the following program:\n",
    ">    when does the addition happen, when does the subtraction happen,\n",
    ">    when is each function called, etc.\n",
    "> 2. What is the final value of `radiance`?\n",
    ">\n",
    "> ~~~\n",
    "> radiance = 1.0\n",
    "> radiance = max(2.1, 2.0 + min(radiance, 1.1 * radiance - 0.5))\n",
    "> ~~~\n",
    "> {: .source}\n",
    "{: .challenge}\n",
    "\n",
    "> ## Spot the Difference\n",
    ">\n",
    "> 1. Predict what each of the `print` statements in the program below will print.\n",
    "> 2. Does `max(len(rich), poor)` run or produce an error message?\n",
    ">    If it runs, does its result make any sense?\n",
    ">\n",
    "> ~~~\n",
    "> rich = \"gold\"\n",
    "> poor = \"tin\"\n",
    "> print(max(rich, poor))\n",
    "> print(max(len(rich), len(poor)))\n",
    "> ~~~\n",
    "> {: .source}\n",
    "{: .challenge}\n",
    "\n",
    "> ## Why Not?\n",
    ">\n",
    "> Why don't `max` and `min` return `None` when they are given no arguments?\n",
    "{: .challenge}"
   ]
  }
 ],
 "metadata": {},
 "nbformat": 4,
 "nbformat_minor": 2
}
