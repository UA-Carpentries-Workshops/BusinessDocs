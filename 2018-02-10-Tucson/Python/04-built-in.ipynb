{
 "cells": [
  {
   "cell_type": "markdown",
   "metadata": {},
   "source": [
    "Built-in Functions and Help\n",
    "==\n",
    "Teaching: 10\n",
    "Exercises: 10\n",
    "\n",
    "### Questions:\n",
    " * How can I use built-in functions?\n",
    " * How can I find out what they do?\n",
    "\n",
    "### Objectives:\n",
    " * Explain the purpose of functions.\n",
    " * Correctly call built-in Python functions.\n",
    " * Correctly nest calls to built-in functions.\n",
    " * Use help to display documentation for built-in functions.\n",
    "---\n"
   ]
  },
  {
   "cell_type": "markdown",
   "metadata": {},
   "source": [
    "## A function may take zero or more arguments.\n",
    "\n",
    "*   We have seen some functions already --- now let's take a closer look.\n",
    "*   An *argument* is a value passed into a function.\n",
    "*   `len` takes exactly one.\n",
    "*   `int`, `str`, and `float` create a new value from an existing one.\n",
    "*   `print` takes zero or more.\n",
    "*   `print` with no arguments prints a blank line.\n",
    "    *   Must always use parentheses, even if they're empty,\n",
    "        so that Python knows a function is being called."
   ]
  },
  {
   "cell_type": "code",
   "execution_count": 1,
   "metadata": {},
   "outputs": [
    {
     "name": "stdout",
     "output_type": "stream",
     "text": [
      "before\n",
      "\n",
      "after\n"
     ]
    }
   ],
   "source": [
    "print('before')\n",
    "print()\n",
    "print('after')"
   ]
  },
  {
   "cell_type": "markdown",
   "metadata": {},
   "source": [
    "## Commonly-used built-in functions include `max`, `min`, and `round`.\n",
    "\n",
    "*   Use `max` to find the largest value of one or more values.\n",
    "*   Use `min` to find the smallest.\n",
    "*   Both work on character strings as well as numbers.\n",
    "    *   \"Larger\" and \"smaller\" use (0-9, A-Z, a-z) to compare letters."
   ]
  },
  {
   "cell_type": "code",
   "execution_count": 2,
   "metadata": {},
   "outputs": [
    {
     "name": "stdout",
     "output_type": "stream",
     "text": [
      "3\n",
      "0\n"
     ]
    }
   ],
   "source": [
    "print(max(1, 2, 3))\n",
    "print(min('a', 'A', '0'))"
   ]
  },
  {
   "cell_type": "markdown",
   "metadata": {},
   "source": [
    "## Functions may only work for certain (combinations of) arguments.\n",
    "\n",
    "*   `max` and `min` must be given at least one argument.\n",
    "    *   \"Largest of the empty set\" is a meaningless question.\n",
    "*   And they must be given things that can meaningfully be compared."
   ]
  },
  {
   "cell_type": "code",
   "execution_count": 3,
   "metadata": {},
   "outputs": [
    {
     "ename": "TypeError",
     "evalue": "'>' not supported between instances of 'str' and 'int'",
     "output_type": "error",
     "traceback": [
      "\u001b[1;31m---------------------------------------------------------------------------\u001b[0m",
      "\u001b[1;31mTypeError\u001b[0m                                 Traceback (most recent call last)",
      "\u001b[1;32m<ipython-input-3-342ea8675008>\u001b[0m in \u001b[0;36m<module>\u001b[1;34m()\u001b[0m\n\u001b[1;32m----> 1\u001b[1;33m \u001b[0mprint\u001b[0m\u001b[1;33m(\u001b[0m\u001b[0mmax\u001b[0m\u001b[1;33m(\u001b[0m\u001b[1;36m1\u001b[0m\u001b[1;33m,\u001b[0m \u001b[1;34m'a'\u001b[0m\u001b[1;33m)\u001b[0m\u001b[1;33m)\u001b[0m\u001b[1;33m\u001b[0m\u001b[0m\n\u001b[0m",
      "\u001b[1;31mTypeError\u001b[0m: '>' not supported between instances of 'str' and 'int'"
     ]
    }
   ],
   "source": [
    "print(max(1, 'a'))"
   ]
  },
  {
   "cell_type": "markdown",
   "metadata": {},
   "source": [
    "## Functions may have default values for some arguments.\n",
    "\n",
    "*   `round` will round off a floating-point number.\n",
    "*   By default, rounds to zero decimal places."
   ]
  },
  {
   "cell_type": "code",
   "execution_count": 4,
   "metadata": {},
   "outputs": [
    {
     "data": {
      "text/plain": [
       "4"
      ]
     },
     "execution_count": 4,
     "metadata": {},
     "output_type": "execute_result"
    }
   ],
   "source": [
    "round(3.712)"
   ]
  },
  {
   "cell_type": "markdown",
   "metadata": {},
   "source": [
    "*   We can specify the number of decimal places we want."
   ]
  },
  {
   "cell_type": "code",
   "execution_count": 5,
   "metadata": {},
   "outputs": [
    {
     "data": {
      "text/plain": [
       "3.7"
      ]
     },
     "execution_count": 5,
     "metadata": {},
     "output_type": "execute_result"
    }
   ],
   "source": [
    "round(3.712, 1)"
   ]
  },
  {
   "cell_type": "markdown",
   "metadata": {},
   "source": [
    "## Use the built-in function `help` to get help for a function.\n",
    "\n",
    "*   Every built-in function has online documentation."
   ]
  },
  {
   "cell_type": "code",
   "execution_count": 6,
   "metadata": {},
   "outputs": [
    {
     "name": "stdout",
     "output_type": "stream",
     "text": [
      "Help on built-in function round in module builtins:\n",
      "\n",
      "round(...)\n",
      "    round(number[, ndigits]) -> number\n",
      "    \n",
      "    Round a number to a given precision in decimal digits (default 0 digits).\n",
      "    This returns an int when called with one argument, otherwise the\n",
      "    same type as the number. ndigits may be negative.\n",
      "\n"
     ]
    }
   ],
   "source": [
    "help(round)"
   ]
  },
  {
   "cell_type": "markdown",
   "metadata": {},
   "source": [
    "## The Jupyter Notebook has two ways to get help.\n",
    "\n",
    "*   Place the cursor inside the parenthesis of the function,\n",
    "    hold down `shift`,\n",
    "    and press `tab`.\n",
    "*   Or type a function name with a question mark after it.\n",
    "\n",
    "## Every function returns something.\n",
    "\n",
    "*   Every function call produces some result.\n",
    "*   If the function doesn't have a useful result to return,\n",
    "    it usually returns the special value `None`."
   ]
  },
  {
   "cell_type": "code",
   "execution_count": 7,
   "metadata": {},
   "outputs": [
    {
     "name": "stdout",
     "output_type": "stream",
     "text": [
      "example\n",
      "result of print is None\n"
     ]
    }
   ],
   "source": [
    "result = print('example')\n",
    "print('result of print is', result)"
   ]
  },
  {
   "cell_type": "markdown",
   "metadata": {},
   "source": [
    "## Exercises"
   ]
  },
  {
   "cell_type": "markdown",
   "metadata": {},
   "source": [
    "> ## What Happens When\n",
    ">\n",
    "> 1. Explain in simple terms the order of operations in the following program:\n",
    ">    when does the addition happen, when does the subtraction happen,\n",
    ">    when is each function called, etc.\n",
    "> 2. What is the final value of `radiance`?\n",
    ">\n",
    "> ~~~\n",
    "> radiance = 1.0\n",
    "> radiance = max(2.1, 2.0 + min(radiance, 1.1 * radiance - 0.5))\n",
    "> ~~~\n",
    ">\n",
    ">>### Solution\n",
    ">>1.    `1.1 * radiance = 1.1`\n",
    ">>1.    `1.1 - 0.5 = 0.6`\n",
    ">>1.    `min(randiance, 0.6) = 0.6`\n",
    ">>1.    `2.0 + 0.6 = 2.6`\n",
    ">>1.    `max(2.1, 2.6) = 2.6`\n",
    ">>1.    At the end, `radiance = 2.6`\n",
    "\n",
    "\n",
    "\n",
    "> ## Spot the Difference\n",
    ">\n",
    "> 1. Predict what each of the `print` statements in the program below will print.\n",
    "> 2. Does `max(len(rich), poor)` run or produce an error message?\n",
    ">    If it runs, does its result make any sense?\n",
    ">\n",
    "> ~~~\n",
    ">easy_string = \"abc\"\n",
    ">print(max(easy_string))\n",
    ">rich = \"gold\"\n",
    ">poor = \"tin\"\n",
    ">print(max(rich, poor))\n",
    ">print(max(len(rich), len(poor)))\n",
    "> ~~~\n",
    ">\n",
    ">>### Solution\n",
    ">>1. `print(max(easy_string))` prints `c`\n",
    ">>1. `print(max(rich, poor))` prints `tin`\n",
    ">>1. `print(max(len(rich), len(poor)))` prints `4`\n",
    ">>1. It throws a TypeError. The command is trying to run `max(4, 'tin')` and you can’t compare a string and an integer\n",
    "\n",
    "\n",
    "\n",
    "> ## Why Not?\n",
    ">\n",
    "> Why don't `max` and `min` return `None` when they are given no arguments?\n",
    ">\n",
    ">>### Solution\n",
    ">>`max` and `min` return TypeErrors in this case because the correct number of parameters was not supplied. If it just returned None, the error would be much harder to trace as it would likely be stored into a variable and used later in the program, only to likely throw a runtime error.\n",
    "\n",
    "\n",
    "> ## Last Character of a String\n",
    ">\n",
    "> If Python starts counting from zero, and `len` returns the number of characters in a string, what index expression will get the last character in the string `name`? (Note: we will see a simpler way to do this in a later episode.)\n",
    ">\n",
    ">>### Solution\n",
    ">>`name[len(name) - 1]`\n",
    "\n"
   ]
  },
  {
   "cell_type": "markdown",
   "metadata": {},
   "source": [
    "---\n",
    "### Keypoints:\n",
    " * Use comments to add documentation to programs.\n",
    " * A function may take zero or more arguments.\n",
    " * Commonly-used built-in functions include max, min, and round.\n",
    " * Functions may only work for certain (combinations of) arguments.\n",
    " * Functions may have default values for some arguments.\n",
    " * Use the built-in function help to get help for a function.\n",
    " * The Jupyter Notebook has two ways to get help.\n",
    " * Every function returns something.\n",
    " * Python reports a syntax error when it can’t understand the source of a program.\n",
    " * Python reports a runtime error when something goes wrong while a program is executing.\n",
    " * Fix syntax errors by reading the source code, and runtime errors by tracing the program’s execution."
   ]
  }
 ],
 "metadata": {
  "kernelspec": {
   "display_name": "Python 3",
   "language": "python",
   "name": "python3"
  },
  "language_info": {
   "codemirror_mode": {
    "name": "ipython",
    "version": 3
   },
   "file_extension": ".py",
   "mimetype": "text/x-python",
   "name": "python",
   "nbconvert_exporter": "python",
   "pygments_lexer": "ipython3",
   "version": "3.6.1"
  }
 },
 "nbformat": 4,
 "nbformat_minor": 2
}
