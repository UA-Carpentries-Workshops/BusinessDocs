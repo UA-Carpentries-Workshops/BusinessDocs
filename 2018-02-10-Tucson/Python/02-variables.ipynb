{
 "cells": [
  {
   "cell_type": "markdown",
   "metadata": {},
   "source": [
    "Variables and Assignment\n",
    "==\n",
    "Teaching: 5\n",
    "Exercises: 5\n",
    "\n",
    "### Questions:\n",
    " * How can I store data in programs?\n",
    "\n",
    "### Objectives:\n",
    " * Write programs that assign scalar values to variables and perform calculations with those values.\n",
    " * Correctly trace value changes in programs that use scalar assignment.\n",
    "\n",
    "### Keypoints:\n",
    " * Use variables to store values.\n",
    " * Use `print` to display values.\n",
    " * Variables persist between cells.\n",
    " * Variables must be created before they are used.\n",
    " * Python is case-sensitive.\n",
    " * Use meaningful variable names.\n",
    " * Variables can be used in calculations.\n",
    "---"
   ]
  },
  {
   "cell_type": "markdown",
   "metadata": {},
   "source": [
    "## Use variables to store values.\n",
    "\n",
    "*   Variables are names for values.\n",
    "*   In Python the `=` symbol assigns the value on the right to the name on the left.\n",
    "*   The variable is created when a value is assigned to it.\n",
    "*   Here, Python assigns an age to a variable `age`\n",
    "    and a name in quotation marks to a variable `first_name`."
   ]
  },
  {
   "cell_type": "code",
   "execution_count": 2,
   "metadata": {
    "collapsed": true
   },
   "outputs": [],
   "source": [
    "age = 42\n",
    "first_name = 'Ahmed'"
   ]
  },
  {
   "cell_type": "markdown",
   "metadata": {},
   "source": [
    "*   Variable names:\n",
    "    *   cannot start with a digit\n",
    "    *   cannot contain spaces, quotation marks, or other punctuation\n",
    "    *   *may* contain an underscore (typically used to separate words in long variable names)\n",
    "*   Underscores at the start like `__alistairs_real_age` have a special meaning\n",
    "    so we won't do that until we understand the convention."
   ]
  },
  {
   "cell_type": "markdown",
   "metadata": {},
   "source": [
    "## Use `print` to display values.\n",
    "\n",
    "*   Python has a built-in function called `print` that prints things as text.\n",
    "*   Call the function (i.e., tell Python to run it) by using its name.\n",
    "*   Provide values to the function (i.e., the things to print) in parentheses.\n",
    "*   The values passed to the function are called 'arguments'"
   ]
  },
  {
   "cell_type": "code",
   "execution_count": 3,
   "metadata": {},
   "outputs": [
    {
     "name": "stdout",
     "output_type": "stream",
     "text": [
      "Ahmed is 42 years old\n"
     ]
    }
   ],
   "source": [
    "print(first_name, 'is', age, 'years old')"
   ]
  },
  {
   "cell_type": "markdown",
   "metadata": {},
   "source": [
    "*   `print` automatically puts a single space between items to separate them.\n",
    "*   And wraps around to a new line at the end."
   ]
  },
  {
   "cell_type": "markdown",
   "metadata": {},
   "source": [
    "## Variables must be created before they are used.\n",
    "\n",
    "*   If a variable doesn't exist yet, or if the name has been mis-spelled,\n",
    "    Python reports an error.\n",
    "    *   Unlike some languages, which \"guess\" a default value."
   ]
  },
  {
   "cell_type": "code",
   "execution_count": 5,
   "metadata": {},
   "outputs": [
    {
     "ename": "NameError",
     "evalue": "name 'last_name' is not defined",
     "output_type": "error",
     "traceback": [
      "\u001b[1;31m---------------------------------------------------------------------------\u001b[0m",
      "\u001b[1;31mNameError\u001b[0m                                 Traceback (most recent call last)",
      "\u001b[1;32m<ipython-input-5-c1fbb4e96102>\u001b[0m in \u001b[0;36m<module>\u001b[1;34m()\u001b[0m\n\u001b[1;32m----> 1\u001b[1;33m \u001b[0mprint\u001b[0m\u001b[1;33m(\u001b[0m\u001b[0mlast_name\u001b[0m\u001b[1;33m)\u001b[0m\u001b[1;33m\u001b[0m\u001b[0m\n\u001b[0m",
      "\u001b[1;31mNameError\u001b[0m: name 'last_name' is not defined"
     ]
    }
   ],
   "source": [
    "print(last_name)"
   ]
  },
  {
   "cell_type": "markdown",
   "metadata": {},
   "source": [
    "*   The last line of an error message is usually the most informative.\n",
    "*   We will look at error messages in detail [later]({{ site.github.url }}/05-error-messages/).\n",
    "\n",
    "###  Note: Variables Persist Between Cells\n",
    "Variables defined in one cell exist in all other cells once executed, so the relative location of cells in the notebook do not matter (i.e., cells lower down can still affect those above). Remember: Notebook cells are just a way to organize a program: as far as Python is concerned, all of the source code is one long set of instructions.\n"
   ]
  },
  {
   "cell_type": "markdown",
   "metadata": {},
   "source": [
    "## Variables can be used in calculations.\n",
    "\n",
    "*   We can use variables in calculations just as if they were values.\n",
    "    *   Remember, we assigned 42 to `age` a few lines ago."
   ]
  },
  {
   "cell_type": "code",
   "execution_count": 7,
   "metadata": {},
   "outputs": [
    {
     "name": "stdout",
     "output_type": "stream",
     "text": [
      "Age in three years: 45\n"
     ]
    }
   ],
   "source": [
    "age = age + 3\n",
    "print('Age in three years:', age)"
   ]
  },
  {
   "cell_type": "markdown",
   "metadata": {},
   "source": [
    "## Use an index to get a single character from a string.\n",
    " * The characters (individual letters, numbers, and so on) in a string are ordered.\n",
    " * For example, the string ‘AB’ is not the same as ‘BA’. Because of this ordering, we can treat the string as a list of characters.\n",
    " * Each position in the string (first, second, etc.) is given a number. This number is called an index or sometimes a subscript.\n",
    " * Indices are numbered from 0.\n",
    " * Use the position’s index in square brackets to get the character at that position.\n"
   ]
  },
  {
   "cell_type": "code",
   "execution_count": 8,
   "metadata": {
    "scrolled": true
   },
   "outputs": [
    {
     "name": "stdout",
     "output_type": "stream",
     "text": [
      "h\n"
     ]
    }
   ],
   "source": [
    "atom_name = 'helium'\n",
    "print(atom_name[0])"
   ]
  },
  {
   "cell_type": "markdown",
   "metadata": {},
   "source": [
    "## Use a slice to get a substring.\n",
    " * A part of a string is called a substring. A substring can be as short as a single character.\n",
    " * An item in a list is called an element. Whenever we treat a string as if it were a list, the string’s elements are its individual characters.\n",
    " * A slice is a part of a string (or, more generally, any list-like thing).\n",
    " * We take a slice by using `[start:stop]`, where `start` is replaced with the index of the first element we want and `stop` is replaced with the index of the element just after the last element we want.\n",
    " * Mathematically, you might say that a slice selects `[start:stop]`.\n",
    " * The difference between stop and start is the slice’s length.\n",
    " * Taking a slice does not change the contents of the original string. Instead, the slice is a copy of part of the original string."
   ]
  },
  {
   "cell_type": "code",
   "execution_count": 13,
   "metadata": {},
   "outputs": [
    {
     "name": "stdout",
     "output_type": "stream",
     "text": [
      "sod\n"
     ]
    }
   ],
   "source": [
    "atom_name = 'sodium'\n",
    "print(atom_name[0:3])"
   ]
  },
  {
   "cell_type": "markdown",
   "metadata": {},
   "source": [
    "## Use the built-in function `len` to find the length of a string."
   ]
  },
  {
   "cell_type": "code",
   "execution_count": 12,
   "metadata": {},
   "outputs": [
    {
     "name": "stdout",
     "output_type": "stream",
     "text": [
      "6\n"
     ]
    }
   ],
   "source": [
    "print(len('helium'))"
   ]
  },
  {
   "cell_type": "markdown",
   "metadata": {},
   "source": [
    " * Nested functions are evaluated from the inside out, just like in mathematics."
   ]
  },
  {
   "cell_type": "markdown",
   "metadata": {},
   "source": [
    "## Python is case-sensitive\n",
    " * Python thinks that upper- and lower-case letters are different, so `Name` and `name` are different variables.\n",
    " * There are conventions for using upper-case letters at the start of variable names so we will use lower-case letters for now.\n"
   ]
  },
  {
   "cell_type": "markdown",
   "metadata": {},
   "source": [
    "## Use meaningful variable names.\n",
    "\n",
    "*   Python doesn't care what you call variables as long as they obey the rules\n",
    "    (alphanumeric characters and the underscore)."
   ]
  },
  {
   "cell_type": "code",
   "execution_count": 10,
   "metadata": {},
   "outputs": [
    {
     "name": "stdout",
     "output_type": "stream",
     "text": [
      "Ahmed is 42 years old\n"
     ]
    }
   ],
   "source": [
    "flabadab = 42\n",
    "ewr_422_yY = 'Ahmed'\n",
    "print(ewr_422_yY, 'is', flabadab, 'years old')"
   ]
  },
  {
   "cell_type": "markdown",
   "metadata": {},
   "source": [
    " * Use meaningful variable names to help other people understand what the program does.\n",
    " * The most important “other person” is your future self.\n"
   ]
  },
  {
   "cell_type": "markdown",
   "metadata": {},
   "source": [
    "## Exercises"
   ]
  },
  {
   "cell_type": "markdown",
   "metadata": {},
   "source": [
    "> ## Swapping Values\n",
    ">\n",
    "> Draw a table showing the values of the variables in this program\n",
    "> after each statement is executed.\n",
    "> In simple terms, what do the last three lines of this program do?\n",
    ">\n",
    "> ~~~\n",
    "> lowest = 1.0\n",
    "> highest = 3.0\n",
    "> temp = lowest\n",
    "> lowest = highest\n",
    "> highest = temp\n",
    "> ~~~\n",
    "\n",
    "\n",
    "> ## Predicting Values\n",
    ">\n",
    "> What is the final value of `position` in the program below?\n",
    "> (Try to predict the value without running the program,\n",
    "> then check your prediction.)\n",
    ">\n",
    "> ~~~\n",
    "> initial = \"left\"\n",
    "> position = initial\n",
    "> initial = \"right\"\n",
    "> ~~~\n",
    ">\n",
    ">>### Solution\n",
    ">>`left`\n",
    ">>The `initial` variable is assigned the value “left”. In the second line, the `position` variable also receives the string value “left”. In third line, the `initial` variable is given the value “right”, but the `position` variable retains its string value of “left”.\n",
    "\n",
    "\n",
    ">## Challenge\n",
    "> If you assign `a = 123`, what happens if you try to get the second digit of `a`?\n",
    ">\n",
    ">>### Solution\n",
    ">>Numbers are not stored in the written representation, so they can’t be treated like strings.\n",
    ">>~~~\n",
    ">>a = 123\n",
    ">>print(a[1])\n",
    ">>\n",
    ">>TypeError: 'int' object is not subscriptable\n",
    ">>~~~\n",
    "\n",
    "\n",
    "\n",
    ">## Choosing a Name\n",
    ">Which is a better variable name, m, min, or minutes? Why? Hint: think about which code you would rather inherit from someone who is leaving the lab:\n",
    ">1. `ts = m * 60 + s`\n",
    ">1. `tot_sec = min * 60 + sec`\n",
    ">1. `total_seconds = minutes * 60 + seconds`\n",
    ">\n",
    ">>### Solution\n",
    ">>`minutes` is better because `min` might mean something like “minimum” (and actually does in Python, but we haven’t seen that yet).\n",
    "\n",
    "\n",
    ">## Slicing\n",
    ">What does the following program print?\n",
    ">~~~\n",
    ">atom_name = 'carbon'\n",
    ">print('atom_name[1:3] is:', atom_name[1:3])\n",
    ">~~~\n",
    ">`atom_name[1:3] is: ar`\n",
    ">1. What does thing[low:high] do?\n",
    ">1. What does thing[low:] (without a value after the colon) do?\n",
    ">1. What does thing[:high] (without a value before the colon) do?\n",
    ">1. What does thing[:] (just a colon) do?\n",
    ">1. What does thing[number:negative-number] do?"
   ]
  },
  {
   "cell_type": "markdown",
   "metadata": {},
   "source": [
    "## Key Points\n",
    " * Use variables to store values.\n",
    " * Use print to display values.\n",
    " * Variables persist between cells.\n",
    " * Variables must be created before they are used.\n",
    " * Variables can be used in calculations.\n",
    " * Use an index to get a single character from a string.\n",
    " * Use a slice to get a substring.\n",
    " * Use the built-in function len to find the length of a string.\n",
    " * Python is case-sensitive.\n",
    " * Use meaningful variable names."
   ]
  }
 ],
 "metadata": {
  "kernelspec": {
   "display_name": "Python 3",
   "language": "python",
   "name": "python3"
  },
  "language_info": {
   "codemirror_mode": {
    "name": "ipython",
    "version": 3
   },
   "file_extension": ".py",
   "mimetype": "text/x-python",
   "name": "python",
   "nbconvert_exporter": "python",
   "pygments_lexer": "ipython3",
   "version": "3.6.1"
  }
 },
 "nbformat": 4,
 "nbformat_minor": 2
}
