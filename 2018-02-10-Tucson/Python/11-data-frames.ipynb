{
 "cells": [
  {
   "cell_type": "markdown",
   "metadata": {},
   "source": [
    "Pandas Data Frames\n",
    "==========\n",
    "Teaching: 10\n",
    "Exercises: 10\n",
    "\n",
    "Questions:\n",
    " - \"How can I do statistical analysis of tabular data?\"\n",
    " \n",
    "Objectives:\n",
    " - \"Select individual values from a Pandas data frame.\"\n",
    " - \"Select entire rows or entire columns from a data frame.\"\n",
    " - \"Select a subset of both rows and columns from a data frame in a single operation.\"\n",
    " - \"Select a subset of a data frame by a single Boolean criterion.\"\n",
    " \n",
    "Keypoints:\n",
    " - \"Use `DataFrame.iloc[..., ...]` to select values by index location.\"\n",
    " - \"Use `:` on its own to mean all columns or all rows.\"\n",
    " - \"Select multiple columns or rows using `DataFrame.ix` and a named slice.\"\n",
    " - \"Result of slicing can be used in further operations.\"\n",
    " - \"Use comparisons to select data based on value.\"\n",
    " - \"Select values or NaN using a Boolean mask.\"\n",
    "---\n"
   ]
  },
  {
   "cell_type": "markdown",
   "metadata": {},
   "source": [
    "## Note about Pandas DataFrames/Series\n",
    "\n",
    "A DataFrame is a collection of Series; The DataFrame is the way Pandas represents a table, and Series is the data-structure Pandas use to represent a column.\n",
    "\n",
    "Pandas is built on top of the Numpy library, which in practice means that most of the methods defined for Numpy Arrays apply to Pandas Series/DataFrames.\n",
    "\n",
    "What makes Pandas so attractive is the powerful interface to access individual records of the table, proper handling of missing values, and relational-databases operations between DataFrames."
   ]
  },
  {
   "cell_type": "markdown",
   "metadata": {},
   "source": [
    "## Selecting values\n",
    "\n",
    "To access a value at the position [i,j] of a DataFrame, we have two options, depending on what is the meaning of i in use. Remember that a DataFrame provides a index as a way to identify the rows of the table; a row, then, has a position inside the table as well as a label, which uniquely identifies its entry in the DataFrame."
   ]
  },
  {
   "cell_type": "markdown",
   "metadata": {},
   "source": [
    "## Use DataFrame.iloc[..., ...] to select values by their (entry) position\n",
    "* Can specify location by numerical index analogously to 2D version of character selection in strings.\n"
   ]
  },
  {
   "cell_type": "code",
   "execution_count": 31,
   "metadata": {},
   "outputs": [
    {
     "name": "stdout",
     "output_type": "stream",
     "text": [
      "1601.056136\n"
     ]
    }
   ],
   "source": [
    "import pandas\n",
    "data = pandas.read_csv('../gapminder_data/gapminder_gdp_europe.csv', index_col='country')\n",
    "print(data.iloc[0, 0])"
   ]
  },
  {
   "cell_type": "markdown",
   "metadata": {},
   "source": [
    "## Use `DataFrame.loc[..., ...]` to select values by their (entry) label.\n",
    "\n",
    "*   Can specify location by name or by numerical index."
   ]
  },
  {
   "cell_type": "code",
   "execution_count": 32,
   "metadata": {},
   "outputs": [
    {
     "name": "stdout",
     "output_type": "stream",
     "text": [
      "1601.056136\n"
     ]
    }
   ],
   "source": [
    "print(data.loc[\"Albania\", \"gdpPercap_1952\"])"
   ]
  },
  {
   "cell_type": "markdown",
   "metadata": {},
   "source": [
    "## Use `:` on its own to mean all columns or all rows.\n",
    "\n",
    "*   Just like Python's usual slicing notation."
   ]
  },
  {
   "cell_type": "code",
   "execution_count": 33,
   "metadata": {},
   "outputs": [
    {
     "name": "stdout",
     "output_type": "stream",
     "text": [
      "gdpPercap_1952    1601.056136\n",
      "gdpPercap_1957    1942.284244\n",
      "gdpPercap_1962    2312.888958\n",
      "gdpPercap_1967    2760.196931\n",
      "gdpPercap_1972    3313.422188\n",
      "gdpPercap_1977    3533.003910\n",
      "gdpPercap_1982    3630.880722\n",
      "gdpPercap_1987    3738.932735\n",
      "gdpPercap_1992    2497.437901\n",
      "gdpPercap_1997    3193.054604\n",
      "gdpPercap_2002    4604.211737\n",
      "gdpPercap_2007    5937.029526\n",
      "Name: Albania, dtype: float64\n"
     ]
    }
   ],
   "source": [
    "print(data.loc[\"Albania\", :])"
   ]
  },
  {
   "cell_type": "markdown",
   "metadata": {},
   "source": [
    "*   Would get the same result printing `data.iloc[\"Albania\"]` (without a second index)."
   ]
  },
  {
   "cell_type": "code",
   "execution_count": 34,
   "metadata": {},
   "outputs": [
    {
     "name": "stdout",
     "output_type": "stream",
     "text": [
      "country\n",
      "Albania                    1601.056136\n",
      "Austria                    6137.076492\n",
      "Belgium                    8343.105127\n",
      "Bosnia and Herzegovina      973.533195\n",
      "Bulgaria                   2444.286648\n",
      "Croatia                    3119.236520\n",
      "Czech Republic             6876.140250\n",
      "Denmark                    9692.385245\n",
      "Finland                    6424.519071\n",
      "France                     7029.809327\n",
      "Germany                    7144.114393\n",
      "Greece                     3530.690067\n",
      "Hungary                    5263.673816\n",
      "Iceland                    7267.688428\n",
      "Ireland                    5210.280328\n",
      "Italy                      4931.404155\n",
      "Montenegro                 2647.585601\n",
      "Netherlands                8941.571858\n",
      "Norway                    10095.421720\n",
      "Poland                     4029.329699\n",
      "Portugal                   3068.319867\n",
      "Romania                    3144.613186\n",
      "Serbia                     3581.459448\n",
      "Slovak Republic            5074.659104\n",
      "Slovenia                   4215.041741\n",
      "Spain                      3834.034742\n",
      "Sweden                     8527.844662\n",
      "Switzerland               14734.232750\n",
      "Turkey                     1969.100980\n",
      "United Kingdom             9979.508487\n",
      "Name: gdpPercap_1952, dtype: float64\n"
     ]
    }
   ],
   "source": [
    "print(data.loc[:, \"gdpPercap_1952\"])"
   ]
  },
  {
   "cell_type": "markdown",
   "metadata": {},
   "source": [
    "*   Would get the same result printing `data[\"gdpPercap_1952\"]`\n",
    "*   Also get the same result printing `data.gdpPercap_1952` (since it's a column name)\n",
    "\n",
    "## Select multiple columns or rows using `DataFrame.iloc` and a named slice."
   ]
  },
  {
   "cell_type": "code",
   "execution_count": 35,
   "metadata": {},
   "outputs": [
    {
     "name": "stdout",
     "output_type": "stream",
     "text": [
      "             gdpPercap_1962  gdpPercap_1967  gdpPercap_1972\n",
      "country                                                    \n",
      "Italy           8243.582340    10022.401310    12269.273780\n",
      "Montenegro      4649.593785     5907.850937     7778.414017\n",
      "Netherlands    12790.849560    15363.251360    18794.745670\n",
      "Norway         13450.401510    16361.876470    18965.055510\n",
      "Poland          5338.752143     6557.152776     8006.506993\n"
     ]
    }
   ],
   "source": [
    "print(data.loc['Italy':'Poland', 'gdpPercap_1962':'gdpPercap_1972'])"
   ]
  },
  {
   "cell_type": "markdown",
   "metadata": {},
   "source": [
    "In the above code, we discover that **slicing using indexes is inclusive at both\n",
    "ends**, which differs from typical python behavior, where slicing indicates\n",
    "everything up to but not including the final index.  However, if we use integers\n",
    "when our DataFrame is indexed by something else, slicing follows typical\n",
    "pythonic behavior.\n",
    "\n",
    "## Result of slicing can be used in further operations.\n",
    "\n",
    "*   Usually don't just print a slice.\n",
    "*   All the statistical operators that work on entire data frames\n",
    "    work the same way on slices."
   ]
  },
  {
   "cell_type": "code",
   "execution_count": 36,
   "metadata": {},
   "outputs": [
    {
     "name": "stdout",
     "output_type": "stream",
     "text": [
      "gdpPercap_1962    13450.40151\n",
      "gdpPercap_1967    16361.87647\n",
      "gdpPercap_1972    18965.05551\n",
      "dtype: float64\n"
     ]
    }
   ],
   "source": [
    "print(data.loc['Italy':'Poland', 'gdpPercap_1962':'gdpPercap_1972'].max())"
   ]
  },
  {
   "cell_type": "code",
   "execution_count": 37,
   "metadata": {},
   "outputs": [
    {
     "name": "stdout",
     "output_type": "stream",
     "text": [
      "gdpPercap_1962    4649.593785\n",
      "gdpPercap_1967    5907.850937\n",
      "gdpPercap_1972    7778.414017\n",
      "dtype: float64\n"
     ]
    }
   ],
   "source": [
    "print(data.loc['Italy':'Poland', 'gdpPercap_1962':'gdpPercap_1972'].min())"
   ]
  },
  {
   "cell_type": "markdown",
   "metadata": {},
   "source": [
    "## Use comparisons to select data based on value.\n",
    "\n",
    "*   Comparison is applied element by element.\n",
    "*   Returns a similarly-shaped data frame of `True` and `False`."
   ]
  },
  {
   "cell_type": "code",
   "execution_count": 38,
   "metadata": {},
   "outputs": [
    {
     "name": "stdout",
     "output_type": "stream",
     "text": [
      "Subset of data:\n",
      "              gdpPercap_1962  gdpPercap_1967  gdpPercap_1972\n",
      "country                                                    \n",
      "Italy           8243.582340    10022.401310    12269.273780\n",
      "Montenegro      4649.593785     5907.850937     7778.414017\n",
      "Netherlands    12790.849560    15363.251360    18794.745670\n",
      "Norway         13450.401510    16361.876470    18965.055510\n",
      "Poland          5338.752143     6557.152776     8006.506993\n",
      "\n",
      "Where are values large?\n",
      "              gdpPercap_1962  gdpPercap_1967  gdpPercap_1972\n",
      "country                                                    \n",
      "Italy                 False            True            True\n",
      "Montenegro            False           False           False\n",
      "Netherlands            True            True            True\n",
      "Norway                 True            True            True\n",
      "Poland                False           False           False\n"
     ]
    }
   ],
   "source": [
    "# Use a subset of data to keep output readable.\n",
    "subset = data.loc['Italy':'Poland', 'gdpPercap_1962':'gdpPercap_1972']\n",
    "print('Subset of data:\\n', subset)\n",
    "\n",
    "# Which values were greater than 10000 ?\n",
    "print('\\nWhere are values large?\\n', subset > 10000)"
   ]
  },
  {
   "cell_type": "markdown",
   "metadata": {},
   "source": [
    "## Select values or NaN using a Boolean mask.\n",
    "\n",
    "*   A frame full of Booleans is sometimes called a *mask* because of how it can be used."
   ]
  },
  {
   "cell_type": "code",
   "execution_count": 39,
   "metadata": {},
   "outputs": [
    {
     "name": "stdout",
     "output_type": "stream",
     "text": [
      "             gdpPercap_1962  gdpPercap_1967  gdpPercap_1972\n",
      "country                                                    \n",
      "Italy                   NaN     10022.40131     12269.27378\n",
      "Montenegro              NaN             NaN             NaN\n",
      "Netherlands     12790.84956     15363.25136     18794.74567\n",
      "Norway          13450.40151     16361.87647     18965.05551\n",
      "Poland                  NaN             NaN             NaN\n"
     ]
    }
   ],
   "source": [
    "mask = subset > 10000\n",
    "print(subset[mask])"
   ]
  },
  {
   "cell_type": "markdown",
   "metadata": {},
   "source": [
    "*   Get the value where the mask is true, and NaN (Not a Number) where it is false.\n",
    "*   Useful because NaNs are ignored by operations like max, min, average, etc."
   ]
  },
  {
   "cell_type": "code",
   "execution_count": 40,
   "metadata": {},
   "outputs": [
    {
     "name": "stdout",
     "output_type": "stream",
     "text": [
      "       gdpPercap_1962  gdpPercap_1967  gdpPercap_1972\n",
      "count        2.000000        3.000000        3.000000\n",
      "mean     13120.625535    13915.843047    16676.358320\n",
      "std        466.373656     3408.589070     3817.597015\n",
      "min      12790.849560    10022.401310    12269.273780\n",
      "25%      12955.737547    12692.826335    15532.009725\n",
      "50%      13120.625535    15363.251360    18794.745670\n",
      "75%      13285.513523    15862.563915    18879.900590\n",
      "max      13450.401510    16361.876470    18965.055510\n"
     ]
    }
   ],
   "source": [
    "print(subset[subset > 10000].describe())"
   ]
  },
  {
   "cell_type": "markdown",
   "metadata": {},
   "source": [
    "# Exercises\n",
    "\n",
    "> ## Selection of Individual Values\n",
    ">\n",
    "> Assume Pandas has been imported into your notebook and the Gapminder GDP data for Europe has been loaded:\n",
    ">\n",
    "> ~~~\n",
    "> import pandas\n",
    ">\n",
    "> df = pandas.read_csv('data/gapminder_gdp_europe.csv', index_col='country')\n",
    "> ~~~\n",
    ">\n",
    "> Write an expression to find the Per Capita GDP of Serbia in 2007.\n",
    "\n",
    ">### Solution:\n",
    "The selection can be done by using the labels for both the row (“Serbia”) and the column (“gdpPercap_2007”):\n",
    "\n",
    ">print(df.loc['Serbia', 'gdpPercap_2007'])\n",
    "\n",
    ">The output is\n",
    "\n",
    "> 9786.534714\n",
    "\n",
    "\n",
    "\n",
    "> ## Extent of Slicing\n",
    ">\n",
    "> 1.  Do the two statements below produce the same output?\n",
    "> 2.  Based on this,what rule governs what is included (or not) in numerical slices and named slices in Pandas?\n",
    ">\n",
    "> ~~~\n",
    "> print(data.iloc[0:2, 0:2])\n",
    "> print(data.loc['Albania':'Belgium', 'gdpPercap_1952':'gdpPercap_1962'])\n",
    "> ~~~\n",
    "> \n",
    ">### Solution\n",
    "> No, they do not produce the same output! The output of the first statement is:\n",
    "\n",
    ">        gdpPercap_1952  gdpPercap_1957\n",
    ">country                                \n",
    ">Albania     1601.056136     1942.284244\n",
    ">Austria     6137.076492     8842.598030\n",
    "\n",
    ">The second statement gives:\n",
    "\n",
    ">        gdpPercap_1952  gdpPercap_1957  gdpPercap_1962\n",
    ">country                                                \n",
    ">Albania     1601.056136     1942.284244     2312.888958\n",
    ">Austria     6137.076492     8842.598030    10750.721110\n",
    ">Belgium     8343.105127     9714.960623    10991.206760\n",
    "\n",
    ">Clearly, the second statement produces an additional column compared to the first statement. What conclusion can we draw? We see that a numerical slice, 0:2, omits the final index (i.e. index 2) in the range provided, while a named slice, ‘gdpPercap_1952’:’gdpPercap_1962’, includes the final element\n",
    "\n",
    "\n",
    "> ## Reconstructing Data\n",
    ">\n",
    "> Explain what each line in the following short program does:\n",
    "> what is in `first`, `second`, etc.?\n",
    ">\n",
    "> ~~~\n",
    "> first = pandas.read_csv('data/gapminder_gdp_all.csv', index_col='country')\n",
    "> second = df[df['continent'] == 'Americas']\n",
    "> third = second.drop('Puerto Rico')\n",
    "> fourth = third.drop('continent', axis = 1)\n",
    "> fourth.to_csv('result.csv')\n",
    "> ~~~\n",
    "\n",
    ">### Solution\n",
    ">Let’s go through this piece of code line by line.\n",
    ">\n",
    ">first = pandas.read_csv('data/gapminder_all.csv', index_col='country')\n",
    ">\n",
    ">This line loads the dataset containing the GDP data from all countries into a dataframe called first. The index_col='country' parameter selects which column to use as the row labels in the dataframe.\n",
    ">\n",
    ">second = first[first['continent'] == 'Americas']\n",
    ">\n",
    ">This line makes a selection: only those rows of first for which the ‘continent’ column matches ‘Americas’ are extracted. Notice how the Boolean expression inside the brackets, first['continent'] == 'Americas', is used to select only those rows where the expression is true. Try printing this expression! Can you print also its individual True/False elements? (hint: first assign the expression to a variable)\n",
    ">\n",
    ">third = second.drop('Puerto Rico')\n",
    ">\n",
    ">As the syntax suggests, this line drops the row from second where the label is ‘Puerto Rico’. The resulting dataframe third has one row less than the original dataframe second.\n",
    ">\n",
    ">fourth = third.drop('continent', axis = 1)\n",
    ">\n",
    ">Again we apply the drop function, but in this case we are dropping not a row but a whole column. To accomplish this, we need to specify also the axis parameter (we want to drop the second column which has index 1).\n",
    ">\n",
    ">fourth.to_csv('result.csv')\n",
    ">\n",
    ">The final step is to write the data that we have been working on to a csv file. Pandas makes this easy with the to_csv() function. The only required argument to the function is the filename. Note that the file will be written in the directory from which you started the Jupyter or Python session.\n",
    "\n",
    "\n",
    "> ## Selecting Indices\n",
    ">\n",
    "> Explain in simple terms what `idxmin` and `idxmax` do in the short program below.\n",
    "> When would you use these methods?\n",
    ">\n",
    "> ~~~\n",
    "> data = pandas.load_csv('data/gapminder_gdp_europe.csv', index_col='country')\n",
    "> print(data.idxmin())\n",
    "> print(data.idxmax())\n",
    "> ~~~\n",
    ">### Solution\n",
    "> For each column in data, idxmin will return the index value corresponding to each column’s minimum; idxmax will do accordingly the same for each column’s maximum value.\n",
    "\n",
    "\n",
    "> ## Practice with Selection.\n",
    ">\n",
    "> Assume Pandas has been imported and the Gapminder GDP data for Europe has been loaded.\n",
    "> Write an expression to select each of the following:\n",
    ">\n",
    "> 1.  GDP per capita for all countries in 1982.\n",
    "> 2.  GDP per capita for Denmark for all years.\n",
    "> 3.  GDP per capita for all countries for years *after* 1985.\n",
    "> 4.  GDP per capita for each country in 2007 as a multiple of \n",
    ">     GDP per capita for that country in 1952.\n",
    "\n",
    ">### Solution\n",
    ">1:\n",
    ">\n",
    ">    data['gdpPercap_1982']\n",
    ">\n",
    ">2:\n",
    ">\n",
    ">    data.loc['Denmark',:]\n",
    ">\n",
    ">3:\n",
    ">\n",
    ">    data.loc[:,'gdpPercap_1985':]\n",
    ">\n",
    ">4:\n",
    ">\n",
    ">    data['gdpPercap_2007']/data['gdpPercap_1952']\n",
    ">\n",
    ">\n",
    "\n",
    "> ## Interpretation\n",
    ">\n",
    "> Poland's borders have been stable since 1945,\n",
    "> but changed several times in the years before then.\n",
    "> How would you handle this if you were creating a table of GDP per capita for Poland\n",
    "> for the entire Twentieth Century?"
   ]
  }
 ],
 "metadata": {
  "kernelspec": {
   "display_name": "Python 3",
   "language": "python",
   "name": "python3"
  },
  "language_info": {
   "codemirror_mode": {
    "name": "ipython",
    "version": 3
   },
   "file_extension": ".py",
   "mimetype": "text/x-python",
   "name": "python",
   "nbconvert_exporter": "python",
   "pygments_lexer": "ipython3",
   "version": "3.6.1"
  }
 },
 "nbformat": 4,
 "nbformat_minor": 2
}
