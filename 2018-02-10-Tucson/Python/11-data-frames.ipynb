{
 "cells": [
  {
   "cell_type": "markdown",
   "metadata": {},
   "source": [
    "---\n",
    "title: \"Pandas Data Frames\"\n",
    "teaching: 10\n",
    "exercises: 10\n",
    "questions:\n",
    "- \"How can I do statistical analysis of tabular data?\"\n",
    "objectives:\n",
    "- \"Select individual values from a Pandas data frame.\"\n",
    "- \"Select entire rows or entire columns from a data frame.\"\n",
    "- \"Select a subset of both rows and columns from a data frame in a single operation.\"\n",
    "- \"Select a subset of a data frame by a single Boolean criterion.\"\n",
    "keypoints:\n",
    "- \"Use `DataFrame.ix[..., ...]` to select values by location.\"\n",
    "- \"Use `:` on its own to mean all columns or all rows.\"\n",
    "- \"Select multiple columns or rows using `DataFrame.ix` and a named slice.\"\n",
    "- \"Result of slicing can be used in further operations.\"\n",
    "- \"Use comparisons to select data based on value.\"\n",
    "- \"Select values or NaN using a Boolean mask.\"\n",
    "---\n",
    "## Use `DataFrame.ix[..., ...]` to select values by location.\n",
    "\n",
    "*   Can specify location by name or by numerical index."
   ]
  },
  {
   "cell_type": "code",
   "execution_count": null,
   "metadata": {},
   "outputs": [],
   "source": [
    "data = pandas.read_csv('data/gapminder_gdp_europe.csv', index_col='country')\n",
    "print(data.ix[\"Albania\", \"gdpPercap_1952\"])\n",
    "print(data.ix[0, 0])"
   ]
  },
  {
   "cell_type": "markdown",
   "metadata": {},
   "source": [
    "{: .python}"
   ]
  },
  {
   "cell_type": "code",
   "execution_count": null,
   "metadata": {},
   "outputs": [],
   "source": [
    "1601.056136\n",
    "1601.056136"
   ]
  },
  {
   "cell_type": "markdown",
   "metadata": {},
   "source": [
    "{: .output}\n",
    "\n",
    "## Use `:` on its own to mean all columns or all rows.\n",
    "\n",
    "*   Just like Python's usual slicing notation."
   ]
  },
  {
   "cell_type": "code",
   "execution_count": null,
   "metadata": {},
   "outputs": [],
   "source": [
    "print(data.ix[\"Albania\", :])"
   ]
  },
  {
   "cell_type": "markdown",
   "metadata": {},
   "source": [
    "{: .python}"
   ]
  },
  {
   "cell_type": "code",
   "execution_count": null,
   "metadata": {},
   "outputs": [],
   "source": [
    "gdpPercap_1952    1601.056136\n",
    "gdpPercap_1957    1942.284244\n",
    "gdpPercap_1962    2312.888958\n",
    "gdpPercap_1967    2760.196931\n",
    "gdpPercap_1972    3313.422188\n",
    "gdpPercap_1977    3533.003910\n",
    "gdpPercap_1982    3630.880722\n",
    "gdpPercap_1987    3738.932735\n",
    "gdpPercap_1992    2497.437901\n",
    "gdpPercap_1997    3193.054604\n",
    "gdpPercap_2002    4604.211737\n",
    "gdpPercap_2007    5937.029526\n",
    "Name: Albania, dtype: float64"
   ]
  },
  {
   "cell_type": "markdown",
   "metadata": {},
   "source": [
    "{: .output}\n",
    "\n",
    "*   Would get the same result printing `data.ix[\"Albania\"]` (without a second index)."
   ]
  },
  {
   "cell_type": "code",
   "execution_count": null,
   "metadata": {},
   "outputs": [],
   "source": [
    "print(data.ix[:, \"gdpPercap_1952\"])"
   ]
  },
  {
   "cell_type": "markdown",
   "metadata": {},
   "source": [
    "{: .python}"
   ]
  },
  {
   "cell_type": "code",
   "execution_count": null,
   "metadata": {},
   "outputs": [],
   "source": [
    "country\n",
    "Albania                    1601.056136\n",
    "Austria                    6137.076492\n",
    "Belgium                    8343.105127\n",
    "⋮ ⋮ ⋮\n",
    "Switzerland               14734.232750\n",
    "Turkey                     1969.100980\n",
    "United Kingdom             9979.508487\n",
    "Name: gdpPercap_1952, dtype: float64"
   ]
  },
  {
   "cell_type": "markdown",
   "metadata": {},
   "source": [
    "{: .output}\n",
    "\n",
    "*   Would get the same result printing `data[\"gdpPercap_1952\"]`\n",
    "*   Also get the same result printing `data.gdpPercap_1952` (since it's a column name)\n",
    "\n",
    "## Select multiple columns or rows using `DataFrame.ix` and a named slice."
   ]
  },
  {
   "cell_type": "code",
   "execution_count": null,
   "metadata": {},
   "outputs": [],
   "source": [
    "print(data.ix['Italy':'Poland', 'gdpPercap_1962':'gdpPercap_1972'])"
   ]
  },
  {
   "cell_type": "markdown",
   "metadata": {},
   "source": [
    "{: .python}"
   ]
  },
  {
   "cell_type": "code",
   "execution_count": null,
   "metadata": {},
   "outputs": [],
   "source": [
    "             gdpPercap_1962  gdpPercap_1967  gdpPercap_1972\n",
    "country\n",
    "Italy           8243.582340    10022.401310    12269.273780\n",
    "Montenegro      4649.593785     5907.850937     7778.414017\n",
    "Netherlands    12790.849560    15363.251360    18794.745670\n",
    "Norway         13450.401510    16361.876470    18965.055510\n",
    "Poland          5338.752143     6557.152776     8006.506993"
   ]
  },
  {
   "cell_type": "markdown",
   "metadata": {},
   "source": [
    "{: .output}\n",
    "\n",
    "In the above code, we discover that **slicing using indexes is inclusive at both\n",
    "ends**, which differs from typical python behavior, where slicing indicates\n",
    "everything up to but not including the final index.  However, if we use integers\n",
    "when our DataFrame is indexed by something else, slicing follows typical\n",
    "pythonic behavior.\n",
    "\n",
    "## Result of slicing can be used in further operations.\n",
    "\n",
    "*   Usually don't just print a slice.\n",
    "*   All the statistical operators that work on entire data frames\n",
    "    work the same way on slices."
   ]
  },
  {
   "cell_type": "code",
   "execution_count": null,
   "metadata": {},
   "outputs": [],
   "source": [
    "print(data.ix['Italy':'Poland', 'gdpPercap_1962':'gdpPercap_1972'].max())"
   ]
  },
  {
   "cell_type": "markdown",
   "metadata": {},
   "source": [
    "{: .python}"
   ]
  },
  {
   "cell_type": "code",
   "execution_count": null,
   "metadata": {},
   "outputs": [],
   "source": [
    "gdpPercap_1962    13450.40151\n",
    "gdpPercap_1967    16361.87647\n",
    "gdpPercap_1972    18965.05551\n",
    "dtype: float64"
   ]
  },
  {
   "cell_type": "markdown",
   "metadata": {},
   "source": [
    "{: .output}"
   ]
  },
  {
   "cell_type": "code",
   "execution_count": null,
   "metadata": {},
   "outputs": [],
   "source": [
    "print(data.ix['Italy':'Poland', 'gdpPercap_1962':'gdpPercap_1972'].min())"
   ]
  },
  {
   "cell_type": "markdown",
   "metadata": {},
   "source": [
    "{: .python}"
   ]
  },
  {
   "cell_type": "code",
   "execution_count": null,
   "metadata": {},
   "outputs": [],
   "source": [
    "gdpPercap_1962    4649.593785\n",
    "gdpPercap_1967    5907.850937\n",
    "gdpPercap_1972    7778.414017\n",
    "dtype: float64"
   ]
  },
  {
   "cell_type": "markdown",
   "metadata": {},
   "source": [
    "{: .output}\n",
    "\n",
    "## Use comparisons to select data based on value.\n",
    "\n",
    "*   Comparison is applied element by element.\n",
    "*   Returns a similarly-shaped data frame of `True` and `False`."
   ]
  },
  {
   "cell_type": "code",
   "execution_count": null,
   "metadata": {},
   "outputs": [],
   "source": [
    "# Use a subset of data to keep output readable.\n",
    "subset = data.ix['Italy':'Poland', 'gdpPercap_1962':'gdpPercap_1972']\n",
    "print('Subset of data:\\n', subset)\n",
    "\n",
    "# Which values were greater than 10000 ?\n",
    "print('\\nWhere are values large?\\n', subset > 10000)"
   ]
  },
  {
   "cell_type": "markdown",
   "metadata": {},
   "source": [
    "{: .python}"
   ]
  },
  {
   "cell_type": "code",
   "execution_count": null,
   "metadata": {},
   "outputs": [],
   "source": [
    "Subset of data:\n",
    "             gdpPercap_1962  gdpPercap_1967  gdpPercap_1972\n",
    "country\n",
    "Italy           8243.582340    10022.401310    12269.273780\n",
    "Montenegro      4649.593785     5907.850937     7778.414017\n",
    "Netherlands    12790.849560    15363.251360    18794.745670\n",
    "Norway         13450.401510    16361.876470    18965.055510\n",
    "Poland          5338.752143     6557.152776     8006.506993\n",
    "\n",
    "Where are values large?\n",
    "            gdpPercap_1962 gdpPercap_1967 gdpPercap_1972\n",
    "country\n",
    "Italy                False           True           True\n",
    "Montenegro           False          False          False\n",
    "Netherlands           True           True           True\n",
    "Norway                True           True           True\n",
    "Poland               False          False          False"
   ]
  },
  {
   "cell_type": "markdown",
   "metadata": {},
   "source": [
    "{: .output}\n",
    "\n",
    "## Select values or NaN using a Boolean mask.\n",
    "\n",
    "*   A frame full of Booleans is sometimes called a *mask* because of how it can be used."
   ]
  },
  {
   "cell_type": "code",
   "execution_count": null,
   "metadata": {},
   "outputs": [],
   "source": [
    "mask = subset > 10000\n",
    "print(subset[mask])"
   ]
  },
  {
   "cell_type": "markdown",
   "metadata": {},
   "source": [
    "{: .python}"
   ]
  },
  {
   "cell_type": "code",
   "execution_count": null,
   "metadata": {},
   "outputs": [],
   "source": [
    "             gdpPercap_1962  gdpPercap_1967  gdpPercap_1972\n",
    "country\n",
    "Italy                   NaN     10022.40131     12269.27378\n",
    "Montenegro              NaN             NaN             NaN\n",
    "Netherlands     12790.84956     15363.25136     18794.74567\n",
    "Norway          13450.40151     16361.87647     18965.05551\n",
    "Poland                  NaN             NaN             NaN"
   ]
  },
  {
   "cell_type": "markdown",
   "metadata": {},
   "source": [
    "{: .output}\n",
    "\n",
    "*   Get the value where the mask is true, and NaN (Not a Number) where it is false.\n",
    "*   Useful because NaNs are ignored by operations like max, min, average, etc."
   ]
  },
  {
   "cell_type": "code",
   "execution_count": null,
   "metadata": {},
   "outputs": [],
   "source": [
    "print(subset[subset > 10000].describe())"
   ]
  },
  {
   "cell_type": "markdown",
   "metadata": {},
   "source": [
    "{: .python}"
   ]
  },
  {
   "cell_type": "code",
   "execution_count": null,
   "metadata": {},
   "outputs": [],
   "source": [
    "       gdpPercap_1962  gdpPercap_1967  gdpPercap_1972\n",
    "count        2.000000        3.000000        3.000000\n",
    "mean     13120.625535    13915.843047    16676.358320\n",
    "std        466.373656     3408.589070     3817.597015\n",
    "min      12790.849560    10022.401310    12269.273780\n",
    "25%      12955.737547    12692.826335    15532.009725\n",
    "50%      13120.625535    15363.251360    18794.745670\n",
    "75%      13285.513523    15862.563915    18879.900590\n",
    "max      13450.401510    16361.876470    18965.055510"
   ]
  },
  {
   "cell_type": "markdown",
   "metadata": {},
   "source": [
    "{: .output}\n",
    "\n",
    "> ## Selection of Individual Values\n",
    ">\n",
    "> Assume Pandas has been imported into your notebook\n",
    "> and the Gapminder GDP data for Europe has been loaded:\n",
    ">\n",
    "> ~~~\n",
    "> import pandas\n",
    ">\n",
    "> df = pandas.read_csv('data/gapminder_gdp_europe.csv', index_col='country')\n",
    "> ~~~\n",
    "> {: .source}\n",
    ">\n",
    "> Write an expression to find the Per Capita GDP of Serbia in 2007.\n",
    "{: .challenge}\n",
    "\n",
    "> ## Extent of Slicing\n",
    ">\n",
    "> 1.  Do the two statements below produce the same output?\n",
    "> 2.  Based on this,\n",
    ">     what rule governs what is included (or not) in numerical slices and named slices in Pandas?\n",
    ">\n",
    "> ~~~\n",
    "> print(data.ix[0:2, 0:2])\n",
    "> print(data.ix['Albania':'Belgium', 'gdpPercap_1952':'gdpPercap_1962'])\n",
    "> ~~~\n",
    "> {: .python}\n",
    "{: .challenge}\n",
    "\n",
    "> ## Reconstructing Data\n",
    ">\n",
    "> Explain what each line in the following short program does:\n",
    "> what is in `first`, `second`, etc.?\n",
    ">\n",
    "> ~~~\n",
    "> first = pandas.read_csv('data/gapminder_gdp_all.csv', index_col='country')\n",
    "> second = df[df['continent'] == 'Americas']\n",
    "> third = second.drop('Puerto Rico')\n",
    "> fourth = third.drop('continent', axis = 1)\n",
    "> fourth.to_csv('result.csv')\n",
    "> ~~~\n",
    "> {: .python}\n",
    "{: .challenge}\n",
    "\n",
    "> ## Selecting Indices\n",
    ">\n",
    "> Explain in simple terms what `idxmin` and `idxmax` do in the short program below.\n",
    "> When would you use these methods?\n",
    ">\n",
    "> ~~~\n",
    "> data = pandas.load_csv('data/gapminder_gdp_europe.csv', index_col='country')\n",
    "> print(data.idxmin())\n",
    "> print(data.idxmax())\n",
    "> ~~~\n",
    "> {: .python}\n",
    "{: .challenge}\n",
    "\n",
    "> ## Practice with Selection.\n",
    ">\n",
    "> Assume Pandas has been imported and the Gapminder GDP data for Europe has been loaded.\n",
    "> Write an expression to select each of the following:\n",
    ">\n",
    "> 1.  GDP per capita for all countries in 1982.\n",
    "> 2.  GDP per capita for Denmark for all years.\n",
    "> 3.  GDP per capita for all countries for years *after* 1985.\n",
    "> 4.  GDP per capita for each country in 2007 as a multiple of \n",
    ">     GDP per capita for that country in 1952.\n",
    "{: .challenge}\n",
    "\n",
    "> ## Interpretation\n",
    ">\n",
    "> Poland's borders have been stable since 1945,\n",
    "> but changed several times in the years before then.\n",
    "> How would you handle this if you were creating a table of GDP per capita for Poland\n",
    "> for the entire Twentieth Century?\n",
    "{: .challenge}"
   ]
  }
 ],
 "metadata": {},
 "nbformat": 4,
 "nbformat_minor": 2
}
