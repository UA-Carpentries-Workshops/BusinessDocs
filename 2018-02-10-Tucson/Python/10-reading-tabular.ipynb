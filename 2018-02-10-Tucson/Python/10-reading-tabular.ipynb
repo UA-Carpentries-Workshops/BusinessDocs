{
 "cells": [
  {
   "cell_type": "markdown",
   "metadata": {},
   "source": [
    "---\n",
    "title: \"Reading Tabular Data into Data Frames\"\n",
    "teaching: 5\n",
    "exercises: 10\n",
    "questions:\n",
    "- \"How can I read tabular data?\"\n",
    "objectives:\n",
    "- \"Import the Pandas library.\"\n",
    "- \"Use Pandas to load a simple CSV data set.\"\n",
    "- \"Get some basic information about a Pandas Data frame.\"\n",
    "keypoints:\n",
    "- \"Use the Pandas library to do statistics on tabular data.\"\n",
    "- \"Use `index_col` to specify that a column's values should be used as row headings.\"\n",
    "- \"Use `DataFrame.info` to find out more about a data frame.\"\n",
    "- \"The `DataFrame.columns` variable stores information about the data frame's columns.\"\n",
    "- \"Use `DataFrame.T` to transpose a data frame.\"\n",
    "- \"Use `DataFrame.describe` to get summary statistics about data.\"\n",
    "---\n",
    "## Use the Pandas library to do statistics on tabular data.\n",
    "\n",
    "*   Pandas is a widely-used Python library for statistics, particularly on tabular data.\n",
    "    *   Borrows many features from R's data frames.\n",
    "*   Load it with `import pandas`.\n",
    "*   Read a Comma Separate Values (CSV) data file with `pandas.read_csv`.\n",
    "    *   Argument is the name of the file to be read.\n",
    "    *   Assign result to a variable to store the data that was read."
   ]
  },
  {
   "cell_type": "code",
   "execution_count": null,
   "metadata": {},
   "outputs": [],
   "source": [
    "import pandas\n",
    "\n",
    "data = pandas.read_csv('data/gapminder_gdp_oceania.csv')\n",
    "print(data)"
   ]
  },
  {
   "cell_type": "markdown",
   "metadata": {},
   "source": [
    "{: .python}"
   ]
  },
  {
   "cell_type": "code",
   "execution_count": null,
   "metadata": {},
   "outputs": [],
   "source": [
    "       country  gdpPercap_1952  gdpPercap_1957  gdpPercap_1962  \\\n",
    "0    Australia     10039.59564     10949.64959     12217.22686\n",
    "1  New Zealand     10556.57566     12247.39532     13175.67800\n",
    "\n",
    "   gdpPercap_1967  gdpPercap_1972  gdpPercap_1977  gdpPercap_1982  \\\n",
    "0     14526.12465     16788.62948     18334.19751     19477.00928\n",
    "1     14463.91893     16046.03728     16233.71770     17632.41040\n",
    "\n",
    "   gdpPercap_1987  gdpPercap_1992  gdpPercap_1997  gdpPercap_2002  \\\n",
    "0     21888.88903     23424.76683     26997.93657     30687.75473\n",
    "1     19007.19129     18363.32494     21050.41377     23189.80135\n",
    "\n",
    "   gdpPercap_2007\n",
    "0     34435.36744\n",
    "1     25185.00911"
   ]
  },
  {
   "cell_type": "markdown",
   "metadata": {},
   "source": [
    "{: .output}\n",
    "\n",
    "*   The columns in a data frame are the observed variables, and the rows are the observations.\n",
    "*   Pandas uses backslash `\\` to show wrapped lines when output is too wide to fit the screen.\n",
    "\n",
    "> ## File Not Found\n",
    ">\n",
    "> Our lessons store their data files in a `data` sub-directory,\n",
    "> which is why the path to the file is `data/gapminder_gdp_oceania.csv`.\n",
    "> If you forget to include `data/`,\n",
    "> or if you include it but your copy of the file is somewhere else,\n",
    "> you will get a [runtime error]({{ site.github.url }}/05-error-messages/)\n",
    "> that ends with a line like this:\n",
    ">\n",
    "> ~~~\n",
    "> OSError: File b'gapminder_gdp_oceania.csv' does not exist\n",
    "> ~~~\n",
    "> {: .error}\n",
    "{: .callout}\n",
    "\n",
    "## Use `index_col` to specify that a column's values should be used as row headings.\n",
    "\n",
    "*   Row headings are numbers (0 and 1 in this case).\n",
    "*   Really want to index by country.\n",
    "*   Pass the name of the column to `read_csv` as its `index_col` parameter to do this."
   ]
  },
  {
   "cell_type": "code",
   "execution_count": null,
   "metadata": {},
   "outputs": [],
   "source": [
    "data = pandas.read_csv('data/gapminder_gdp_oceania.csv', index_col='country')\n",
    "print(data)"
   ]
  },
  {
   "cell_type": "markdown",
   "metadata": {},
   "source": [
    "{: .python}"
   ]
  },
  {
   "cell_type": "code",
   "execution_count": null,
   "metadata": {},
   "outputs": [],
   "source": [
    "             gdpPercap_1952  gdpPercap_1957  gdpPercap_1962  gdpPercap_1967  \\\n",
    "country\n",
    "Australia       10039.59564     10949.64959     12217.22686     14526.12465\n",
    "New Zealand     10556.57566     12247.39532     13175.67800     14463.91893\n",
    "\n",
    "             gdpPercap_1972  gdpPercap_1977  gdpPercap_1982  gdpPercap_1987  \\\n",
    "country\n",
    "Australia       16788.62948     18334.19751     19477.00928     21888.88903\n",
    "New Zealand     16046.03728     16233.71770     17632.41040     19007.19129\n",
    "\n",
    "             gdpPercap_1992  gdpPercap_1997  gdpPercap_2002  gdpPercap_2007\n",
    "country\n",
    "Australia       23424.76683     26997.93657     30687.75473     34435.36744\n",
    "New Zealand     18363.32494     21050.41377     23189.80135     25185.00911"
   ]
  },
  {
   "cell_type": "markdown",
   "metadata": {},
   "source": [
    "{: .output}\n",
    "\n",
    "## Use `DataFrame.info` to find out more about a data frame."
   ]
  },
  {
   "cell_type": "code",
   "execution_count": null,
   "metadata": {},
   "outputs": [],
   "source": [
    "data.info()"
   ]
  },
  {
   "cell_type": "markdown",
   "metadata": {},
   "source": [
    "{: .python}"
   ]
  },
  {
   "cell_type": "code",
   "execution_count": null,
   "metadata": {},
   "outputs": [],
   "source": [
    "<class 'pandas.core.frame.DataFrame'>\n",
    "Index: 2 entries, Australia to New Zealand\n",
    "Data columns (total 12 columns):\n",
    "gdpPercap_1952    2 non-null float64\n",
    "gdpPercap_1957    2 non-null float64\n",
    "gdpPercap_1962    2 non-null float64\n",
    "gdpPercap_1967    2 non-null float64\n",
    "gdpPercap_1972    2 non-null float64\n",
    "gdpPercap_1977    2 non-null float64\n",
    "gdpPercap_1982    2 non-null float64\n",
    "gdpPercap_1987    2 non-null float64\n",
    "gdpPercap_1992    2 non-null float64\n",
    "gdpPercap_1997    2 non-null float64\n",
    "gdpPercap_2002    2 non-null float64\n",
    "gdpPercap_2007    2 non-null float64\n",
    "dtypes: float64(12)\n",
    "memory usage: 208.0+ bytes"
   ]
  },
  {
   "cell_type": "markdown",
   "metadata": {},
   "source": [
    "{: .output}\n",
    "\n",
    "*   This is a `DataFrame`\n",
    "*   Two rows named `'Australia'` and `'New Zealand'`\n",
    "*   Twelve columns, each of which has two actual 64-bit floating point values.\n",
    "    *   We will talk later about null values, which are used to represent missing observations.\n",
    "*   Uses 208 bytes of memory.\n",
    "\n",
    "## The `DataFrame.columns` variable stores information about the data frame's columns.\n",
    "\n",
    "*   Note that this is data, *not* a method.\n",
    "    *   Like `math.pi`.\n",
    "    *   So do not use `()` to try to call it.\n",
    "*   Called a *member variable*, or just *member*."
   ]
  },
  {
   "cell_type": "code",
   "execution_count": null,
   "metadata": {},
   "outputs": [],
   "source": [
    "print(data.columns)"
   ]
  },
  {
   "cell_type": "markdown",
   "metadata": {},
   "source": [
    "{: .python}"
   ]
  },
  {
   "cell_type": "code",
   "execution_count": null,
   "metadata": {},
   "outputs": [],
   "source": [
    "Index(['gdpPercap_1952', 'gdpPercap_1957', 'gdpPercap_1962', 'gdpPercap_1967',\n",
    "       'gdpPercap_1972', 'gdpPercap_1977', 'gdpPercap_1982', 'gdpPercap_1987',\n",
    "       'gdpPercap_1992', 'gdpPercap_1997', 'gdpPercap_2002', 'gdpPercap_2007'],\n",
    "      dtype='object')"
   ]
  },
  {
   "cell_type": "markdown",
   "metadata": {},
   "source": [
    "{: .output}\n",
    "\n",
    "## Use `DataFrame.T` to transpose a data frame.\n",
    "\n",
    "*   Sometimes want to treat columns as rows and vice versa.\n",
    "*   Transpose (written `.T`) doesn't copy the data, just changes the program's view of it.\n",
    "*   Like `columns`, it is a member variable."
   ]
  },
  {
   "cell_type": "code",
   "execution_count": null,
   "metadata": {},
   "outputs": [],
   "source": [
    "print(data.T)"
   ]
  },
  {
   "cell_type": "markdown",
   "metadata": {},
   "source": [
    "{: .python}"
   ]
  },
  {
   "cell_type": "code",
   "execution_count": null,
   "metadata": {},
   "outputs": [],
   "source": [
    "country           Australia  New Zealand\n",
    "gdpPercap_1952  10039.59564  10556.57566\n",
    "gdpPercap_1957  10949.64959  12247.39532\n",
    "gdpPercap_1962  12217.22686  13175.67800\n",
    "gdpPercap_1967  14526.12465  14463.91893\n",
    "gdpPercap_1972  16788.62948  16046.03728\n",
    "gdpPercap_1977  18334.19751  16233.71770\n",
    "gdpPercap_1982  19477.00928  17632.41040\n",
    "gdpPercap_1987  21888.88903  19007.19129\n",
    "gdpPercap_1992  23424.76683  18363.32494\n",
    "gdpPercap_1997  26997.93657  21050.41377\n",
    "gdpPercap_2002  30687.75473  23189.80135\n",
    "gdpPercap_2007  34435.36744  25185.00911"
   ]
  },
  {
   "cell_type": "markdown",
   "metadata": {},
   "source": [
    "{: .output}\n",
    "\n",
    "## Use `DataFrame.describe` to get summary statistics about data.\n",
    "\n",
    "DataFrame.describe() gets the summary statistics of only the columns that have numerical data. \n",
    "All other columns are ignored."
   ]
  },
  {
   "cell_type": "code",
   "execution_count": null,
   "metadata": {},
   "outputs": [],
   "source": [
    "print(data.describe())"
   ]
  },
  {
   "cell_type": "markdown",
   "metadata": {},
   "source": [
    "{: .python}"
   ]
  },
  {
   "cell_type": "code",
   "execution_count": null,
   "metadata": {},
   "outputs": [],
   "source": [
    "       gdpPercap_1952  gdpPercap_1957  gdpPercap_1962  gdpPercap_1967  \\\n",
    "count        2.000000        2.000000        2.000000        2.000000\n",
    "mean     10298.085650    11598.522455    12696.452430    14495.021790\n",
    "std        365.560078      917.644806      677.727301       43.986086\n",
    "min      10039.595640    10949.649590    12217.226860    14463.918930\n",
    "25%      10168.840645    11274.086022    12456.839645    14479.470360\n",
    "50%      10298.085650    11598.522455    12696.452430    14495.021790\n",
    "75%      10427.330655    11922.958888    12936.065215    14510.573220\n",
    "max      10556.575660    12247.395320    13175.678000    14526.124650\n",
    "\n",
    "       gdpPercap_1972  gdpPercap_1977  gdpPercap_1982  gdpPercap_1987  \\\n",
    "count         2.00000        2.000000        2.000000        2.000000\n",
    "mean      16417.33338    17283.957605    18554.709840    20448.040160\n",
    "std         525.09198     1485.263517     1304.328377     2037.668013\n",
    "min       16046.03728    16233.717700    17632.410400    19007.191290\n",
    "25%       16231.68533    16758.837652    18093.560120    19727.615725\n",
    "50%       16417.33338    17283.957605    18554.709840    20448.040160\n",
    "75%       16602.98143    17809.077557    19015.859560    21168.464595\n",
    "max       16788.62948    18334.197510    19477.009280    21888.889030\n",
    "\n",
    "       gdpPercap_1992  gdpPercap_1997  gdpPercap_2002  gdpPercap_2007\n",
    "count        2.000000        2.000000        2.000000        2.000000\n",
    "mean     20894.045885    24024.175170    26938.778040    29810.188275\n",
    "std       3578.979883     4205.533703     5301.853680     6540.991104\n",
    "min      18363.324940    21050.413770    23189.801350    25185.009110\n",
    "25%      19628.685413    22537.294470    25064.289695    27497.598692\n",
    "50%      20894.045885    24024.175170    26938.778040    29810.188275\n",
    "75%      22159.406358    25511.055870    28813.266385    32122.777857\n",
    "max      23424.766830    26997.936570    30687.754730    34435.367440"
   ]
  },
  {
   "cell_type": "markdown",
   "metadata": {},
   "source": [
    "{: .output}\n",
    "\n",
    "*   Not particularly useful with just two records,\n",
    "    but very helpful when there are thousands.\n",
    "\n",
    "> ## Reading Other Data\n",
    ">\n",
    "> Read the data in `gapminder_gdp_americas.csv`\n",
    "> (which should be in the same directory as `gapminder_gdp_oceania.csv`)\n",
    "> into a variable called `americas`\n",
    "> and display its summary statistics.\n",
    "{: .challenge}\n",
    "\n",
    "> ## Inspecting Data.\n",
    ">\n",
    "> After reading the data for the Americas,\n",
    "> use `help(americas.head)` and `help(americas.tail)`\n",
    "> to find out what `DataFrame.head` and `DataFrame.tail` do.\n",
    ">\n",
    "> 1.  What method call will display the first three rows of this data?\n",
    "> 2.  What method call will display the last three columns of this data?\n",
    ">     (Hint: you may need to change your view of the data.)\n",
    "{: .challenge}\n",
    "\n",
    "> ## Error Messages\n",
    ">\n",
    "> The data for your current project is stored in a file called `microbes.csv`,\n",
    "> which is located in a folder called `field_data`.\n",
    "> You are doing analysis in a notebook called `analysis.ipynb`\n",
    "> in a sibling folder called `thesis`:\n",
    ">\n",
    "> ~~~\n",
    "> your_home_directory\n",
    "> +-- field_data/\n",
    "> |   +-- microbes.csv\n",
    "> +-- thesis/\n",
    ">     +-- analysis.ipynb\n",
    "> ~~~\n",
    "> {: .output}\n",
    ">\n",
    "> What value(s) should you pass to `read_csv` to read `microbes.csv` in `analysis.ipynb`?\n",
    "{: .challenge}\n",
    "\n",
    "> ## Writing Data\n",
    "> \n",
    "> As well as the `read_csv` function for reading data from a file,\n",
    "> Pandas provides a `to_csv` function to write data frames to files.\n",
    "> Applying what you've learned about reading from files,\n",
    "> write one of your data frames to a file called `processed.csv`.\n",
    "> You can use `help` to get information on how to use `to_csv`.\n",
    "{: .challenge}"
   ]
  }
 ],
 "metadata": {},
 "nbformat": 4,
 "nbformat_minor": 2
}
