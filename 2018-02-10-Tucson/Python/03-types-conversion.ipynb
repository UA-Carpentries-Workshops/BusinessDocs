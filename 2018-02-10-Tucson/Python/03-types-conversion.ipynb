{
 "cells": [
  {
   "cell_type": "markdown",
   "metadata": {},
   "source": [
    "Data Types and Type Conversion\n",
    "==\n",
    "Teaching: 5  \n",
    "Exercises: 5\n",
    "\n",
    "### Questions:\n",
    " * What kinds of data do programs store?\n",
    " * How can I convert one type to another?\n",
    "\n",
    "### Objectives:\n",
    " * Explain key differences between integers and floating point numbers.\n",
    " * Explain key differences between numbers and character strings.\n",
    " * Use built-in functions to convert between integers, floating point numbers, and strings.\n",
    "---"
   ]
  },
  {
   "cell_type": "markdown",
   "metadata": {},
   "source": [
    "## Every value has a type.\n",
    "\n",
    "*   Every value in a program has a specific type.\n",
    "*   Integer (`int`): counting numbers like 3 or -512.\n",
    "*   Floating point number (`float`): fractional numbers like 3.14159 or -2.5.\n",
    "    *   Integers are used to count, floats are used to measure.\n",
    "*   Character string (usually just called \"string\", `str`): text.\n",
    "    *   Written in either single quotes or double quotes (as long as they match).\n",
    "    *   The quotation marks aren't printed when the string is displayed.\n",
    "\n",
    "## Use the built-in function `type` to find the type of a value.\n",
    "\n",
    "*   Use the built-in function `type` to find out what type a value has.\n",
    "*   Works on variables as well.\n",
    "    *   But remember: the *value* has the type --- the *variable* is just a label."
   ]
  },
  {
   "cell_type": "code",
   "execution_count": 1,
   "metadata": {},
   "outputs": [
    {
     "name": "stdout",
     "output_type": "stream",
     "text": [
      "<class 'int'>\n"
     ]
    }
   ],
   "source": [
    "print(type(52))"
   ]
  },
  {
   "cell_type": "code",
   "execution_count": 2,
   "metadata": {},
   "outputs": [
    {
     "name": "stdout",
     "output_type": "stream",
     "text": [
      "<class 'str'>\n"
     ]
    }
   ],
   "source": [
    "fitness = 'average'\n",
    "print(type(fitness))"
   ]
  },
  {
   "cell_type": "markdown",
   "metadata": {},
   "source": [
    "## Types control what operations can be performed on a given value.\n",
    "\n",
    "*   A value's type determines what the program can do to it."
   ]
  },
  {
   "cell_type": "code",
   "execution_count": 3,
   "metadata": {},
   "outputs": [
    {
     "name": "stdout",
     "output_type": "stream",
     "text": [
      "2\n"
     ]
    }
   ],
   "source": [
    "print(5 - 3)"
   ]
  },
  {
   "cell_type": "code",
   "execution_count": 4,
   "metadata": {},
   "outputs": [
    {
     "ename": "TypeError",
     "evalue": "unsupported operand type(s) for -: 'str' and 'str'",
     "output_type": "error",
     "traceback": [
      "\u001b[1;31m---------------------------------------------------------------------------\u001b[0m",
      "\u001b[1;31mTypeError\u001b[0m                                 Traceback (most recent call last)",
      "\u001b[1;32m<ipython-input-4-67f5626a1e07>\u001b[0m in \u001b[0;36m<module>\u001b[1;34m()\u001b[0m\n\u001b[1;32m----> 1\u001b[1;33m \u001b[0mprint\u001b[0m\u001b[1;33m(\u001b[0m\u001b[1;34m'hello'\u001b[0m \u001b[1;33m-\u001b[0m \u001b[1;34m'h'\u001b[0m\u001b[1;33m)\u001b[0m\u001b[1;33m\u001b[0m\u001b[0m\n\u001b[0m",
      "\u001b[1;31mTypeError\u001b[0m: unsupported operand type(s) for -: 'str' and 'str'"
     ]
    }
   ],
   "source": [
    "print('hello' - 'h')"
   ]
  },
  {
   "cell_type": "markdown",
   "metadata": {},
   "source": [
    "## You can use the “+” and “*” operators on strings.\n",
    "\n",
    "*   \"Adding\" character strings concatenates them."
   ]
  },
  {
   "cell_type": "code",
   "execution_count": 13,
   "metadata": {},
   "outputs": [
    {
     "name": "stdout",
     "output_type": "stream",
     "text": [
      "Ahmed Walsh\n"
     ]
    }
   ],
   "source": [
    "full_name = 'Ahmed' + ' ' + 'Walsh'\n",
    "print(full_name)"
   ]
  },
  {
   "cell_type": "markdown",
   "metadata": {},
   "source": [
    "*   Multiplying a character string by an integer 'N' creates a new string that consists of that character string repeated 'N' times.\n",
    "    * Since multiplication is repeated addition.\n"
   ]
  },
  {
   "cell_type": "code",
   "execution_count": 6,
   "metadata": {},
   "outputs": [
    {
     "name": "stdout",
     "output_type": "stream",
     "text": [
      "==========\n"
     ]
    }
   ],
   "source": [
    "separator = '=' * 10\n",
    "print(separator)"
   ]
  },
  {
   "cell_type": "markdown",
   "metadata": {},
   "source": [
    "## Strings have a length (but numbers don't).\n",
    "\n",
    "*   The built-in function `len` counts the number of characters in a string."
   ]
  },
  {
   "cell_type": "code",
   "execution_count": 7,
   "metadata": {},
   "outputs": [
    {
     "name": "stdout",
     "output_type": "stream",
     "text": [
      "11\n"
     ]
    }
   ],
   "source": [
    "print(len(full_name))"
   ]
  },
  {
   "cell_type": "markdown",
   "metadata": {},
   "source": [
    "*   But numbers don't have a length (not even zero)."
   ]
  },
  {
   "cell_type": "code",
   "execution_count": 8,
   "metadata": {},
   "outputs": [
    {
     "ename": "TypeError",
     "evalue": "object of type 'int' has no len()",
     "output_type": "error",
     "traceback": [
      "\u001b[1;31m---------------------------------------------------------------------------\u001b[0m",
      "\u001b[1;31mTypeError\u001b[0m                                 Traceback (most recent call last)",
      "\u001b[1;32m<ipython-input-8-f769e8e8097d>\u001b[0m in \u001b[0;36m<module>\u001b[1;34m()\u001b[0m\n\u001b[1;32m----> 1\u001b[1;33m \u001b[0mprint\u001b[0m\u001b[1;33m(\u001b[0m\u001b[0mlen\u001b[0m\u001b[1;33m(\u001b[0m\u001b[1;36m52\u001b[0m\u001b[1;33m)\u001b[0m\u001b[1;33m)\u001b[0m\u001b[1;33m\u001b[0m\u001b[0m\n\u001b[0m",
      "\u001b[1;31mTypeError\u001b[0m: object of type 'int' has no len()"
     ]
    }
   ],
   "source": [
    "print(len(52))"
   ]
  },
  {
   "cell_type": "markdown",
   "metadata": {},
   "source": [
    "## Must convert numbers to strings or vice versa when operating on them.\n",
    "\n",
    "*   Cannot add numbers and strings."
   ]
  },
  {
   "cell_type": "code",
   "execution_count": 9,
   "metadata": {},
   "outputs": [
    {
     "ename": "TypeError",
     "evalue": "unsupported operand type(s) for +: 'int' and 'str'",
     "output_type": "error",
     "traceback": [
      "\u001b[1;31m---------------------------------------------------------------------------\u001b[0m",
      "\u001b[1;31mTypeError\u001b[0m                                 Traceback (most recent call last)",
      "\u001b[1;32m<ipython-input-9-b0c7b6ede016>\u001b[0m in \u001b[0;36m<module>\u001b[1;34m()\u001b[0m\n\u001b[1;32m----> 1\u001b[1;33m \u001b[0mprint\u001b[0m\u001b[1;33m(\u001b[0m\u001b[1;36m1\u001b[0m \u001b[1;33m+\u001b[0m \u001b[1;34m'A'\u001b[0m\u001b[1;33m)\u001b[0m\u001b[1;33m\u001b[0m\u001b[0m\n\u001b[0m",
      "\u001b[1;31mTypeError\u001b[0m: unsupported operand type(s) for +: 'int' and 'str'"
     ]
    }
   ],
   "source": [
    "print(1 + 'A')"
   ]
  },
  {
   "cell_type": "markdown",
   "metadata": {},
   "source": [
    "*   Not allowed because it's ambiguous: should `1 + '2'` be `3` or `'12'`?\n",
    "*   Some types can be converted to other types by using the type name as a function."
   ]
  },
  {
   "cell_type": "code",
   "execution_count": 10,
   "metadata": {},
   "outputs": [
    {
     "name": "stdout",
     "output_type": "stream",
     "text": [
      "3\n",
      "12\n"
     ]
    }
   ],
   "source": [
    "print(1 + int('2'))\n",
    "print(str(1) + '2')"
   ]
  },
  {
   "cell_type": "markdown",
   "metadata": {},
   "source": [
    "## Can mix integers and floats freely in operations.\n",
    "\n",
    "*   Integers and floating-point numbers can be mixed in arithmetic.\n",
    "    *   Python automatically converts integers to floats as needed."
   ]
  },
  {
   "cell_type": "code",
   "execution_count": 11,
   "metadata": {},
   "outputs": [
    {
     "name": "stdout",
     "output_type": "stream",
     "text": [
      "half is 0.5\n",
      "three squared is 9.0\n"
     ]
    }
   ],
   "source": [
    "print('half is', 1 / 2.0)\n",
    "print('three squared is', 3.0 ** 2)"
   ]
  },
  {
   "cell_type": "markdown",
   "metadata": {},
   "source": [
    "## Variables only change value when something is assigned to them.\n",
    "\n",
    "*   If we make one cell in a spreadsheet depend on another,\n",
    "    and update the latter,\n",
    "    the former updates automatically.\n",
    "*   This does **not** happen in programming languages."
   ]
  },
  {
   "cell_type": "code",
   "execution_count": 12,
   "metadata": {},
   "outputs": [
    {
     "name": "stdout",
     "output_type": "stream",
     "text": [
      "first is 2 and second is 5\n"
     ]
    }
   ],
   "source": [
    "first = 1\n",
    "second = 5 * first\n",
    "first = 2\n",
    "print('first is', first, 'and second is', second)"
   ]
  },
  {
   "cell_type": "markdown",
   "metadata": {},
   "source": [
    "*   The computer reads the value of `first` when doing the multiplication,\n",
    "    creates a new value, and assigns it to `second`.\n",
    "*   After that, `second` does not remember where it came from."
   ]
  },
  {
   "cell_type": "markdown",
   "metadata": {},
   "source": [
    "## Exercises"
   ]
  },
  {
   "cell_type": "markdown",
   "metadata": {},
   "source": [
    "> ## Fractions\n",
    "> What type of value is 3.4? How can you find out?\n",
    ">\n",
    ">>### Solution\n",
    ">>`print(type(3.4))`\n",
    ">>`<class 'float'>`\n",
    "\n",
    "\n",
    "> ## Automatic Type Conversion\n",
    "> What type of value is 3.25 + 4?\n",
    ">\n",
    ">>### Solution\n",
    ">>It is a float: integers are automatically converted to floats as necessary.\n",
    ">>`result = 3.25 + 4`\n",
    ">>`print(result, 'is', type(result))`\n",
    ">>\n",
    ">>`7.25 is <class 'float'>`\n",
    "\n",
    "\n",
    "> ## Choose a Type\n",
    ">\n",
    "> What type of value (integer, floating point number, or character string)\n",
    "> would you use to represent each of the following?\n",
    ">\n",
    "> 1. Number of days since the start of the year.\n",
    "> 2. Time elapsed since the start of the year.\n",
    "> 3. Serial number of a piece of lab equipment.\n",
    "> 4. A lab specimen's age.\n",
    "> 5. Current population of a city.\n",
    "> 6. Average population of a city over time.\n",
    ">\n",
    ">>### Solution\n",
    ">>1. Integer, since the number of days would lie between 1 and 365.\n",
    ">>2. Floating point, since the time would represent the days, months etc in total.\n",
    ">>3. Character string, since the serial number has a long string with alphabets and numbers.\n",
    ">>4. Integer, since the age of a specimen cannot be represented in floating point or character.\n",
    ">>5. Floating point number, since larger numbers can be represented using floating point easily.\n",
    ">>6. Floating point number, since an average is likely to have a fractional part (decimal point).\n",
    "\n",
    "> ## Division Types\n",
    ">\n",
    "> The `//` operator calculates the whole-number result of division,\n",
    "> while the '%' operator calculates the remainder from division:\n",
    ">\n",
    "> ~~~\n",
    "> print('5 // 3:', 5//3)\n",
    "> print('5 % 3:', 5%3)\n",
    "> ~~~\n",
    ">\n",
    ">\n",
    "> ~~~\n",
    "> 5 // 3: 1\n",
    "> 5 % 3: 2\n",
    "> ~~~\n",
    ">\n",
    ">\n",
    "> If `num_subjects` is the number of subjects taking part in a study,\n",
    "> and `num_per_survey` is the number that can take part in a single survey,\n",
    "> write an expression that calculates the number of surveys needed\n",
    "> to reach everyone once.\n",
    ">\n",
    ">>### Solution\n",
    ">>~~~\n",
    ">>num_subjects = 600\n",
    ">>num_per_survey = 42\n",
    ">>num_surveys = num_subjects // num_per_survey + 1\n",
    ">>print(num_subjects, 'subjects,', num_per_survey, 'per survey:', num_surveys)\n",
    ">>\n",
    ">> 600 subjects, 42 per survey: 15\n",
    "\n",
    ">>~~~\n",
    "\n",
    "\n",
    "> ## Strings to Numbers\n",
    ">\n",
    "> `float` will convert a string to a floating point number,\n",
    "> and `int` will convert a floating point number to an integer:\n",
    ">\n",
    "> ~~~\n",
    "> print(\"string to float:\", float(\"3.4\"))\n",
    "> print(\"float to int:\", int(3.4))\n",
    "> ~~~\n",
    ">\n",
    ">\n",
    "> ~~~\n",
    "> 3.4\n",
    "> 3\n",
    "> ~~~\n",
    ">\n",
    ">\n",
    "> Given that,\n",
    "> what do you expect this program to do?\n",
    "> What does it actually do?\n",
    "> Why do you think it does that?\n",
    ">\n",
    "> ~~~\n",
    "> print(\"fractional string to int:\", int(\"3.4\"))\n",
    "> ~~~\n",
    ">\n",
    ">>### Solution\n",
    ">>What do you expect this program to do? It would not be so unreasonable to expect the Python 3 int command to convert the string “3.4” to 3.4 and an additional type conversion to 3. After all, Python 3 performs a lot of other magic - isn’t that part of its charm?\n",
    ">>\n",
    ">>However, Python 3 throws an error. Why? To be consistent, possibly. If you ask Python to perform two consecutive typecasts, you must convert it explicitly in code.\n",
    ">>\n",
    ">>`int(\"3.4\")`  \n",
    ">>`int(float(\"3.4\"))`\n",
    ">>~~~\n",
    ">>`In [2]: int(\"3.4\")`\n",
    ">>`---------------------------------------------------------------------------`\n",
    ">>`ValueError                                Traceback (most recent call last)`\n",
    ">>`<ipython-input-2-ec6729dfccdc> in <module>()`\n",
    ">>`----> 1 int(\"3.4\")`\n",
    ">>`ValueError: invalid literal for int() with base 10: '3.4'`\n",
    ">>`3`\n",
    ">>~~~\n",
    "\n",
    "> ## Arithmetic with Different Types\n",
    ">\n",
    "> Which of the following will print 2.0?\n",
    "> Note: there may be more than one right answer.\n",
    ">\n",
    "> ~~~\n",
    "> first = 1.0\n",
    "> second = \"1\"\n",
    "> third = \"1.1\"\n",
    "> ~~~\n",
    ">\n",
    ">\n",
    "> 1. `first + float(second)`\n",
    "> 2. `float(second) + float(third)`\n",
    "> 3. `first + int(third)`\n",
    "> 4. `first + int(float(third))`\n",
    "> 5. `int(first) + int(float(third))`\n",
    "> 6. `2.0 * second`\n",
    ">\n",
    "> > ### Solution\n",
    "> > Answer: 1 and 4\n",
    "\n",
    "\n",
    ">## Complex Numbers\n",
    ">Python provides complex numbers, which are written as `1.0+2.0j`. If `val` is an imaginary number, its real and imaginary parts can be accessed using dot notation as `val.real` and `val.imag`.\n",
    ">1. Why do you think Python uses `j` instead of `i` for the imaginary part?\n",
    ">1. What do you expect `1+2j + 3` to produce?\n",
    ">1. What do you expect `4j` to be? What about `4 j` or `4 + j`? >\n",
    ">\n",
    ">>### Solution\n",
    ">>1. Standard mathematics treatments typically use i to denote an imaginary number. However, from media reports it was an early convention established from electrical engineering that now presents a technically expensive area to change. Stack Overflow provides additional explanation and discussion\n",
    ">>1. _4+2j_\n",
    ">>1. _4j, syntax error, depends on the value of j_\n"
   ]
  },
  {
   "cell_type": "markdown",
   "metadata": {},
   "source": [
    "---\n",
    "## Key Points\n",
    " * Every value has a type.\n",
    " * Use the built-in function type to find the type of a value.\n",
    " * Types control what operations can be done on values.\n",
    " * Strings can be added and multiplied.\n",
    " * Strings have a length (but numbers don’t).\n",
    " * Must convert numbers to strings or vice versa when operating on them.\n",
    " * Can mix integers and floats freely in operations.\n",
    " * Variables only change value when something is assigned to them."
   ]
  }
 ],
 "metadata": {
  "kernelspec": {
   "display_name": "Python 3",
   "language": "python",
   "name": "python3"
  },
  "language_info": {
   "codemirror_mode": {
    "name": "ipython",
    "version": 3
   },
   "file_extension": ".py",
   "mimetype": "text/x-python",
   "name": "python",
   "nbconvert_exporter": "python",
   "pygments_lexer": "ipython3",
   "version": "3.6.1"
  }
 },
 "nbformat": 4,
 "nbformat_minor": 2
}
