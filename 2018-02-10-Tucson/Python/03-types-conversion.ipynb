{
 "cells": [
  {
   "cell_type": "markdown",
   "metadata": {},
   "source": [
    "---\n",
    "title: \"Data Types and Type Conversion\"\n",
    "teaching: 5\n",
    "exercises: 5\n",
    "questions:\n",
    "- \"What kinds of data do programs store?\"\n",
    "- \"How can I convert one type to another?\"\n",
    "objectives:\n",
    "- \"Explain key differences between integers and floating point numbers.\"\n",
    "- \"Explain key differences between numbers and character strings.\"\n",
    "- \"Use built-in functions to convert between integers, floating point numbers, and strings.\"\n",
    "keypoints:\n",
    "- \"Every value has a type.\"\n",
    "- \"Use the built-in function `type` to find the type of a value.\"\n",
    "- \"Types control what operations can be done on values.\"\n",
    "- \"Strings can be added and multiplied.\"\n",
    "- \"Strings have a length (but numbers don't).\"\n",
    "- \"Must convert numbers to strings or vice versa when operating on them.\"\n",
    "- \"Can mix integers and floats freely in operations.\"\n",
    "- \"Variables only change value when something is assigned to them.\"\n",
    "---\n",
    "## Every value has a type.\n",
    "\n",
    "*   Every value in a program has a specific type.\n",
    "*   Integer (`int`): counting numbers like 3 or -512.\n",
    "*   Floating point number (`float`): fractional numbers like 3.14159 or -2.5.\n",
    "    *   Integers are used to count, floats are used to measure.\n",
    "*   Character string (usually just called \"string\", `str`): text.\n",
    "    *   Written in either single quotes or double quotes (as long as they match).\n",
    "    *   The quotation marks aren't printed when the string is displayed.\n",
    "\n",
    "## Use the built-in function `type` to find the type of a value.\n",
    "\n",
    "*   Use the built-in function `type` to find out what type a value has.\n",
    "*   Works on variables as well.\n",
    "    *   But remember: the *value* has the type --- the *variable* is just a label."
   ]
  },
  {
   "cell_type": "code",
   "execution_count": null,
   "metadata": {},
   "outputs": [],
   "source": [
    "print(type(52))"
   ]
  },
  {
   "cell_type": "markdown",
   "metadata": {},
   "source": [
    "{: .python}"
   ]
  },
  {
   "cell_type": "code",
   "execution_count": null,
   "metadata": {},
   "outputs": [],
   "source": [
    "<class 'int'>"
   ]
  },
  {
   "cell_type": "markdown",
   "metadata": {},
   "source": [
    "{: .output}"
   ]
  },
  {
   "cell_type": "code",
   "execution_count": null,
   "metadata": {},
   "outputs": [],
   "source": [
    "fitness = 'average'\n",
    "print(type(fitness))"
   ]
  },
  {
   "cell_type": "markdown",
   "metadata": {},
   "source": [
    "{: .python}"
   ]
  },
  {
   "cell_type": "code",
   "execution_count": null,
   "metadata": {},
   "outputs": [],
   "source": [
    "<class 'str'>"
   ]
  },
  {
   "cell_type": "markdown",
   "metadata": {},
   "source": [
    "{: .output}\n",
    "\n",
    "## Types control what operations can be done on values.\n",
    "\n",
    "*   A value's type determines what the program can do to it."
   ]
  },
  {
   "cell_type": "code",
   "execution_count": null,
   "metadata": {},
   "outputs": [],
   "source": [
    "print(5 - 3)"
   ]
  },
  {
   "cell_type": "markdown",
   "metadata": {},
   "source": [
    "{: .python}"
   ]
  },
  {
   "cell_type": "code",
   "execution_count": null,
   "metadata": {},
   "outputs": [],
   "source": [
    "2"
   ]
  },
  {
   "cell_type": "markdown",
   "metadata": {},
   "source": [
    "{: .output}"
   ]
  },
  {
   "cell_type": "code",
   "execution_count": null,
   "metadata": {},
   "outputs": [],
   "source": [
    "print('hello' - 'h')"
   ]
  },
  {
   "cell_type": "markdown",
   "metadata": {},
   "source": [
    "{: .python}"
   ]
  },
  {
   "cell_type": "code",
   "execution_count": null,
   "metadata": {},
   "outputs": [],
   "source": [
    "---------------------------------------------------------------------------\n",
    "TypeError                                 Traceback (most recent call last)\n",
    "<ipython-input-2-67f5626a1e07> in <module>()\n",
    "----> 1 print('hello' - 'h')\n",
    "\n",
    "TypeError: unsupported operand type(s) for -: 'str' and 'str'"
   ]
  },
  {
   "cell_type": "markdown",
   "metadata": {},
   "source": [
    "{: .error}\n",
    "\n",
    "## Strings can be added and multiplied.\n",
    "\n",
    "*   \"Adding\" character strings concatenates them."
   ]
  },
  {
   "cell_type": "code",
   "execution_count": null,
   "metadata": {},
   "outputs": [],
   "source": [
    "full_name = 'Ahmed' + ' ' + 'Walsh'\n",
    "print(full_name)"
   ]
  },
  {
   "cell_type": "markdown",
   "metadata": {},
   "source": [
    "{: .python}"
   ]
  },
  {
   "cell_type": "code",
   "execution_count": null,
   "metadata": {},
   "outputs": [],
   "source": [
    "Ahmed Walsh"
   ]
  },
  {
   "cell_type": "markdown",
   "metadata": {},
   "source": [
    "{: .output}\n",
    "\n",
    "*   Multiplying a character string by an integer replicates it.\n",
    "    *   Since multiplication is just repeated addition."
   ]
  },
  {
   "cell_type": "code",
   "execution_count": null,
   "metadata": {},
   "outputs": [],
   "source": [
    "separator = '=' * 10\n",
    "print(separator)"
   ]
  },
  {
   "cell_type": "markdown",
   "metadata": {},
   "source": [
    "{: .python}"
   ]
  },
  {
   "cell_type": "code",
   "execution_count": null,
   "metadata": {},
   "outputs": [],
   "source": [
    "=========="
   ]
  },
  {
   "cell_type": "markdown",
   "metadata": {},
   "source": [
    "{: .output}\n",
    "\n",
    "## Strings have a length (but numbers don't).\n",
    "\n",
    "*   The built-in function `len` counts the number of characters in a string."
   ]
  },
  {
   "cell_type": "code",
   "execution_count": null,
   "metadata": {},
   "outputs": [],
   "source": [
    "print(len(full_name))"
   ]
  },
  {
   "cell_type": "markdown",
   "metadata": {},
   "source": [
    "{: .python}"
   ]
  },
  {
   "cell_type": "code",
   "execution_count": null,
   "metadata": {},
   "outputs": [],
   "source": [
    "11"
   ]
  },
  {
   "cell_type": "markdown",
   "metadata": {},
   "source": [
    "{: .output}\n",
    "\n",
    "*   But numbers don't have a length (not even zero)."
   ]
  },
  {
   "cell_type": "code",
   "execution_count": null,
   "metadata": {},
   "outputs": [],
   "source": [
    "print(len(52))"
   ]
  },
  {
   "cell_type": "markdown",
   "metadata": {},
   "source": [
    "{: .python}"
   ]
  },
  {
   "cell_type": "code",
   "execution_count": null,
   "metadata": {},
   "outputs": [],
   "source": [
    "---------------------------------------------------------------------------\n",
    "TypeError                                 Traceback (most recent call last)\n",
    "<ipython-input-3-f769e8e8097d> in <module>()\n",
    "----> 1 print(len(52))\n",
    "\n",
    "TypeError: object of type 'int' has no len()"
   ]
  },
  {
   "cell_type": "markdown",
   "metadata": {},
   "source": [
    "{: .error}\n",
    "\n",
    "## Must convert numbers to strings or vice versa when operating on them.\n",
    "\n",
    "*   Cannot add numbers and strings."
   ]
  },
  {
   "cell_type": "code",
   "execution_count": null,
   "metadata": {},
   "outputs": [],
   "source": [
    "print(1 + 'A')"
   ]
  },
  {
   "cell_type": "markdown",
   "metadata": {},
   "source": [
    "{: .python}"
   ]
  },
  {
   "cell_type": "code",
   "execution_count": null,
   "metadata": {},
   "outputs": [],
   "source": [
    "---------------------------------------------------------------------------\n",
    "TypeError                                 Traceback (most recent call last)\n",
    "<ipython-input-4-fe4f54a023c6> in <module>()\n",
    "----> 1 print(1 + '2')\n",
    "\n",
    "TypeError: unsupported operand type(s) for +: 'int' and 'str'"
   ]
  },
  {
   "cell_type": "markdown",
   "metadata": {},
   "source": [
    "{: .error}\n",
    "\n",
    "*   Not allowed because it's ambiguous: should `1 + '2'` be `3` or `'12'`?\n",
    "*   Some types can be converted to other types by using the type name as a function."
   ]
  },
  {
   "cell_type": "code",
   "execution_count": null,
   "metadata": {},
   "outputs": [],
   "source": [
    "print(1 + int('2'))\n",
    "print(str(1) + '2')"
   ]
  },
  {
   "cell_type": "markdown",
   "metadata": {},
   "source": [
    "{: .python}"
   ]
  },
  {
   "cell_type": "code",
   "execution_count": null,
   "metadata": {},
   "outputs": [],
   "source": [
    "3\n",
    "12"
   ]
  },
  {
   "cell_type": "markdown",
   "metadata": {},
   "source": [
    "{: .output}\n",
    "\n",
    "## Can mix integers and floats freely in operations.\n",
    "\n",
    "*   Integers and floating-point numbers can be mixed in arithmetic.\n",
    "    *   Python automatically converts integers to floats as needed."
   ]
  },
  {
   "cell_type": "code",
   "execution_count": null,
   "metadata": {},
   "outputs": [],
   "source": [
    "print('half is', 1 / 2.0)\n",
    "print('three squared is', 3.0 ** 2)"
   ]
  },
  {
   "cell_type": "markdown",
   "metadata": {},
   "source": [
    "{: .python}"
   ]
  },
  {
   "cell_type": "code",
   "execution_count": null,
   "metadata": {},
   "outputs": [],
   "source": [
    "half is 0.5\n",
    "three squared is 9.0"
   ]
  },
  {
   "cell_type": "markdown",
   "metadata": {},
   "source": [
    "{: .output}\n",
    "\n",
    "## Variables only change value when something is assigned to them.\n",
    "\n",
    "*   If we make one cell in a spreadsheet depend on another,\n",
    "    and update the latter,\n",
    "    the former updates automatically.\n",
    "*   This does **not** happen in programming languages."
   ]
  },
  {
   "cell_type": "code",
   "execution_count": null,
   "metadata": {},
   "outputs": [],
   "source": [
    "first = 1\n",
    "second = 5 * first\n",
    "first = 2\n",
    "print('first is', first, 'and second is', second)"
   ]
  },
  {
   "cell_type": "markdown",
   "metadata": {},
   "source": [
    "{: .python}"
   ]
  },
  {
   "cell_type": "code",
   "execution_count": null,
   "metadata": {},
   "outputs": [],
   "source": [
    "first is 2 and second is 5"
   ]
  },
  {
   "cell_type": "markdown",
   "metadata": {},
   "source": [
    "{: .output}\n",
    "\n",
    "*   The computer reads the value of `first` when doing the multiplication,\n",
    "    creates a new value, and assigns it to `second`.\n",
    "*   After that, `second` does not remember where it came from.\n",
    "\n",
    "> ## Choose a Type\n",
    ">\n",
    "> What type of value (integer, floating point number, or character string)\n",
    "> would you use to represent each of the following?\n",
    ">\n",
    "> 1. Number of days since the start of the year.\n",
    "> 2. Time elapsed since the start of the year.\n",
    "> 3. Serial number of a piece of lab equipment.\n",
    "> 4. A lab specimen's age.\n",
    "> 5. Current population of a city.\n",
    "> 6. Average population of a city over time.\n",
    "{: .challenge}\n",
    "\n",
    "> ## Division Types\n",
    ">\n",
    "> The `//` operator calculates the whole-number result of division,\n",
    "> while the '%' operator calculates the remainder from division:\n",
    ">\n",
    "> ~~~\n",
    "> print('5 // 3:', 5//3)\n",
    "> print('5 % 3:', 5%3)\n",
    "> ~~~\n",
    "> {: .python}\n",
    ">\n",
    "> ~~~\n",
    "> 5 // 3: 1\n",
    "> 5 % 3: 2\n",
    "> ~~~\n",
    "> {: .output}\n",
    ">\n",
    "> If `num_subjects` is the number of subjects taking part in a study,\n",
    "> and `num_per_survey` is the number that can take part in a single survey,\n",
    "> write an expression that calculates the number of surveys needed\n",
    "> to reach everyone once.\n",
    "{: .challenge}\n",
    "\n",
    "> ## Strings to Numbers\n",
    ">\n",
    "> `float` will convert a string to a floating point number,\n",
    "> and `int` will convert a floating point number to an integer:\n",
    ">\n",
    "> ~~~\n",
    "> print(\"string to float:\", float(\"3.4\"))\n",
    "> print(\"float to int:\", int(3.4))\n",
    "> ~~~\n",
    "> {: .python}\n",
    ">\n",
    "> ~~~\n",
    "> 3.4\n",
    "> 3\n",
    "> ~~~\n",
    "> {: .output}\n",
    ">\n",
    "> Given that,\n",
    "> what do you expect this program to do?\n",
    "> What does it actually do?\n",
    "> Why do you think it does that?\n",
    ">\n",
    "> ~~~\n",
    "> print(\"fractional string to int:\", int(\"3.4\"))\n",
    "> ~~~\n",
    "> {: .python}\n",
    "{: .challenge}\n",
    "\n",
    "> ## Arithmetic with Different Types\n",
    ">\n",
    "> Which of the following will print 2.0?\n",
    "> Note: there may be more than one right answer.\n",
    ">\n",
    "> ~~~\n",
    "> first = 1.0\n",
    "> second = \"1\"\n",
    "> third = \"1.1\"\n",
    "> ~~~\n",
    "> {: .python}\n",
    ">\n",
    "> 1. `first + float(second)`\n",
    "> 2. `float(second) + float(third)`\n",
    "> 3. `first + int(third)`\n",
    "> 4. `first + int(float(third))`\n",
    "> 5. `int(first) + int(float(third))`\n",
    "> 6. `2.0 * second`\n",
    ">\n",
    "> > ## Solution\n",
    "> > Answer: 1 and 4\n",
    "> {: .solution}\n",
    "{: .challenge}\n",
    "\n",
    "> ## Complex Numbers\n",
    ">\n",
    "> FIXME: introduce complex numbers\n",
    "{: .challenge}"
   ]
  }
 ],
 "metadata": {},
 "nbformat": 4,
 "nbformat_minor": 2
}
