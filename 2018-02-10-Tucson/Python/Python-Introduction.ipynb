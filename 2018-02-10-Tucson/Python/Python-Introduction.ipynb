{
 "cells": [
  {
   "cell_type": "markdown",
   "metadata": {
    "collapsed": true
   },
   "source": [
    "# What is Python and why would I use it?"
   ]
  },
  {
   "cell_type": "markdown",
   "metadata": {
    "collapsed": true
   },
   "source": [
    "Python is a programming language.  \n",
    "\n",
    "A programming language is a set words you can put together to tell a computer to do something.\n",
    "\n",
    "We like using Python in Software Carpentry Workshops for lots of reasons\n",
    "\n",
    "    - Widely used in science\n",
    "    - It's easy to read and write\n",
    "    - Huge supporting community - lots of ways to learn and get help  \n",
    "    - This Jupyter Notebook.  Not a lot of languages have this kind of thing (name comes from Julia, Python, and R)."
   ]
  },
  {
   "cell_type": "markdown",
   "metadata": {
    "collapsed": true
   },
   "source": [
    "Even if you aren't using Python in your work, you can use Python to learn the fundamentals of programming that will apply accross languages"
   ]
  },
  {
   "cell_type": "markdown",
   "metadata": {
    "collapsed": true
   },
   "source": [
    "# What are the fundamentals?"
   ]
  },
  {
   "cell_type": "markdown",
   "metadata": {
    "collapsed": true
   },
   "source": [
    "## VARIABLES\n",
    "\n",
    "We store values inside variables.  \n",
    "Values are assigned to variable names using the equals sign (=).  \n",
    "A variable can hold any kind of data type or data structure.  \n",
    "We can refer to variables in other parts of our programs"
   ]
  },
  {
   "cell_type": "code",
   "execution_count": 1,
   "metadata": {
    "scrolled": false
   },
   "outputs": [
    {
     "name": "stdout",
     "output_type": "stream",
     "text": [
      "ljhkjhkjkgjkg\n"
     ]
    }
   ],
   "source": [
    "example_variable = \"ljhkjhkjkgjkg\"\n",
    "# I can display what is inside example_variable by using \n",
    "# the print command lets us do this\n",
    "# try changing the value.  \n",
    "print (example_variable)"
   ]
  },
  {
   "cell_type": "markdown",
   "metadata": {},
   "source": [
    "## NOTE: What about comments?  \n",
    "\n",
    "\n"
   ]
  },
  {
   "cell_type": "markdown",
   "metadata": {
    "collapsed": true
   },
   "source": [
    "Variable Types\n",
    "Three prinicipal data types:\n",
    "\n",
    "    - Strings (characters): 'a' 'b' 'c' 'abc' '0' '3' ';' '?' \n",
    "    - Numeric (integers and decimals): 1 2 3 100 10000 10.0 56.9 -100 -3.765\n",
    "    - booleans: True, False"
   ]
  },
  {
   "cell_type": "code",
   "execution_count": 2,
   "metadata": {},
   "outputs": [
    {
     "name": "stdout",
     "output_type": "stream",
     "text": [
      "The greeting is, Hello World!\n"
     ]
    }
   ],
   "source": [
    "# STRINGS TYPE\n",
    "#  One or more characters strung together and encoled in quotes (single or double): \"Hello World!\"\n",
    "greeting = \"Hello World!\"\n",
    "print (\"The greeting is:\", greeting)"
   ]
  },
  {
   "cell_type": "code",
   "execution_count": 3,
   "metadata": {},
   "outputs": [
    {
     "name": "stdout",
     "output_type": "stream",
     "text": [
      "My numeric integer 10\n"
     ]
    }
   ],
   "source": [
    "# NUMERIC TYPE\n",
    "# Actual numbers are stored as numbers (no quotes) and are either integers or real numbers (float).\n",
    "#   In programming, numbers with decimal precision are called floating-point, or float.\n",
    "\n",
    "my_integer = 10\n",
    "my_float = 10.99998\n",
    "\n",
    "print(\"My numeric integer\", my_integer)"
   ]
  },
  {
   "cell_type": "code",
   "execution_count": 5,
   "metadata": {},
   "outputs": [
    {
     "name": "stdout",
     "output_type": "stream",
     "text": [
      "My true boolean variable: True\n"
     ]
    }
   ],
   "source": [
    "# BOOLEAN TYPE\n",
    "# Boolean values are binary, meaning they can only either true or false.\n",
    "#  In python True and False (no quotes) are boolean values\n",
    "\n",
    "is_true = True\n",
    "is_false = False\n",
    "\n",
    "print(\"My true boolean variable:\", is_true)"
   ]
  },
  {
   "cell_type": "markdown",
   "metadata": {},
   "source": [
    "#### QUIZ\n",
    "What data type is this -> '1024'\n",
    "<ol style=\"list-style-type:lower-alpha\">\n",
    "  <li>String</li>\n",
    "  <li>Numeric</li>\n",
    "  <li>Boolean</li>\n",
    "</ol> \n"
   ]
  },
  {
   "cell_type": "markdown",
   "metadata": {
    "collapsed": true
   },
   "source": [
    "## DATA STRUCTURES\n",
    "Four different data structures exist in python:\n",
    "\n",
    "    - Lists\n",
    "    - Dictionaries\n",
    "    - Tuples\n",
    "    - Sets\n",
    "    "
   ]
  },
  {
   "cell_type": "markdown",
   "metadata": {},
   "source": [
    "### LISTS"
   ]
  },
  {
   "cell_type": "code",
   "execution_count": 12,
   "metadata": {},
   "outputs": [
    {
     "name": "stdout",
     "output_type": "stream",
     "text": [
      "['a', 'b', 'c']\n",
      "[1, 2, 3, 4]\n",
      "The second value in the list is 2\n"
     ]
    }
   ],
   "source": [
    "# Lists are collections of values in held together in brackets: \n",
    "\n",
    "list_of_characters  = ['a', 'b', 'c'] \n",
    "print (list_of_characters)\n",
    "\n",
    "list_of_numbers = [1, 2, 3, 4]\n",
    "print (list_of_numbers )\n",
    "\n",
    "# We can access any value in the list by it's position in the list.  This is called the index\n",
    "# IMPORTANT Indexes start at 0\n",
    "#  list  ['a', 'b', 'c', 'd']\n",
    "#  index   0    1    2    3\n",
    "print (\"The second value in the list is %d\" % list_of_numbers[1])"
   ]
  },
  {
   "cell_type": "code",
   "execution_count": 16,
   "metadata": {},
   "outputs": [
    {
     "name": "stdout",
     "output_type": "stream",
     "text": [
      "[1, 2, 3, 4, 5, 5]\n"
     ]
    }
   ],
   "source": [
    "# Once you have created a list you can add more items to it with the append method\n",
    "\n",
    "list_of_numbers.append(5)\n",
    "print(list_of_numbers)"
   ]
  },
  {
   "cell_type": "markdown",
   "metadata": {},
   "source": [
    "### DICTIONARIES"
   ]
  },
  {
   "cell_type": "code",
   "execution_count": 15,
   "metadata": {},
   "outputs": [
    {
     "name": "stdout",
     "output_type": "stream",
     "text": [
      "The definition of aardvark is: The aardvark is a medium-sized, burrowing, nocturnal mammal native to Africa.\n",
      "The color at item 2 is green \n"
     ]
    }
   ],
   "source": [
    "# Dictionaries are collections of things that you can lookup like in a real dictionary:\n",
    "# Dictionarys can organized into key and value pairs separated by commas (like lists) and surrounded by braces.\n",
    "#  E.g. {key1: value1, key2: value2}\n",
    "dictionary_of_definitions = {\"aardvark\" : \"The aardvark is a medium-sized, burrowing, nocturnal mammal native to Africa.\",\n",
    "                             \"boat\" : \"A boat is a thing that floats on water\"}\n",
    "\n",
    "# we can find the definition of aardvark by giving the dictionary the \"key\" to the definition we want in brackets.\n",
    "# In this case the key is the word we want to lookup\n",
    "print (\"The definition of aardvark is:\", dictionary_of_definitions[\"aardvark\"]) \n",
    "\n",
    "dictionary_of_colors = {1 : \"purple\", 2 : \"green\", 3 : \"blue\"}\n",
    "# This sets up an association between numbers and colors.  You can do this for any pair or pairs of associations\n",
    "# Sometimes dictionaries are called \"associative arrays\" for this reason.\n",
    "# We call each association a \"key-value pair\".  \n",
    "# A dictionary can be thought of as a list of associations known as key-value pairs\n",
    "\n",
    "# we can find the color associated with a number by asking the dictionary the number we want to lookup\n",
    "print (\"The color at item 2 is %s \" % dictionary_of_colors[2])\n",
    "\n",
    "# "
   ]
  },
  {
   "cell_type": "markdown",
   "metadata": {},
   "source": [
    "#### QUIZ\n",
    "Which one of these is not a valid entry in a dictionary?\n",
    "\n",
    "1. \"key\" : \"value\"\n",
    "2. \"GCBHSA\": \"ldksghdklfghfdlgkfdhgfldkghfgfhd\"\n",
    "3. \"900\" : \"key\" : \"value\"\n",
    "4. 1 : 10000\n"
   ]
  },
  {
   "cell_type": "markdown",
   "metadata": {},
   "source": [
    "### TUPLES"
   ]
  },
  {
   "cell_type": "code",
   "execution_count": 14,
   "metadata": {},
   "outputs": [
    {
     "name": "stdout",
     "output_type": "stream",
     "text": [
      "(3, 4)\n",
      "(1, 7, 38, 9, 0)\n",
      "('strawberry', 'vanilla', 'chocolate')\n"
     ]
    },
    {
     "ename": "AttributeError",
     "evalue": "'tuple' object has no attribute 'append'",
     "output_type": "error",
     "traceback": [
      "\u001b[1;31m---------------------------------------------------------------------------\u001b[0m",
      "\u001b[1;31mAttributeError\u001b[0m                            Traceback (most recent call last)",
      "\u001b[1;32m<ipython-input-14-3fec14de854a>\u001b[0m in \u001b[0;36m<module>\u001b[1;34m()\u001b[0m\n\u001b[0;32m     13\u001b[0m \u001b[1;31m# Once you have created a tuple, you cannot add more items to it\u001b[0m\u001b[1;33m\u001b[0m\u001b[1;33m\u001b[0m\u001b[0m\n\u001b[0;32m     14\u001b[0m \u001b[1;33m\u001b[0m\u001b[0m\n\u001b[1;32m---> 15\u001b[1;33m \u001b[0micecream_flavors\u001b[0m\u001b[1;33m.\u001b[0m\u001b[0mappend\u001b[0m\u001b[1;33m(\u001b[0m\u001b[1;34m'bubblegum'\u001b[0m\u001b[1;33m)\u001b[0m\u001b[1;33m\u001b[0m\u001b[0m\n\u001b[0m",
      "\u001b[1;31mAttributeError\u001b[0m: 'tuple' object has no attribute 'append'"
     ]
    }
   ],
   "source": [
    "# Tuples are like a List , but unlike lists cannot me changed (immutable)\n",
    "# an example is a set of x and y coordinates like this\n",
    "tuple_of_x_y_coordinates = (3, 4)\n",
    "print (tuple_of_x_y_coordinates)\n",
    "\n",
    "# tuples can have any number of values\n",
    "coordinates = (1, 7, 38, 9, 0)\n",
    "print (coordinates)\n",
    "icecream_flavors = (\"strawberry\", \"vanilla\", \"chocolate\")\n",
    "print (icecream_flavors)\n",
    "\n",
    "# However, the tuple cannot be added to\n",
    "# Once you have created a tuple, you cannot add more items to it.  If we try, we get an error\n",
    "\n",
    "icecream_flavors.append('bubblegum')"
   ]
  },
  {
   "cell_type": "markdown",
   "metadata": {},
   "source": [
    "### SETS"
   ]
  },
  {
   "cell_type": "code",
   "execution_count": 23,
   "metadata": {},
   "outputs": [
    {
     "name": "stdout",
     "output_type": "stream",
     "text": [
      "my_list is ['Ben', 'Monique', 'Ben', 'Monique', 'Ben', 'Monique']\n",
      "my_set is {'Monique', 'Ben'}\n"
     ]
    }
   ],
   "source": [
    "# Sets are similar to lists and tuples, but can only contain unique values and are held in braces\n",
    "# For example a list could contain multiple exact values\n",
    "my_list = ['Ben', 'Monique', 'Ben', 'Monique', 'Ben', 'Monique']\n",
    "print(\"my_list is\", my_list)\n",
    "\n",
    "# a set, a set would only a allow for unique values to be held\n",
    "my_set = {'Ben', 'Monique', 'Ben', 'Monique', 'Ben', 'Monique',}\n",
    "print(\"my_set is\",my_set)"
   ]
  },
  {
   "cell_type": "markdown",
   "metadata": {},
   "source": [
    "## NOTE: SOMETHING ABOUT ACCESSING LIST AND STRINGS BY INDEX? MORE ABOUT METHODS?"
   ]
  },
  {
   "cell_type": "markdown",
   "metadata": {
    "collapsed": true
   },
   "source": [
    "## Statements\n",
    "\n",
    "OK great.  Now what can we do with all of this?  \n",
    "\n",
    "We can plug everything together with a bit of logic and python language and make a program that can do things like:\n",
    "\n",
    "* process data\n",
    "\n",
    "* parse files\n",
    "\n",
    "* data analysis"
   ]
  },
  {
   "cell_type": "markdown",
   "metadata": {},
   "source": [
    "What kind of logic are we talking about?\n",
    "\n",
    "We are talking about something called a \"logical structure\" which starts at the top (first line) and reads down the page in order\n",
    "\n",
    "In python a logical structure are often composed of statements. Statements are powerful operators that control the flow of your script. There are two main types:\n",
    "\n",
    "* conditionals (if, while)\n",
    "* loops (for)\n"
   ]
  },
  {
   "cell_type": "markdown",
   "metadata": {},
   "source": [
    "### Conditionals"
   ]
  },
  {
   "cell_type": "markdown",
   "metadata": {},
   "source": [
    "Conditionals are how we make a decision in the program.\n",
    "In python, conditional statements are called if/else statements."
   ]
  },
  {
   "cell_type": "code",
   "execution_count": 28,
   "metadata": {},
   "outputs": [
    {
     "name": "stdout",
     "output_type": "stream",
     "text": [
      "Have a nice night.\n"
     ]
    }
   ],
   "source": [
    "# If statement use boolean values to define flow. \n",
    "#  E.g. If something is True, do this. Else, do this\n",
    "# Here is an example:\n",
    "\n",
    "it_is_daytime = False # this is the variable that holds the current condition of it_is_daytime which is True or False \n",
    "\n",
    "if it_is_daytime:\n",
    "    print (\"Have a nice day.\")\n",
    "else:\n",
    "    print (\"Have a nice night.\")\n",
    "    \n",
    "# before running this cell\n",
    "# what will happen if we change it_is_daytime to True?\n",
    "# what will happen if we change it_is_daytime to False?"
   ]
  },
  {
   "cell_type": "markdown",
   "metadata": {},
   "source": [
    "## ^ NOTE: May need something up here about how indentation affects statements "
   ]
  },
  {
   "cell_type": "code",
   "execution_count": 31,
   "metadata": {},
   "outputs": [
    {
     "name": "stdout",
     "output_type": "stream",
     "text": [
      "We do not know who you are.\n"
     ]
    }
   ],
   "source": [
    "# Often if/else statement use a comparison between two values to determine True or False\n",
    "# These comparisons use \"comparison operators\" such as ==, >, and <.\n",
    "# E.g. 1 > 2 = False, 'abc' == 'abc' = True\n",
    "\n",
    "# Note that two equal signs is used to compare values, while one equals sign is used to assign a value\n",
    "\n",
    "user_name = \"Joe\"\n",
    "\n",
    "if user_name == \"Monique\":\n",
    "    print (\"Monique likes to program in Python.\")\n",
    "else:\n",
    "    print (\"We do not know who you are.\")"
   ]
  },
  {
   "cell_type": "code",
   "execution_count": 32,
   "metadata": {},
   "outputs": [
    {
     "name": "stdout",
     "output_type": "stream",
     "text": [
      "We do not know who you are\n"
     ]
    }
   ],
   "source": [
    "# what if a condition has more than two choices? Does it have to use a boolean?\n",
    "# python if-statments will let you do that with elif\n",
    "# elif stands for \"else if\"\n",
    "    \n",
    "if user_name == \"Marnee\":  #notice the double equals sign.  This is used to differentiate between comparing two values and\n",
    "                            # and assiging a value to a variable\n",
    "    print (\"Marnee likes to program in Python.\")\n",
    "elif user_name == \"Ben\":\n",
    "    print (\"Ben likes maps.\")\n",
    "elif user_name == \"Brian\":\n",
    "    print (\"Brian likes plant genomes\")\n",
    "else:\n",
    "    print (\"We do not know who you are\")\n",
    "    \n",
    "# for each possibility of user_name we have an if or else-if statment to check the value of the name\n",
    "# and print a message accordingly."
   ]
  },
  {
   "cell_type": "markdown",
   "metadata": {},
   "source": [
    "### Loops\n",
    "Loops tell a program to do the same thing over and over again until a certain condition is met.  \n",
    "In python two main loop types are for loops and while loops."
   ]
  },
  {
   "cell_type": "markdown",
   "metadata": {},
   "source": [
    "#### For Loops\n",
    "We can loop over collections of things like lists or dictionaries or we can create a looping structure."
   ]
  },
  {
   "cell_type": "code",
   "execution_count": 36,
   "metadata": {},
   "outputs": [
    {
     "name": "stdout",
     "output_type": "stream",
     "text": [
      "apple\n",
      "banana\n",
      "mango\n",
      ">>looping>>\n",
      "apple\n",
      "banana\n",
      "mango\n"
     ]
    }
   ],
   "source": [
    "# LOOPING over a collection\n",
    "# LIST\n",
    "\n",
    "# If I want to print a list of fruits, I could write out each print statment like this:\n",
    "print(\"apple\")\n",
    "print(\"banana\")\n",
    "print(\"mango\")\n",
    "\n",
    "# or I could create a list of fruit\n",
    "# loop over the list\n",
    "# and print each item in the list\n",
    "list_of_fruit = [\"apple\", \"banana\", \"mango\"]\n",
    "\n",
    "# this is how we write the loop\n",
    "# \"fruit\" here is a variable that will hold each item in the list, the fruit, as we loop\n",
    "# over the items in the list\n",
    "print (\">>looping>>\")\n",
    "for fruit in list_of_fruit:\n",
    "    print (fruit)"
   ]
  },
  {
   "cell_type": "code",
   "execution_count": 35,
   "metadata": {},
   "outputs": [
    {
     "name": "stdout",
     "output_type": "stream",
     "text": [
      "apple price is 0.1\n",
      "banana price is 0.5\n",
      "mango price is 0.75\n"
     ]
    }
   ],
   "source": [
    "# LOOPING over a collection\n",
    "# DICTIONARY\n",
    "\n",
    "# We can do the same thing with a dictionary and each association in the dictionary\n",
    "\n",
    "fruit_price = {\"apple\" : 0.10, \"banana\" : 0.50, \"mango\" : 0.75}\n",
    "for key, value in fruit_price.items():\n",
    "    print (\"%s price is %s\" % (key, value))"
   ]
  },
  {
   "cell_type": "code",
   "execution_count": 7,
   "metadata": {},
   "outputs": [
    {
     "name": "stdout",
     "output_type": "stream",
     "text": [
      "0\n",
      "1\n",
      "2\n",
      "3\n",
      "4\n",
      "5\n",
      "6\n",
      "7\n",
      "8\n",
      "9\n"
     ]
    }
   ],
   "source": [
    "# LOOPING a set number of times\n",
    "# We can do this with range \n",
    "# range automatically creates a list of numbers in a range\n",
    "# here we have a list of 10 numbers starting with 0 and increasing by one until we have 10 numbers\n",
    "# What will be printed\n",
    "for x in range(0,10):\n",
    "    print (x)"
   ]
  },
  {
   "cell_type": "markdown",
   "metadata": {},
   "source": [
    "#### While Loops\n",
    "Similar to if statements, while loops use a boolean test to either continue looping or break out of the loop."
   ]
  },
  {
   "cell_type": "code",
   "execution_count": 37,
   "metadata": {},
   "outputs": [
    {
     "name": "stdout",
     "output_type": "stream",
     "text": [
      "My number 10\n",
      "My number 9\n",
      "My number 8\n",
      "My number 7\n",
      "My number 6\n",
      "My number 5\n",
      "My number 4\n",
      "My number 3\n",
      "My number 2\n",
      "My number 1\n"
     ]
    }
   ],
   "source": [
    "# While Loops\n",
    "my_num = 10\n",
    "\n",
    "while my_num > 0:\n",
    "    print(\"My number\", my_num)\n",
    "    my_num = my_num - 1"
   ]
  },
  {
   "cell_type": "markdown",
   "metadata": {},
   "source": [
    "NOTE:  While loops can be dangerous, because if you forget to to include an operation that modifies the variable being tested (above, we're subtracting 1 at the end of each loop), it will continue to run forever and you script will never finish."
   ]
  },
  {
   "cell_type": "code",
   "execution_count": null,
   "metadata": {
    "collapsed": true
   },
   "outputs": [],
   "source": [
    "# That's it.  With just these data types, structures, and logic, you can build a program\n",
    "# let's do that next with functions"
   ]
  }
 ],
 "metadata": {
  "kernelspec": {
   "display_name": "Python 3",
   "language": "python",
   "name": "python3"
  },
  "language_info": {
   "codemirror_mode": {
    "name": "ipython",
    "version": 3
   },
   "file_extension": ".py",
   "mimetype": "text/x-python",
   "name": "python",
   "nbconvert_exporter": "python",
   "pygments_lexer": "ipython3",
   "version": "3.6.1"
  }
 },
 "nbformat": 4,
 "nbformat_minor": 2
}
