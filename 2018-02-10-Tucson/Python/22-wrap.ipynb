{
 "cells": [
  {
   "cell_type": "markdown",
   "metadata": {},
   "source": [
    "Wrap-Up\n",
    "==\n",
    "Teaching: 15\n",
    "Exercises: 0\n",
    "\n",
    "Questions:\n",
    " * What have we learned?\n",
    "\n",
    "Objectives:\n",
    " * Create a concept map of major concepts and relations from the day's lessons.\n",
    "\n",
    "Leslie Lamport once said, \"Writing is nature's way of showing you how sloppy your thinking is.\"\n",
    "The same is true of programming: many things that seem obvious when we're thinking about them turn out to be anything but when we have to explain them precisely."
   ]
  },
  {
   "cell_type": "markdown",
   "metadata": {},
   "source": [
    "## Python supports a large community within and outwith research.\n",
    "\n",
    " * The [Python 3 documentation](https://docs.python.org/3/) covers the core language and the standard library.\n",
    " * [PyCon](https://swcarpentry.github.io/python-novice-gapminder/19-wrap/pycon.org/) is the largest annual conference for the Python community.\n",
    " * [SciPy](https://swcarpentry.github.io/python-novice-gapminder/19-wrap/scipy.org) is a rich collection of scientific utilities. It is also the name of a series of annual conferences.\n",
    " * [Jupyter](https://swcarpentry.github.io/python-novice-gapminder/19-wrap/jupyter.org) is the home of the Jupyter Notebook.\n",
    " * [Pandas](https://swcarpentry.github.io/python-novice-gapminder/19-wrap/pandas.pydata.org) is the home of the Pandas data library.\n",
    " * Stack Overflow’s [general Python section](http://stackoverflow.com/questions/tagged/python) can be helpful, as can the sections on [NumPy](http://stackoverflow.com/questions/tagged/numpy), [SciPy](http://stackoverflow.com/questions/tagged/scipy), [Pandas](http://stackoverflow.com/questions/tagged/pandas), and other topics.\n"
   ]
  },
  {
   "cell_type": "markdown",
   "metadata": {},
   "source": [
    "## Key Points\n",
    " * Python supports a large community within and outside of research"
   ]
  }
 ],
 "metadata": {
  "kernelspec": {
   "display_name": "Python 3",
   "language": "python",
   "name": "python3"
  },
  "language_info": {
   "codemirror_mode": {
    "name": "ipython",
    "version": 3
   },
   "file_extension": ".py",
   "mimetype": "text/x-python",
   "name": "python",
   "nbconvert_exporter": "python",
   "pygments_lexer": "ipython3",
   "version": "3.6.1"
  }
 },
 "nbformat": 4,
 "nbformat_minor": 2
}
