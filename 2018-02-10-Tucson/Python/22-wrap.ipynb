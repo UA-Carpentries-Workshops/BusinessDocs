{
 "cells": [
  {
   "cell_type": "markdown",
   "metadata": {},
   "source": [
    "---\n",
    "title: \"Wrap-Up\"\n",
    "teaching: 15\n",
    "exercises: 0\n",
    "questions:\n",
    "- \"What have we learned?\"\n",
    "objectives:\n",
    "- \"Create a concept map of major concepts and relations from the day's lessons.\"\n",
    "keypoints:\n",
    "- FIXME\n",
    "---\n",
    "\n",
    "Leslie Lamport once said, \"Writing is nature's way of showing you how sloppy your thinking is.\"\n",
    "The same is true of programming:\n",
    "many things that seem obvious when we're thinking about them\n",
    "turn out to be anything but when we have to explain them precisely."
   ]
  }
 ],
 "metadata": {},
 "nbformat": 4,
 "nbformat_minor": 2
}
