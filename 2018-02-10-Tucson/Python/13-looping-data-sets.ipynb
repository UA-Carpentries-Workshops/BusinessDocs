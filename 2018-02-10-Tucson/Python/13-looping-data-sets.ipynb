{
 "cells": [
  {
   "cell_type": "markdown",
   "metadata": {},
   "source": [
    "Looping Over Data Sets\n",
    "==\n",
    "Teaching: 5  \n",
    "Exercises: 10\n",
    "\n",
    "Questions:\n",
    " - How can I process many data sets with a single command?\n",
    "\n",
    "Objectives:\n",
    " - Be able to read and write globbing expressions that match sets of files.\n",
    " - Use glob to create lists of files.\n",
    " - Write for loops to perform operations on files given their names in a list.\n",
    "---"
   ]
  },
  {
   "cell_type": "markdown",
   "metadata": {},
   "source": [
    "## Use a `for` loop to process files given a list of their names.\n",
    "\n",
    "*   A filename is just a character string.\n",
    "*   And lists can contain character strings."
   ]
  },
  {
   "cell_type": "code",
   "execution_count": 3,
   "metadata": {},
   "outputs": [
    {
     "name": "stdout",
     "output_type": "stream",
     "text": [
      "../gapminder_data/gapminder_gdp_africa.csv gdpPercap_1952    298.846212\n",
      "gdpPercap_1957    335.997115\n",
      "gdpPercap_1962    355.203227\n",
      "gdpPercap_1967    412.977514\n",
      "gdpPercap_1972    464.099504\n",
      "gdpPercap_1977    502.319733\n",
      "gdpPercap_1982    462.211415\n",
      "gdpPercap_1987    389.876185\n",
      "gdpPercap_1992    410.896824\n",
      "gdpPercap_1997    312.188423\n",
      "gdpPercap_2002    241.165877\n",
      "gdpPercap_2007    277.551859\n",
      "dtype: float64\n",
      "../gapminder_data/gapminder_gdp_asia.csv gdpPercap_1952    331.0\n",
      "gdpPercap_1957    350.0\n",
      "gdpPercap_1962    388.0\n",
      "gdpPercap_1967    349.0\n",
      "gdpPercap_1972    357.0\n",
      "gdpPercap_1977    371.0\n",
      "gdpPercap_1982    424.0\n",
      "gdpPercap_1987    385.0\n",
      "gdpPercap_1992    347.0\n",
      "gdpPercap_1997    415.0\n",
      "gdpPercap_2002    611.0\n",
      "gdpPercap_2007    944.0\n",
      "dtype: float64\n"
     ]
    }
   ],
   "source": [
    "import pandas\n",
    "for filename in ['../gapminder_data/gapminder_gdp_africa.csv', '../gapminder_data/gapminder_gdp_asia.csv']:\n",
    "    data = pandas.read_csv(filename, index_col='country')\n",
    "    print(filename, data.min())"
   ]
  },
  {
   "cell_type": "markdown",
   "metadata": {},
   "source": [
    "## Use `glob.glob` to find sets of files whose names match a pattern.\n",
    "\n",
    "*   In Unix, the term \"globbing\" means \"matching a set of files with a pattern\".\n",
    "*   The most common patterns are:\n",
    "    *   `*` meaning \"match zero or more characters\"\n",
    "    *   `?` meaning \"match exactly one character\"\n",
    "*   Provided in Python by the `glob` library, which provides a function also called `glob`.\n",
    "*   E.g., `glob.glob('*.txt')` matches all files in the current directory \n",
    "    whose names end with `.txt`.\n",
    "*   Result is a (possibly empty) list of character strings."
   ]
  },
  {
   "cell_type": "code",
   "execution_count": 5,
   "metadata": {},
   "outputs": [
    {
     "name": "stdout",
     "output_type": "stream",
     "text": [
      "all csv files in data directory: ['../gapminder_data\\\\gapminder_all.csv', '../gapminder_data\\\\gapminder_gdp_africa.csv', '../gapminder_data\\\\gapminder_gdp_americas.csv', '../gapminder_data\\\\gapminder_gdp_asia.csv', '../gapminder_data\\\\gapminder_gdp_europe.csv', '../gapminder_data\\\\gapminder_gdp_oceania.csv']\n"
     ]
    }
   ],
   "source": [
    "import glob\n",
    "print('all csv files in data directory:', glob.glob('../gapminder_data/*.csv'))"
   ]
  },
  {
   "cell_type": "code",
   "execution_count": 11,
   "metadata": {},
   "outputs": [
    {
     "name": "stdout",
     "output_type": "stream",
     "text": [
      "all PDB files: []\n"
     ]
    }
   ],
   "source": [
    "print('all PDB files:', glob.glob('../*.pdb'))"
   ]
  },
  {
   "cell_type": "markdown",
   "metadata": {},
   "source": [
    "\n",
    "## Use `glob` and `for` to process batches of files.\n",
    "\n",
    "*   Helps a lot if the files are named and stored systematically and consistently\n",
    "    so that simple patterns will find the right data."
   ]
  },
  {
   "cell_type": "code",
   "execution_count": 15,
   "metadata": {},
   "outputs": [
    {
     "name": "stdout",
     "output_type": "stream",
     "text": [
      "../gapminder_data\\gapminder_all.csv 298.8462121\n",
      "../gapminder_data\\gapminder_gdp_africa.csv 298.8462121\n",
      "../gapminder_data\\gapminder_gdp_americas.csv 1397.717137\n",
      "../gapminder_data\\gapminder_gdp_asia.csv 331.0\n",
      "../gapminder_data\\gapminder_gdp_europe.csv 973.5331948\n",
      "../gapminder_data\\gapminder_gdp_oceania.csv 10039.59564\n"
     ]
    }
   ],
   "source": [
    "for filename in glob.glob('../gapminder_data/*.csv'):\n",
    "    data = pandas.read_csv(filename)\n",
    "    print(filename, data['gdpPercap_1952'].min())"
   ]
  },
  {
   "cell_type": "markdown",
   "metadata": {},
   "source": [
    "*   This includes all data, as well as per-region data.\n",
    "*   Use a more specific pattern in the exercises to exclude the whole data set.\n",
    "*   But note that the minimum of the entire data set is also the minimum of one of the data sets,\n",
    "    which is a nice check on correctness.\n",
    "\n"
   ]
  },
  {
   "cell_type": "markdown",
   "metadata": {},
   "source": [
    "## Exercises\n",
    "> ## Determining Matches\n",
    ">\n",
    "> Which of these files is *not* matched by the expression `glob.glob('data/*as*.csv')`?\n",
    ">\n",
    "> 1. `data/gapminder_gdp_africa.csv`\n",
    "> 2. `data/gapminder_gdp_americas.csv`\n",
    "> 3. `data/gapminder_gdp_asia.csv`\n",
    "> 4. 1 and 2 are not matched.\n",
    "\n",
    ">>### Solution\n",
    ">>1 is not matched by the regular expression\n"
   ]
  },
  {
   "cell_type": "markdown",
   "metadata": {},
   "source": [
    "_______________\n",
    "> ## Maximum File Size\n",
    ">\n",
    "> Modify this program so that it prints the number of records in\n",
    "> the file that has the fewest records.\n",
    ">\n",
    "> ~~~\n",
    "> fewest = ____\n",
    "> for filename in glob.glob('data/*.csv'):\n",
    ">     fewest = ____\n",
    "> print('smallest file has', fewest, 'records')\n",
    "> ~~~\n",
    "\n",
    ">>### Solution\n",
    ">>~~~\n",
    ">>fewest = 0\n",
    ">>for filename in glob.glob('data/*.csv'):\n",
    ">>    dataframe = pandas.read_csv(filename)\n",
    ">>    fewest = min(fewest , dataframe.shape[0]) \n",
    ">>print('smallest file has', fewest, 'records')\n",
    ">>~~~\n"
   ]
  },
  {
   "cell_type": "markdown",
   "metadata": {},
   "source": [
    "> ## Comparing Data\n",
    ">\n",
    "> Write a short program that reads in the regional data sets\n",
    "> and plots the average GDP per capita for each region over time\n",
    "> in a single chart.\n",
    "{: .challenge}"
   ]
  },
  {
   "cell_type": "markdown",
   "metadata": {},
   "source": [
    "## Key Points\n",
    "\n",
    " * Use a `for` loop to process files given a list of their names.\n",
    " * Use `glob.glob` to find sets of files whose names match a pattern.\n",
    " * Use `glob` and `for` to process batches of files.\n",
    "\n"
   ]
  }
 ],
 "metadata": {
  "kernelspec": {
   "display_name": "Python 3",
   "language": "python",
   "name": "python3"
  },
  "language_info": {
   "codemirror_mode": {
    "name": "ipython",
    "version": 3
   },
   "file_extension": ".py",
   "mimetype": "text/x-python",
   "name": "python",
   "nbconvert_exporter": "python",
   "pygments_lexer": "ipython3",
   "version": "3.6.1"
  }
 },
 "nbformat": 4,
 "nbformat_minor": 2
}
