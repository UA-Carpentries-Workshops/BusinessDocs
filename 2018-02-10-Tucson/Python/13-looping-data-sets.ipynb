{
 "cells": [
  {
   "cell_type": "markdown",
   "metadata": {},
   "source": [
    "---\n",
    "title: \"Looping Over Data Sets\"\n",
    "teaching: 5\n",
    "exercises: 10\n",
    "questions:\n",
    "- \"How can I process many data sets with a single command?\"\n",
    "objectives:\n",
    "- \"Be able to read and write globbing expressions that match sets of files.\"\n",
    "- \"Use glob to create lists of files.\"\n",
    "- \"Write for loops to perform operations on files given their names in a list.\"\n",
    "keypoints:\n",
    "- \"Use a `for` loop to process files given a list of their names.\"\n",
    "- \"Use `glob.glob` to find sets of files whose names match a pattern.\"\n",
    "- \"Use `glob` and `for` to process batches of files.\"\n",
    "---\n",
    "\n",
    "## Use a `for` loop to process files given a list of their names.\n",
    "\n",
    "*   A filename is just a character string.\n",
    "*   And lists can contain character strings."
   ]
  },
  {
   "cell_type": "code",
   "execution_count": null,
   "metadata": {},
   "outputs": [],
   "source": [
    "for filename in ['data/gapminder_gdp_africa.csv', 'data/gapminder_gdp_asia.csv']:\n",
    "    data = pandas.read_csv(filename, index_col='country')\n",
    "    print(filename, data.min())"
   ]
  },
  {
   "cell_type": "markdown",
   "metadata": {},
   "source": [
    "{: .python}"
   ]
  },
  {
   "cell_type": "code",
   "execution_count": null,
   "metadata": {},
   "outputs": [],
   "source": [
    "data/gapminder_gdp_africa.csv gdpPercap_1952    298.846212\n",
    "gdpPercap_1957    335.997115\n",
    "gdpPercap_1962    355.203227\n",
    "gdpPercap_1967    412.977514\n",
    "⋮ ⋮ ⋮\n",
    "gdpPercap_1997    312.188423\n",
    "gdpPercap_2002    241.165877\n",
    "gdpPercap_2007    277.551859\n",
    "dtype: float64\n",
    "data/gapminder_gdp_asia.csv gdpPercap_1952    331\n",
    "gdpPercap_1957    350\n",
    "gdpPercap_1962    388\n",
    "gdpPercap_1967    349\n",
    "⋮ ⋮ ⋮\n",
    "gdpPercap_1997    415\n",
    "gdpPercap_2002    611\n",
    "gdpPercap_2007    944\n",
    "dtype: float64"
   ]
  },
  {
   "cell_type": "markdown",
   "metadata": {},
   "source": [
    "{: .output}\n",
    "\n",
    "## Use `glob.glob` to find sets of files whose names match a pattern.\n",
    "\n",
    "*   In Unix, the term \"globbing\" means \"matching a set of files with a pattern\".\n",
    "*   The most common patterns are:\n",
    "    *   `*` meaning \"match zero or more characters\"\n",
    "    *   `?` meaning \"match exactly one character\"\n",
    "*   Provided in Python by the `glob` library, which provides a function also called `glob`.\n",
    "*   E.g., `glob.glob('*.txt')` matches all files in the current directory \n",
    "    whose names end with `.txt`.\n",
    "*   Result is a (possibly empty) list of character strings."
   ]
  },
  {
   "cell_type": "code",
   "execution_count": null,
   "metadata": {},
   "outputs": [],
   "source": [
    "import glob\n",
    "print('all csv files in data directory:', glob.glob('data/*.csv'))"
   ]
  },
  {
   "cell_type": "markdown",
   "metadata": {},
   "source": [
    "{: .python}"
   ]
  },
  {
   "cell_type": "code",
   "execution_count": null,
   "metadata": {},
   "outputs": [],
   "source": [
    "all csv files in data directory: ['data/gapminder_all.csv', 'data/gapminder_gdp_africa.csv', \\\n",
    "'data/gapminder_gdp_americas.csv', 'data/gapminder_gdp_asia.csv', 'data/gapminder_gdp_europe.csv', \\\n",
    "'data/gapminder_gdp_oceania.csv']"
   ]
  },
  {
   "cell_type": "markdown",
   "metadata": {},
   "source": [
    "{: .output}"
   ]
  },
  {
   "cell_type": "code",
   "execution_count": null,
   "metadata": {},
   "outputs": [],
   "source": [
    "print('all PDB files:', glob.glob('*.pdb'))"
   ]
  },
  {
   "cell_type": "markdown",
   "metadata": {},
   "source": [
    "{: .python}"
   ]
  },
  {
   "cell_type": "code",
   "execution_count": null,
   "metadata": {},
   "outputs": [],
   "source": [
    "all PDB files: []"
   ]
  },
  {
   "cell_type": "markdown",
   "metadata": {},
   "source": [
    "{: .output}\n",
    "\n",
    "## Use `glob` and `for` to process batches of files.\n",
    "\n",
    "*   Helps a lot if the files are named and stored systematically and consistently\n",
    "    so that simple patterns will find the right data."
   ]
  },
  {
   "cell_type": "code",
   "execution_count": null,
   "metadata": {},
   "outputs": [],
   "source": [
    "for filename in glob.glob('data/*.csv'):\n",
    "    data = pandas.read_csv(filename)\n",
    "    print(filename, data.['gdpPercap_1952'].min())"
   ]
  },
  {
   "cell_type": "markdown",
   "metadata": {},
   "source": [
    "{: .python}"
   ]
  },
  {
   "cell_type": "code",
   "execution_count": null,
   "metadata": {},
   "outputs": [],
   "source": [
    "data/gapminder_all.csv 298.8462121\n",
    "data/gapminder_gdp_africa.csv 298.8462121\n",
    "data/gapminder_gdp_americas.csv 1397.717137\n",
    "data/gapminder_gdp_asia.csv 331.0\n",
    "data/gapminder_gdp_europe.csv 973.5331948\n",
    "data/gapminder_gdp_oceania.csv 10039.59564"
   ]
  },
  {
   "cell_type": "markdown",
   "metadata": {},
   "source": [
    "{: .output}\n",
    "\n",
    "*   This includes all data, as well as per-region data.\n",
    "*   Use a more specific pattern in the exercises to exclude the whole data set.\n",
    "*   But note that the minimum of the entire data set is also the minimum of one of the data sets,\n",
    "    which is a nice check on correctness.\n",
    "\n",
    "> ## Determining Matches\n",
    ">\n",
    "> Which of these files is *not* matched by the expression `glob.glob('data/*as*.csv')`?\n",
    ">\n",
    "> 1. `data/gapminder_gdp_africa.csv`\n",
    "> 2. `data/gapminder_gdp_americas.csv`\n",
    "> 3. `data/gapminder_gdp_asia.csv`\n",
    "> 4. 1 and 2 are not matched.\n",
    "{: .challenge}\n",
    "\n",
    "> ## Maximum File Size\n",
    ">\n",
    "> Modify this program so that it prints the number of records in\n",
    "> the file that has the fewest records.\n",
    ">\n",
    "> ~~~\n",
    "> fewest = ____\n",
    "> for filename in glob.glob('data/*.csv'):\n",
    ">     fewest = ____\n",
    "> print('smallest file has', fewest, 'records')\n",
    "> ~~~\n",
    "> {: .source}\n",
    "{: .challenge}\n",
    "\n",
    "> ## Comparing Data\n",
    ">\n",
    "> Write a short program that reads in the regional data sets\n",
    "> and plots the average GDP per capita for each region over time\n",
    "> in a single chart.\n",
    "{: .challenge}"
   ]
  }
 ],
 "metadata": {},
 "nbformat": 4,
 "nbformat_minor": 2
}
