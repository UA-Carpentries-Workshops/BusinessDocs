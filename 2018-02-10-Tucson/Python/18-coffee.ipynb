{
 "cells": [
  {
   "cell_type": "markdown",
   "metadata": {},
   "source": [
    "---\n",
    "layout: break\n",
    "title: \"Afternoon Coffee\"\n",
    "teaching: 0\n",
    "exercises: 0\n",
    "break: 15\n",
    "---\n",
    "FIXME: describe what to reflect on."
   ]
  }
 ],
 "metadata": {},
 "nbformat": 4,
 "nbformat_minor": 2
}
