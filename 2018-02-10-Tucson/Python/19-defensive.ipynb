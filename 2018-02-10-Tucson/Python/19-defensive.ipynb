{
 "cells": [
  {
   "cell_type": "markdown",
   "metadata": {},
   "source": [
    "Defensive Programming\n",
    "==\n",
    "Teaching: 10  \n",
    "Exercises: 15\n",
    "\n",
    "Questions:\n",
    " * What sorts of things frequently go wrong in programs?\n",
    " * How can I make my programs more robust?\n",
    " \n",
    "Objectives:\n",
    " * Diagnose corner cases in simple programs.\n",
    " * Write assertions with informative messages that test for corner cases in simple programs.\n",
    " \n",
    "Keypoints:\n",
    " * Fail early, fail loudly.\n",
    " * Can use `if`, `print`, and `sys.exit` to detect and report errors.\n",
    " * Use `assert` to check internal correctness.\n",
    " * Practice defensive programming.\n",
    " * Practice test-driven development.\n",
    "---"
   ]
  },
  {
   "cell_type": "markdown",
   "metadata": {},
   "source": [
    "\n",
    "## Fail early, fail loudly.\n",
    "\n",
    "*   \"All programs are wrong, but some programs are useful.\"\n",
    "*   Python reports syntax errors when it reads the source code.\n",
    "*   Can report runtime errors for things that can't possibly be right.\n",
    "    *   Division by zero, index out of bounds.\n",
    "*   But it cannot know how your data should be handled.\n",
    "*   Want to detect and report the problem:\n",
    "    *   As soon as it occurs (so that you don't have to trace back through hundreds of lines).\n",
    "    *   Loudly and clearly: a *silent error* is worse than one you know about.\n",
    "\n",
    "## Can use `if`, `print`, and `sys.exit` to detect and report errors."
   ]
  },
  {
   "cell_type": "code",
   "execution_count": 1,
   "metadata": {
    "collapsed": true
   },
   "outputs": [],
   "source": [
    "import sys\n",
    "\n",
    "def average(values):\n",
    "    if len(values) == 0:\n",
    "        print('Error in average: no values supplied')\n",
    "        sys.exit(1)\n",
    "\n",
    "    return sum(values) / len(values)"
   ]
  },
  {
   "cell_type": "markdown",
   "metadata": {},
   "source": [
    "*   But it doesn't give the caller a chance to handle the error in a different way.\n",
    "*   And doesn't integrate with graphical user interfaces, web programs,\n",
    "    and other things that might not want you to print.\n",
    "*   And gets in the way of reading the \"happy path\" through the code.\n",
    "\n",
    "## Use `assert` to check internal correctness.\n",
    "\n",
    "*   The `assert` statement checks whether a condition is true.\n",
    "    *   \"This must be true here or something has gone wrong.\"\n",
    "*   Like `if`, but signals an error instead of controlling a block of code.\n",
    "*   By default, Python stops the program and displays the error,\n",
    "    along with a *traceback* of the call stack\n",
    "    to help you figure out what went wrong."
   ]
  },
  {
   "cell_type": "code",
   "execution_count": 2,
   "metadata": {
    "collapsed": true
   },
   "outputs": [],
   "source": [
    "import sys\n",
    "\n",
    "def average(values):\n",
    "    assert len(values) > 0, 'No values supplied'\n",
    "    return sum(values) / len(values)"
   ]
  },
  {
   "cell_type": "markdown",
   "metadata": {},
   "source": [
    "*   Easier to read.\n",
    "*   A standard way to do things\n",
    "    (much better than a dozen libraries each reporting errors in different ways).\n",
    "*   Sometimes called \"runnable documentation\".\n",
    "    *   Python checks while the program executes.\n",
    "    *   Human readers can see what you expect of your program.\n",
    "\n",
    "## Practice defensive programming.\n",
    "\n",
    "*   When fixing bug,\n",
    "    add assertions to make sure they don't reoccur."
   ]
  },
  {
   "cell_type": "code",
   "execution_count": 3,
   "metadata": {
    "collapsed": true
   },
   "outputs": [],
   "source": [
    "def kelvin_to_celsius(k):\n",
    "    assert k >= 0.0, 'Temperature in Kelvin cannot be negative'\n",
    "    return k - 273.15"
   ]
  },
  {
   "cell_type": "markdown",
   "metadata": {},
   "source": [
    "*   Add assertions when writing code in the first place\n",
    "    to check for errors you have made or seen in the past.\n",
    "\n",
    "## Practice test-driven development.\n",
    "\n",
    "*   Write assertions *before* writing functions\n",
    "    to help you figure out what those functions should do.\n",
    "*   Encourages you to:\n",
    "    *   Think about how the function is supposed to behave.\n",
    "    *   See how usable the function will be before it's written.\n",
    "*   The assertions are a \"contract\".\n",
    "    *   Specify what the function does without specifying how.\n",
    "    *   A good way to communicate with other programmers when developing software together."
   ]
  },
  {
   "cell_type": "code",
   "execution_count": 4,
   "metadata": {},
   "outputs": [
    {
     "ename": "NameError",
     "evalue": "name 'count_leading_zeros' is not defined",
     "output_type": "error",
     "traceback": [
      "\u001b[1;31m---------------------------------------------------------------------------\u001b[0m",
      "\u001b[1;31mNameError\u001b[0m                                 Traceback (most recent call last)",
      "\u001b[1;32m<ipython-input-4-8b1ada6971bc>\u001b[0m in \u001b[0;36m<module>\u001b[1;34m()\u001b[0m\n\u001b[1;32m----> 1\u001b[1;33m \u001b[1;32massert\u001b[0m \u001b[0mcount_leading_zeros\u001b[0m\u001b[1;33m(\u001b[0m\u001b[1;33m[\u001b[0m\u001b[1;33m]\u001b[0m\u001b[1;33m)\u001b[0m \u001b[1;33m==\u001b[0m \u001b[1;36m0\u001b[0m\u001b[1;33m\u001b[0m\u001b[0m\n\u001b[0m\u001b[0;32m      2\u001b[0m \u001b[1;32massert\u001b[0m \u001b[0mcount_leading_zeros\u001b[0m\u001b[1;33m(\u001b[0m\u001b[1;33m[\u001b[0m\u001b[1;36m0\u001b[0m\u001b[1;33m]\u001b[0m\u001b[1;33m)\u001b[0m \u001b[1;33m==\u001b[0m \u001b[1;36m1\u001b[0m\u001b[1;33m\u001b[0m\u001b[0m\n\u001b[0;32m      3\u001b[0m \u001b[1;32massert\u001b[0m \u001b[0mcount_leading_zeros\u001b[0m\u001b[1;33m(\u001b[0m\u001b[1;33m[\u001b[0m\u001b[1;36m0\u001b[0m\u001b[1;33m,\u001b[0m \u001b[1;36m1\u001b[0m\u001b[1;33m]\u001b[0m\u001b[1;33m)\u001b[0m \u001b[1;33m==\u001b[0m \u001b[1;36m1\u001b[0m\u001b[1;33m\u001b[0m\u001b[0m\n\u001b[0;32m      4\u001b[0m \u001b[1;32massert\u001b[0m \u001b[0mcount_leading_zeros\u001b[0m\u001b[1;33m(\u001b[0m\u001b[1;33m[\u001b[0m\u001b[1;36m0\u001b[0m\u001b[1;33m,\u001b[0m \u001b[1;36m1\u001b[0m\u001b[1;33m,\u001b[0m \u001b[1;36m0\u001b[0m\u001b[1;33m]\u001b[0m\u001b[1;33m)\u001b[0m \u001b[1;33m==\u001b[0m \u001b[1;36m1\u001b[0m\u001b[1;33m\u001b[0m\u001b[0m\n\u001b[0;32m      5\u001b[0m \u001b[1;32massert\u001b[0m \u001b[0mcount_leading_zeros\u001b[0m\u001b[1;33m(\u001b[0m\u001b[1;33m[\u001b[0m\u001b[1;36m0\u001b[0m\u001b[1;33m,\u001b[0m \u001b[1;36m0\u001b[0m\u001b[1;33m,\u001b[0m \u001b[1;36m1\u001b[0m\u001b[1;33m]\u001b[0m\u001b[1;33m)\u001b[0m \u001b[1;33m==\u001b[0m \u001b[1;36m2\u001b[0m\u001b[1;33m\u001b[0m\u001b[0m\n",
      "\u001b[1;31mNameError\u001b[0m: name 'count_leading_zeros' is not defined"
     ]
    }
   ],
   "source": [
    "assert count_leading_zeros([]) == 0\n",
    "assert count_leading_zeros([0]) == 1\n",
    "assert count_leading_zeros([0, 1]) == 1\n",
    "assert count_leading_zeros([0, 1, 0]) == 1\n",
    "assert count_leading_zeros([0, 0, 1]) == 2\n",
    "assert count_leading_zeros([1, 0]) == 0"
   ]
  },
  {
   "cell_type": "markdown",
   "metadata": {},
   "source": [
    "> ## Is This Needed?\n",
    ">\n",
    "> The `os` library contains a function called `os.path.exists(path)`\n",
    "> that returns `True` if the file or directory identified by `path` exists,\n",
    "> and `False` if it does not.\n",
    "> A colleague of yours routinely uses it to check whether a file exists\n",
    "> before trying to open it:\n",
    ">\n",
    "> ~~~\n",
    "> ...\n",
    "> assert os.path.exists(filename), 'File {0} not found'.format(filename)\n",
    "> reader = open(filename, 'r')\n",
    "> ...\n",
    "> ~~~\n",
    ">\n",
    ">\n",
    "> Should you adopt this practice?\n",
    "> Why or why not?"
   ]
  },
  {
   "cell_type": "markdown",
   "metadata": {},
   "source": [
    "> ## Finding Corner Cases\n",
    ">\n",
    "> 1. Under what circumstances will the following function fail with an error?\n",
    "> 2. Under what circumstances will it return something other than what the user would expect?\n",
    ">\n",
    "> ~~~\n",
    "> def find_two_smallest(values):\n",
    ">     \"Find the two smallest values in a list.\"\n",
    ">\n",
    ">     copy = values[:]\n",
    ">     copy.sort()\n",
    ">     return copy[:2]\n",
    "> ~~~"
   ]
  },
  {
   "cell_type": "markdown",
   "metadata": {},
   "source": [
    ">>### Solution\n",
    ">>1. If the function is passed anything but a list\n",
    ">>2. If it passed a list of strings. Strings sort alphabetically. E.g. '600' < '70' < '8'"
   ]
  }
 ],
 "metadata": {
  "kernelspec": {
   "display_name": "Python 3",
   "language": "python",
   "name": "python3"
  },
  "language_info": {
   "codemirror_mode": {
    "name": "ipython",
    "version": 3
   },
   "file_extension": ".py",
   "mimetype": "text/x-python",
   "name": "python",
   "nbconvert_exporter": "python",
   "pygments_lexer": "ipython3",
   "version": "3.6.1"
  }
 },
 "nbformat": 4,
 "nbformat_minor": 2
}
