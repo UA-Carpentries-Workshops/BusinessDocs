{
 "cells": [
  {
   "cell_type": "markdown",
   "metadata": {},
   "source": [
    "Variable Scope\n",
    "==\n",
    "Teaching: 10  \n",
    "Exercises: 15\n",
    "\n",
    "Questions:\n",
    " * How do function calls actually work?\n",
    "objectives:\n",
    " * Identify local and global variables.\n",
    " * Identify parameters as local variables.\n",
    "\n",
    " Keypoints:\n",
    " * The scope of a variable is the part of a program that can 'see' that variable.\n",
    "---"
   ]
  },
  {
   "cell_type": "markdown",
   "metadata": {},
   "source": [
    "## The scope of a variable is the part of a program that can 'see' that variable.\n",
    "\n",
    "*   There are only so many sensible names for variables.\n",
    "*   People using functions shouldn't have to worry about\n",
    "    what variable names the author of the function used.\n",
    "*   People writing functions shouldn't have to worry about\n",
    "    what variable names the function's caller uses.\n",
    "*   The part of a program in which a variable is visible is called its *scope*."
   ]
  },
  {
   "cell_type": "code",
   "execution_count": 1,
   "metadata": {
    "collapsed": true
   },
   "outputs": [],
   "source": [
    "pressure = 103.9\n",
    "\n",
    "def adjust(t):\n",
    "    temperature = t * 1.43 / pressure\n",
    "    return temperature"
   ]
  },
  {
   "cell_type": "markdown",
   "metadata": {},
   "source": [
    "*   `pressure` is a *global variable*.\n",
    "    *   Defined outside any particular function.\n",
    "    *   Visible everywhere.\n",
    "*   `t` and `temperature` are *local variables* in `adjust`.\n",
    "    *   Defined in the function.\n",
    "    *   Not visible in the main program.\n",
    "    *   Remember: a function parameter is a variable\n",
    "        that is automatically assigned a value when the function is called."
   ]
  },
  {
   "cell_type": "code",
   "execution_count": 2,
   "metadata": {},
   "outputs": [
    {
     "name": "stdout",
     "output_type": "stream",
     "text": [
      "adjusted: 0.01238691049085659\n"
     ]
    },
    {
     "ename": "NameError",
     "evalue": "name 'temperature' is not defined",
     "output_type": "error",
     "traceback": [
      "\u001b[1;31m---------------------------------------------------------------------------\u001b[0m",
      "\u001b[1;31mNameError\u001b[0m                                 Traceback (most recent call last)",
      "\u001b[1;32m<ipython-input-2-721b5ef2b9f8>\u001b[0m in \u001b[0;36m<module>\u001b[1;34m()\u001b[0m\n\u001b[0;32m      1\u001b[0m \u001b[0mprint\u001b[0m\u001b[1;33m(\u001b[0m\u001b[1;34m'adjusted:'\u001b[0m\u001b[1;33m,\u001b[0m \u001b[0madjust\u001b[0m\u001b[1;33m(\u001b[0m\u001b[1;36m0.9\u001b[0m\u001b[1;33m)\u001b[0m\u001b[1;33m)\u001b[0m\u001b[1;33m\u001b[0m\u001b[0m\n\u001b[1;32m----> 2\u001b[1;33m \u001b[0mprint\u001b[0m\u001b[1;33m(\u001b[0m\u001b[1;34m'temperature after call:'\u001b[0m\u001b[1;33m,\u001b[0m \u001b[0mtemperature\u001b[0m\u001b[1;33m)\u001b[0m\u001b[1;33m\u001b[0m\u001b[0m\n\u001b[0m",
      "\u001b[1;31mNameError\u001b[0m: name 'temperature' is not defined"
     ]
    }
   ],
   "source": [
    "print('adjusted:', adjust(0.9))\n",
    "print('temperature after call:', temperature)"
   ]
  },
  {
   "cell_type": "markdown",
   "metadata": {},
   "source": [
    "## Exercises"
   ]
  },
  {
   "cell_type": "markdown",
   "metadata": {},
   "source": [
    "> ## Local and Global Variable Use\n",
    ">\n",
    "> Trace the values of all variables in this program as it is executed.\n",
    "> (Use '---' as the value of variables before and after they exist.)\n",
    ">\n",
    "> ~~~\n",
    "> limit = 100\n",
    ">\n",
    "> def clip(value):\n",
    ">     return min(max(0.0, value), limit)\n",
    ">\n",
    "> value = -22.5\n",
    "> print(clip(value))\n",
    "> ~~~"
   ]
  },
  {
   "cell_type": "markdown",
   "metadata": {},
   "source": [
    ">>### Solution\n",
    ">> ~~~\n",
    ">> limit = 100 --- 100\n",
    ">>\n",
    ">> def clip(value): --- 'value' is an variable\n",
    ">>     return min(max(0.0, value), limit)  --- 'limit' is inherited from global, so it is 100\n",
    ">>\n",
    ">> value = -22.5  --- 'value' is set to -22.5 globally\n",
    ">> print(clip(value))\n",
    ">> ~~~"
   ]
  },
  {
   "cell_type": "markdown",
   "metadata": {},
   "source": [
    ">## Reading Error Messages\n",
    ">Read the traceback below, and identify the following:\n",
    ">\n",
    ">1. How many levels does the traceback have?\n",
    ">2. What is the file name where the error occurred?\n",
    ">3. What is the function name where the error occurred?\n",
    ">4. On which line number in this function did the error occurr?\n",
    ">5. What is the type of error?\n",
    ">6. What is the error message?\n",
    ">\n",
    ">~~~\n",
    ">---------------------------------------------------------------------------\n",
    ">KeyError                                  Traceback (most recent call last)\n",
    "><ipython-input-2-e4c4cbafeeb5> in <module>()\n",
    ">      1 import errors_02\n",
    ">----> 2 errors_02.print_friday_message()\n",
    ">\n",
    ">/Users/ghopper/thesis/code/errors_02.py in print_friday_message()\n",
    ">     13\n",
    ">     14 def print_friday_message():\n",
    ">---> 15     print_message(\"Friday\")\n",
    ">\n",
    ">/Users/ghopper/thesis/code/errors_02.py in print_message(day)\n",
    ">      9         \"sunday\": \"Aw, the weekend is almost over.\"\n",
    ">     10     }\n",
    ">---> 11     print(messages[day])\n",
    ">     12\n",
    ">     13\n",
    ">\n",
    ">KeyError: 'Friday'\n",
    ">~~~"
   ]
  },
  {
   "cell_type": "markdown",
   "metadata": {},
   "source": [
    ">>### Solution\n",
    ">>1. Three\n",
    ">>2. errors_02.py\n",
    ">>3. print_message()\n",
    ">>4. Eleven\n",
    ">>5  KeyError\n",
    ">>6. There is no key value for \"Friday\" in the messages dictionary"
   ]
  },
  {
   "cell_type": "markdown",
   "metadata": {},
   "source": [
    "## Key Points\n",
    " * The scope of a variable is the part of a program that can 'see' that variable"
   ]
  }
 ],
 "metadata": {
  "kernelspec": {
   "display_name": "Python 3",
   "language": "python",
   "name": "python3"
  },
  "language_info": {
   "codemirror_mode": {
    "name": "ipython",
    "version": 3
   },
   "file_extension": ".py",
   "mimetype": "text/x-python",
   "name": "python",
   "nbconvert_exporter": "python",
   "pygments_lexer": "ipython3",
   "version": "3.6.1"
  }
 },
 "nbformat": 4,
 "nbformat_minor": 2
}
