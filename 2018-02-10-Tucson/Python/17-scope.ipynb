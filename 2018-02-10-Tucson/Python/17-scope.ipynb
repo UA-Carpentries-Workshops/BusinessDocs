{
 "cells": [
  {
   "cell_type": "markdown",
   "metadata": {},
   "source": [
    "---\n",
    "title: \"Variable Scope\"\n",
    "teaching: 10\n",
    "exercises: 15\n",
    "questions:\n",
    "- \"How do function calls actually work?\"\n",
    "objectives:\n",
    "- \"Identify local and global variables.\"\n",
    "- \"Identify parameters as local variables.\"\n",
    "keypoints:\n",
    "- \"The scope of a variable is the part of a program that can 'see' that variable.\"\n",
    "---\n",
    "## The scope of a variable is the part of a program that can 'see' that variable.\n",
    "\n",
    "*   There are only so many sensible names for variables.\n",
    "*   People using functions shouldn't have to worry about\n",
    "    what variable names the author of the function used.\n",
    "*   People writing functions shouldn't have to worry about\n",
    "    what variable names the function's caller uses.\n",
    "*   The part of a program in which a variable is visible is called its *scope*."
   ]
  },
  {
   "cell_type": "code",
   "execution_count": null,
   "metadata": {},
   "outputs": [],
   "source": [
    "pressure = 103.9\n",
    "\n",
    "def adjust(t):\n",
    "    temperature = t * 1.43 / pressure\n",
    "    return temperature"
   ]
  },
  {
   "cell_type": "markdown",
   "metadata": {},
   "source": [
    "{: .python}\n",
    "\n",
    "*   `pressure` is a *global variable*.\n",
    "    *   Defined outside any particular function.\n",
    "    *   Visible everywhere.\n",
    "*   `t` and `temperature` are *local variables* in `adjust`.\n",
    "    *   Defined in the function.\n",
    "    *   Not visible in the main program.\n",
    "    *   Remember: a function parameter is a variable\n",
    "        that is automatically assigned a value when the function is called."
   ]
  },
  {
   "cell_type": "code",
   "execution_count": null,
   "metadata": {},
   "outputs": [],
   "source": [
    "print('adjusted:', adjust(0.9))\n",
    "print('temperature after call:', temperature)"
   ]
  },
  {
   "cell_type": "markdown",
   "metadata": {},
   "source": [
    "{: .python}"
   ]
  },
  {
   "cell_type": "code",
   "execution_count": null,
   "metadata": {},
   "outputs": [],
   "source": [
    "adjusted: 0.01238691049085659"
   ]
  },
  {
   "cell_type": "markdown",
   "metadata": {},
   "source": [
    "{: .output}"
   ]
  },
  {
   "cell_type": "code",
   "execution_count": null,
   "metadata": {},
   "outputs": [],
   "source": [
    "Traceback (most recent call last):\n",
    "  File \"/Users/swcarpentry/foo.py\", line 8, in <module>\n",
    "    print('temperature after call:', temperature)\n",
    "NameError: name 'temperature' is not defined"
   ]
  },
  {
   "cell_type": "markdown",
   "metadata": {},
   "source": [
    "{: .error}\n",
    "\n",
    "> ## Local and Global Variable Use\n",
    ">\n",
    "> Trace the values of all variables in this program as it is executed.\n",
    "> (Use '---' as the value of variables before and after they exist.)\n",
    ">\n",
    "> ~~~\n",
    "> limit = 100\n",
    ">\n",
    "> def clip(value):\n",
    ">     return min(max(0.0, value), limit)\n",
    ">\n",
    "> value = -22.5\n",
    "> print(clip(value))\n",
    "> ~~~\n",
    "> {: .source}\n",
    "{: .challenge}"
   ]
  }
 ],
 "metadata": {},
 "nbformat": 4,
 "nbformat_minor": 2
}
