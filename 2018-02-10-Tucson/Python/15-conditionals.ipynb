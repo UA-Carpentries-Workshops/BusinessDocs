{
 "cells": [
  {
   "cell_type": "markdown",
   "metadata": {},
   "source": [
    "---\n",
    "title: \"Conditionals\"\n",
    "teaching: 5\n",
    "exercises: 10\n",
    "questions:\n",
    "- \"How can programs do different things for different data?\"\n",
    "objectives:\n",
    "- \"Correctly write programs that use if and else statements and simple Boolean expressions (without logical operators).\"\n",
    "- \"Trace the execution of unnested conditionals and conditionals inside loops.\"\n",
    "keypoints:\n",
    "- \"Use `if` statements to control whether or not a block of code is executed.\"\n",
    "- \"Conditionals are often used inside loops.\"\n",
    "- \"Use `else` to execute a block of code when an `if` condition is *not* true.\"\n",
    "- \"Use `elif` to specify additional tests.\"\n",
    "- \"Conditions are tested once, in order.\"\n",
    "- \"Create a table showing updates to variables' values to trace the execution of a program.\"\n",
    "---\n",
    "## Use `if` statements to control whether or not a block of code is executed.\n",
    "\n",
    "*   An `if` statement (more properly called a *conditional* statement)\n",
    "    controls whether some block of code is executed or not.\n",
    "*   Structure is similar to a `for` statement:\n",
    "    *   First line opens with `if` and ends with a colon\n",
    "    *   Body containing one or more statements is indented (usually by 4 spaces)"
   ]
  },
  {
   "cell_type": "code",
   "execution_count": null,
   "metadata": {},
   "outputs": [],
   "source": [
    "mass = 3.54\n",
    "if mass > 3.0:\n",
    "    print(mass, 'is large')\n",
    "\n",
    "mass = 2.07\n",
    "if mass > 3.0:\n",
    "    print (mass, 'is large')"
   ]
  },
  {
   "cell_type": "markdown",
   "metadata": {},
   "source": [
    "{: .python}"
   ]
  },
  {
   "cell_type": "code",
   "execution_count": null,
   "metadata": {},
   "outputs": [],
   "source": [
    "3.54 is large"
   ]
  },
  {
   "cell_type": "markdown",
   "metadata": {},
   "source": [
    "{: .output}\n",
    "\n",
    "## Conditionals are often used inside loops.\n",
    "\n",
    "*   Not much point using a conditional when we know the value (as above).\n",
    "*   But useful when we have a collection to process."
   ]
  },
  {
   "cell_type": "code",
   "execution_count": null,
   "metadata": {},
   "outputs": [],
   "source": [
    "masses = [3.54, 2.07, 9.22, 1.86, 1.71]\n",
    "for m in masses:\n",
    "    if mass > 3.0:\n",
    "        print(mass, 'is large')"
   ]
  },
  {
   "cell_type": "markdown",
   "metadata": {},
   "source": [
    "{: .python}"
   ]
  },
  {
   "cell_type": "code",
   "execution_count": null,
   "metadata": {},
   "outputs": [],
   "source": [
    "3.54 is large\n",
    "9.22 is large"
   ]
  },
  {
   "cell_type": "markdown",
   "metadata": {},
   "source": [
    "{: .output}\n",
    "\n",
    "## Use `else` to execute a block of code when an `if` condition is *not* true.\n",
    "\n",
    "*   `else` is always attached to `if`.\n",
    "*   Allows us to specify an alternative to execute when the `if` *branch* isn't taken."
   ]
  },
  {
   "cell_type": "code",
   "execution_count": null,
   "metadata": {},
   "outputs": [],
   "source": [
    "masses = [3.54, 2.07, 9.22, 1.86, 1.71]\n",
    "for m in masses:\n",
    "    if mass > 3.0:\n",
    "        print(mass, 'is large')\n",
    "    else:\n",
    "        print(mass, 'is small')"
   ]
  },
  {
   "cell_type": "markdown",
   "metadata": {},
   "source": [
    "{: .python}"
   ]
  },
  {
   "cell_type": "code",
   "execution_count": null,
   "metadata": {},
   "outputs": [],
   "source": [
    "3.54 is large\n",
    "2.07 is small\n",
    "9.22 is large\n",
    "1.86 is small\n",
    "1.71 is small"
   ]
  },
  {
   "cell_type": "markdown",
   "metadata": {},
   "source": [
    "{: .output}\n",
    "\n",
    "## Use `elif` to specify additional tests.\n",
    "\n",
    "*   May want to provide several alternative choices, each with its own test.\n",
    "*   Use `elif` (short for \"else if\") and a condition to specify these.\n",
    "*   Always associated with an `if`.\n",
    "*   Must come before the `else` (which is the \"catch all\").\n",
    "\n",
    "I can also generate more complex conditional statements with boolean operators\n",
    "like **and** and **or**, and use comparators like \"<\", \">\""
   ]
  },
  {
   "cell_type": "code",
   "execution_count": null,
   "metadata": {},
   "outputs": [],
   "source": [
    "masses = [3.54, 2.07, 9.22, 1.86, 1.71]\n",
    "for m in masses:\n",
    "    if mass > 9.0:\n",
    "        print(mass, 'is HUGE')\n",
    "    elif mass > 3.0:\n",
    "        print(mass, 'is large')\n",
    "    else:\n",
    "        print(mass, 'is small')"
   ]
  },
  {
   "cell_type": "markdown",
   "metadata": {},
   "source": [
    "{: .python}"
   ]
  },
  {
   "cell_type": "code",
   "execution_count": null,
   "metadata": {},
   "outputs": [],
   "source": [
    "3.54 is large\n",
    "2.07 is small\n",
    "9.22 is HUGE\n",
    "1.86 is small\n",
    "1.71 is small"
   ]
  },
  {
   "cell_type": "markdown",
   "metadata": {},
   "source": [
    "{: .output}\n",
    "\n",
    "## Conditions are tested once, in order.\n",
    "\n",
    "*   Python steps through the branches of the conditional in order, testing each in turn.\n",
    "*   So ordering matters."
   ]
  },
  {
   "cell_type": "code",
   "execution_count": null,
   "metadata": {},
   "outputs": [],
   "source": [
    "grade = 85\n",
    "if grade >= 70:\n",
    "    print('grade is C')\n",
    "elif grade >= 80:\n",
    "    print('grade is B')\n",
    "elif grade >= 90:\n",
    "    print('grade is A')"
   ]
  },
  {
   "cell_type": "markdown",
   "metadata": {},
   "source": [
    "{: .python}"
   ]
  },
  {
   "cell_type": "code",
   "execution_count": null,
   "metadata": {},
   "outputs": [],
   "source": [
    "grade is C"
   ]
  },
  {
   "cell_type": "markdown",
   "metadata": {},
   "source": [
    "{: .output}\n",
    "\n",
    "*   Does *not* automatically go back and re-evaluate if values change."
   ]
  },
  {
   "cell_type": "code",
   "execution_count": null,
   "metadata": {},
   "outputs": [],
   "source": [
    "velocity = 10.0\n",
    "if velocity > 20.0:\n",
    "    print('moving too fast')\n",
    "else:\n",
    "    print('adjusting velocity')\n",
    "    velocity = 50.0"
   ]
  },
  {
   "cell_type": "markdown",
   "metadata": {},
   "source": [
    "{: .python}"
   ]
  },
  {
   "cell_type": "code",
   "execution_count": null,
   "metadata": {},
   "outputs": [],
   "source": [
    "adjusting velocity"
   ]
  },
  {
   "cell_type": "markdown",
   "metadata": {},
   "source": [
    "{: .output}\n",
    "\n",
    "*   Often use conditionals in a loop to \"evolve\" the values of variables."
   ]
  },
  {
   "cell_type": "code",
   "execution_count": null,
   "metadata": {},
   "outputs": [],
   "source": [
    "velocity = 10.0\n",
    "for i in range(5): # execute the loop 5 times\n",
    "    print(i, ':', velocity)\n",
    "    if velocity > 20.0:\n",
    "        print('moving too fast')\n",
    "        velocity = velocity - 5.0\n",
    "    else:\n",
    "        print('moving too slow')\n",
    "        velocity = velocity + 10.0\n",
    "print('final velocity:', velocity)"
   ]
  },
  {
   "cell_type": "markdown",
   "metadata": {},
   "source": [
    "{: .python}"
   ]
  },
  {
   "cell_type": "code",
   "execution_count": null,
   "metadata": {},
   "outputs": [],
   "source": [
    "0 : 10.0\n",
    "moving too slow\n",
    "1 : 20.0\n",
    "moving too slow\n",
    "2 : 30.0\n",
    "moving too fast\n",
    "3 : 25.0\n",
    "moving too fast\n",
    "4 : 20.0\n",
    "moving too slow\n",
    "final velocity: 30.0"
   ]
  },
  {
   "cell_type": "markdown",
   "metadata": {},
   "source": [
    "{: .output}\n",
    "\n",
    "## Create a table showing updates to variables' values to trace the execution of a program.\n",
    "\n",
    "<table>\n",
    "  <tr> <td><strong>i</strong></td> <td><strong>velocity</strong></td> </tr>\n",
    "  <tr> <td>0</td> <td>10.0</td> </tr>\n",
    "  <tr> <td> </td> <td>20.0</td> </tr>\n",
    "  <tr> <td>1</td> <td></td> </tr>\n",
    "  <tr> <td> </td> <td>30.0</td> </tr>\n",
    "  <tr> <td>2</td> <td></td> </tr>\n",
    "  <tr> <td> </td> <td>25.0</td> </tr>\n",
    "  <tr> <td>3</td> <td></td> </tr>\n",
    "  <tr> <td> </td> <td>20.0</td> </tr>\n",
    "  <tr> <td>4</td> <td></td> </tr>\n",
    "  <tr> <td> </td> <td>30.0</td> </tr>\n",
    "</table>\n",
    "\n",
    "*   The program must have a `print` statement *outside* the body of the loop\n",
    "    to show the final value of `velocity`,\n",
    "    since its value is updated by the last iteration of the loop.\n",
    "\n",
    "> ## Tracing Execution\n",
    ">\n",
    "> What does this program print?\n",
    ">\n",
    "> ~~~\n",
    "> pressure = 71.9\n",
    "> if pressure 50.0:\n",
    ">     pressure = 25.0\n",
    "> elif pressure <= 50.0:\n",
    ">     pressure = 0.0\n",
    "> print(pressure)\n",
    "> ~~~\n",
    "> {: .source}\n",
    "{: .challenge}\n",
    "\n",
    "> ## Trimming Values\n",
    ">\n",
    "> Fill in the blanks so that this program creates a new list\n",
    "> containing zeroes where the original list's values were negative\n",
    "> and ones where the origina list's values were positive.\n",
    ">\n",
    "> ~~~\n",
    "> original = [-1.5, 0.2, 0.4, 0.0, -1.3, 0.4]\n",
    "> result = ____\n",
    "> for value in original:\n",
    ">     if ____:\n",
    ">         result.append(0)\n",
    ">     else:\n",
    ">         ____\n",
    "> print(result)\n",
    "> ~~~\n",
    "> {: .source}\n",
    ">\n",
    "> ~~~\n",
    "> [0, 1, 1, 1, 0, 1]\n",
    "> ~~~\n",
    "> {: .output}\n",
    "{: .challenge}\n",
    "\n",
    "> ## Processing Small Files\n",
    ">\n",
    "> Modify this program so that it only processes files with fewer than 50 records.\n",
    ">\n",
    "> ~~~\n",
    "> import glob\n",
    "> import pandas\n",
    "> for filename in glob.glob('data/*.csv'):\n",
    ">     contents = pandas.read_csv(filename)\n",
    ">     ____:\n",
    ">         print(filename, len(contents))\n",
    "> ~~~\n",
    "> {: .source}\n",
    "{: .challenge}\n",
    "\n",
    "> ## Initializing\n",
    ">\n",
    "> Modify this program so that it finds the largest and smallest values in the list\n",
    "> no matter what the range of values originally is.\n",
    ">\n",
    "> ~~~\n",
    "> values = [...some test data...]\n",
    "> smallest, largest = None, None\n",
    "> for v in values:\n",
    ">     if ____:\n",
    ">         smallest, largest = v, v\n",
    ">     ____:\n",
    ">         smallest = min(____, v)\n",
    ">         largest = max(____, v)\n",
    "> print(smallest, largest)\n",
    "> ~~~\n",
    "> {: .source}\n",
    ">\n",
    "> What are the advantages and disadvantages of using this method\n",
    "> to find the range of the data?\n",
    "{: .challenge}"
   ]
  }
 ],
 "metadata": {},
 "nbformat": 4,
 "nbformat_minor": 2
}
