{
 "cells": [
  {
   "cell_type": "markdown",
   "metadata": {},
   "source": [
    "Conditionals\n",
    "==\n",
    "Teaching: 5  \n",
    "Exercises: 10\n",
    "\n",
    "Questions:\n",
    " * How can programs do different things for different data?\n",
    "\n",
    "Objectives:\n",
    " * Correctly write programs that use if and else statements and simple Boolean expressions (without logical operators).\n",
    " * Trace the execution of unnested conditionals and conditionals inside loops.\n",
    "---\n"
   ]
  },
  {
   "cell_type": "markdown",
   "metadata": {},
   "source": [
    "## Use `if` statements to control whether or not a block of code is executed.\n",
    "\n",
    "*   An `if` statement (more properly called a *conditional* statement)\n",
    "    controls whether some block of code is executed or not.\n",
    "*   Structure is similar to a `for` statement:\n",
    "    *   First line opens with `if` and ends with a colon\n",
    "    *   Body containing one or more statements is indented (usually by 4 spaces)"
   ]
  },
  {
   "cell_type": "code",
   "execution_count": 1,
   "metadata": {},
   "outputs": [
    {
     "name": "stdout",
     "output_type": "stream",
     "text": [
      "3.54 is large\n"
     ]
    }
   ],
   "source": [
    "mass = 3.54\n",
    "if mass > 3.0:\n",
    "    print(mass, 'is large')\n",
    "\n",
    "mass = 2.07\n",
    "if mass > 3.0:\n",
    "    print (mass, 'is large')"
   ]
  },
  {
   "cell_type": "markdown",
   "metadata": {},
   "source": [
    "## Conditionals are often used inside loops.\n",
    "\n",
    "*   Not much point using a conditional when we know the value (as above).\n",
    "*   But useful when we have a collection to process."
   ]
  },
  {
   "cell_type": "code",
   "execution_count": 11,
   "metadata": {},
   "outputs": [
    {
     "name": "stdout",
     "output_type": "stream",
     "text": [
      "3.54 is large\n",
      "9.22 is large\n"
     ]
    }
   ],
   "source": [
    "masses = [3.54, 2.07, 9.22, 1.86, 1.71]\n",
    "for m in masses:\n",
    "    if m > 3.0:\n",
    "        print(m, 'is large')"
   ]
  },
  {
   "cell_type": "markdown",
   "metadata": {},
   "source": [
    "## Use `else` to execute a block of code when an `if` condition is *not* true.\n",
    "\n",
    "*   `else` is always attached to `if`.\n",
    "*   Allows us to specify an alternative to execute when the `if` *branch* isn't taken."
   ]
  },
  {
   "cell_type": "code",
   "execution_count": 13,
   "metadata": {},
   "outputs": [
    {
     "name": "stdout",
     "output_type": "stream",
     "text": [
      "3.54 is large\n",
      "2.07 is small\n",
      "9.22 is large\n",
      "1.86 is small\n",
      "1.71 is small\n"
     ]
    }
   ],
   "source": [
    "masses = [3.54, 2.07, 9.22, 1.86, 1.71]\n",
    "for m in masses:\n",
    "    if m > 3.0:\n",
    "        print(m, 'is large')\n",
    "    else:\n",
    "        print(m, 'is small')"
   ]
  },
  {
   "cell_type": "markdown",
   "metadata": {},
   "source": [
    "## Use `elif` to specify additional tests.\n",
    "\n",
    "*   May want to provide several alternative choices, each with its own test.\n",
    "*   Use `elif` (short for \"else if\") and a condition to specify these.\n",
    "*   Always associated with an `if`.\n",
    "*   Must come before the `else` (which is the \"catch all\").\n",
    "\n",
    "I can also generate more complex conditional statements with boolean operators\n",
    "like **and** and **or**, and use comparators like \"<\", \">\""
   ]
  },
  {
   "cell_type": "code",
   "execution_count": 17,
   "metadata": {},
   "outputs": [
    {
     "name": "stdout",
     "output_type": "stream",
     "text": [
      "3.54 is large\n",
      "2.07 is small\n",
      "9.22 is HUGE\n",
      "1.86 is small\n",
      "1.71 is small\n"
     ]
    }
   ],
   "source": [
    "masses = [3.54, 2.07, 9.22, 1.86, 1.71]\n",
    "for m in masses:\n",
    "    if m > 9.0:\n",
    "        print(m, 'is HUGE')\n",
    "    elif m > 3.0:\n",
    "        print(m, 'is large')\n",
    "    else:\n",
    "        print(m, 'is small')"
   ]
  },
  {
   "cell_type": "markdown",
   "metadata": {},
   "source": [
    "## Conditions are tested once, in order.\n",
    "\n",
    "*   Python steps through the branches of the conditional in order, testing each in turn.\n",
    "*   So ordering matters."
   ]
  },
  {
   "cell_type": "code",
   "execution_count": 18,
   "metadata": {},
   "outputs": [
    {
     "name": "stdout",
     "output_type": "stream",
     "text": [
      "grade is C\n"
     ]
    }
   ],
   "source": [
    "grade = 85\n",
    "if grade >= 70:\n",
    "    print('grade is C')\n",
    "elif grade >= 80:\n",
    "    print('grade is B')\n",
    "elif grade >= 90:\n",
    "    print('grade is A')"
   ]
  },
  {
   "cell_type": "markdown",
   "metadata": {},
   "source": [
    "*   Does *not* automatically go back and re-evaluate if values change."
   ]
  },
  {
   "cell_type": "code",
   "execution_count": 19,
   "metadata": {},
   "outputs": [
    {
     "name": "stdout",
     "output_type": "stream",
     "text": [
      "adjusting velocity\n"
     ]
    }
   ],
   "source": [
    "velocity = 10.0\n",
    "if velocity > 20.0:\n",
    "    print('moving too fast')\n",
    "else:\n",
    "    print('adjusting velocity')\n",
    "    velocity = 50.0"
   ]
  },
  {
   "cell_type": "markdown",
   "metadata": {},
   "source": [
    "*   Often use conditionals in a loop to \"evolve\" the values of variables."
   ]
  },
  {
   "cell_type": "code",
   "execution_count": 20,
   "metadata": {},
   "outputs": [
    {
     "name": "stdout",
     "output_type": "stream",
     "text": [
      "0 : 10.0\n",
      "moving too slow\n",
      "1 : 20.0\n",
      "moving too slow\n",
      "2 : 30.0\n",
      "moving too fast\n",
      "3 : 25.0\n",
      "moving too fast\n",
      "4 : 20.0\n",
      "moving too slow\n",
      "final velocity: 30.0\n"
     ]
    }
   ],
   "source": [
    "velocity = 10.0\n",
    "for i in range(5): # execute the loop 5 times\n",
    "    print(i, ':', velocity)\n",
    "    if velocity > 20.0:\n",
    "        print('moving too fast')\n",
    "        velocity = velocity - 5.0\n",
    "    else:\n",
    "        print('moving too slow')\n",
    "        velocity = velocity + 10.0\n",
    "print('final velocity:', velocity)"
   ]
  },
  {
   "cell_type": "markdown",
   "metadata": {},
   "source": [
    "## Create a table showing updates to variables' values to trace the execution of a program.\n",
    "<style>\n",
    "tr {\n",
    "    width:100%\n",
    "}\n",
    "td {\n",
    "    height: 40px;\n",
    "    width 60px\n",
    "}\n",
    "</style>\n",
    "<table>\n",
    "  <tr>\n",
    "      <td><strong>i</strong></td> <td>0</td> <td></td> <td>1</td> <td></td> <td>2</td> <td></td> <td>3</td> <td></td> <td>4</td> <td></td>\n",
    "  </tr>\n",
    "  <tr>\n",
    "      <td><strong>velocity</strong></td> <td>10.0</td> <td>20.0</td> <td></td> <td>30.0</td> <td></td> <td> 25.0 </td> <td></td> <td> 20 </td> <td></td> <td> 30 </td>\n",
    "  </tr>\n",
    "</table>\n",
    "\n",
    "*   The program must have a `print` statement *outside* the body of the loop to show the final value of `velocity`, since its value is updated by the last iteration of the loop.\n",
    "\n"
   ]
  },
  {
   "cell_type": "markdown",
   "metadata": {},
   "source": [
    "> ## Tracing Execution\n",
    ">\n",
    "> What does this program print?\n",
    ">\n",
    "> ~~~\n",
    "> pressure = 71.9\n",
    "> if pressure 50.0:\n",
    ">     pressure = 25.0\n",
    "> elif pressure <= 50.0:\n",
    ">     pressure = 0.0\n",
    "> print(pressure)\n",
    "> ~~~\n",
    "\n",
    "### Solution\n",
    "Nothing"
   ]
  },
  {
   "cell_type": "markdown",
   "metadata": {},
   "source": [
    "\n",
    "> ## Trimming Values\n",
    ">\n",
    "> Fill in the blanks so that this program creates a new list\n",
    "> containing zeroes where the original list's values were negative\n",
    "> and ones where the origina list's values were positive.\n",
    ">\n",
    "> ~~~\n",
    "> original = [-1.5, 0.2, 0.4, 0.0, -1.3, 0.4]\n",
    "> result = ____\n",
    "> for value in original:\n",
    ">     if ____:\n",
    ">         result.append(0)\n",
    ">     else:\n",
    ">         ____\n",
    "> print(result)\n",
    "> ~~~"
   ]
  },
  {
   "cell_type": "markdown",
   "metadata": {},
   "source": [
    "### Solution"
   ]
  },
  {
   "cell_type": "code",
   "execution_count": 33,
   "metadata": {},
   "outputs": [
    {
     "name": "stdout",
     "output_type": "stream",
     "text": [
      "[0, 1, 1, 1, 0, 1]\n"
     ]
    }
   ],
   "source": [
    "original = [-1.5, 0.2, 0.4, 0.0, -1.3, 0.4]\n",
    "result = []\n",
    "for value in original:\n",
    "    if value < 0:\n",
    "        result.append(0)\n",
    "    else:\n",
    "         result.append(1)\n",
    "print(result)"
   ]
  },
  {
   "cell_type": "markdown",
   "metadata": {},
   "source": [
    "> ## Processing Small Files\n",
    ">\n",
    "> Modify this program so that it only processes files with fewer than 50 records.\n",
    ">\n",
    "> ~~~\n",
    "> import glob\n",
    "> import pandas\n",
    "> for filename in glob.glob('data/*.csv'):\n",
    ">     contents = pandas.read_csv(filename)\n",
    ">     ____:\n",
    ">         print(filename, len(contents))\n",
    "> ~~~\n"
   ]
  },
  {
   "cell_type": "markdown",
   "metadata": {},
   "source": [
    "### Solution"
   ]
  },
  {
   "cell_type": "code",
   "execution_count": 35,
   "metadata": {},
   "outputs": [
    {
     "name": "stdout",
     "output_type": "stream",
     "text": [
      "../gapminder_data\\gapminder_gdp_americas.csv 25\n",
      "../gapminder_data\\gapminder_gdp_asia.csv 33\n",
      "../gapminder_data\\gapminder_gdp_europe.csv 30\n",
      "../gapminder_data\\gapminder_gdp_oceania.csv 2\n"
     ]
    }
   ],
   "source": [
    "import glob\n",
    "import pandas\n",
    "for filename in glob.glob('../gapminder_data/*.csv'):\n",
    "    contents = pandas.read_csv(filename)\n",
    "    if len(contents) < 50:\n",
    "        print(filename, len(contents))"
   ]
  },
  {
   "cell_type": "markdown",
   "metadata": {},
   "source": [
    "> ## Initializing\n",
    ">\n",
    "> Modify this program so that it finds the largest and smallest values in the list\n",
    "> no matter what the range of values originally is.\n",
    ">\n",
    "> ~~~\n",
    "> values = [...some test data...]\n",
    "> smallest, largest = None, None\n",
    "> for v in values:\n",
    ">     if ____:\n",
    ">         smallest, largest = v, v\n",
    ">     ____:\n",
    ">         smallest = min(____, v)\n",
    ">         largest = max(____, v)\n",
    "> print(smallest, lahttp://localhost:8889/notebooks/Python/15-conditionals.ipynb#rgest)\n",
    "> ~~~"
   ]
  },
  {
   "cell_type": "code",
   "execution_count": 36,
   "metadata": {},
   "outputs": [
    {
     "name": "stdout",
     "output_type": "stream",
     "text": [
      "-1.5 0.4\n"
     ]
    }
   ],
   "source": [
    "values = [-1.5, 0.2, 0.4, 0.0, -1.3, 0.4]\n",
    "smallest, largest = None, None\n",
    "for v in values:\n",
    "    if v == values[0]:\n",
    "        smallest, largest = v, v\n",
    "    else:\n",
    "        smallest = min(values[0], v)\n",
    "        largest = max(values[0], v)\n",
    "print(smallest, largest)"
   ]
  },
  {
   "cell_type": "markdown",
   "metadata": {},
   "source": [
    "What are the advantages and disadvantages of using this method to find the range of the data?"
   ]
  },
  {
   "cell_type": "markdown",
   "metadata": {},
   "source": [
    "## Key Points:\n",
    " * Use `if` statements to control whether or not a block of code is executed.\n",
    " * Conditionals are often used inside loops.\n",
    " * Use `else` to execute a block of code when an `if` condition is *not* true.\n",
    " * Use `elif` to specify additional tests.\n",
    " * Conditions are tested once, in order.\n",
    " * Create a table showing updates to variables' values to trace the execution of a program."
   ]
  }
 ],
 "metadata": {
  "kernelspec": {
   "display_name": "Python 3",
   "language": "python",
   "name": "python3"
  },
  "language_info": {
   "codemirror_mode": {
    "name": "ipython",
    "version": 3
   },
   "file_extension": ".py",
   "mimetype": "text/x-python",
   "name": "python",
   "nbconvert_exporter": "python",
   "pygments_lexer": "ipython3",
   "version": "3.6.1"
  }
 },
 "nbformat": 4,
 "nbformat_minor": 2
}
